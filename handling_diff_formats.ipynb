{
  "nbformat": 4,
  "nbformat_minor": 0,
  "metadata": {
    "colab": {
      "private_outputs": true,
      "provenance": [],
      "authorship_tag": "ABX9TyOOrJt7yEGyozAlcsj50tL+"
    },
    "kernelspec": {
      "name": "python3",
      "display_name": "Python 3"
    },
    "language_info": {
      "name": "python"
    }
  },
  "cells": [
    {
      "cell_type": "code",
      "execution_count": null,
      "metadata": {
        "id": "VXY5V00_B_yi"
      },
      "outputs": [],
      "source": [
        "# handaling the different file formats\n",
        "\n",
        "csv\n",
        "xlsx\n",
        "txt\n",
        "pdf\n",
        "json\n",
        "images\n",
        "pptx\n",
        "parquet\n",
        "audio"
      ]
    },
    {
      "cell_type": "code",
      "source": [
        "#  can be loaded using pandas\n",
        "\n",
        "csv\n",
        "xlsx\n",
        "json\n",
        "parquet\n"
      ],
      "metadata": {
        "id": "TVh5JuEyCovJ"
      },
      "execution_count": null,
      "outputs": []
    },
    {
      "cell_type": "markdown",
      "source": [
        "#PDF"
      ],
      "metadata": {
        "id": "nuwsgZtPC3oc"
      }
    },
    {
      "cell_type": "code",
      "source": [
        "# PDF\n",
        "\n",
        "pypdf2\n",
        "pymupdf\n",
        "pdfminer\n",
        "pdfplumber\n",
        "\n"
      ],
      "metadata": {
        "id": "XYHBAxzOCzu1"
      },
      "execution_count": null,
      "outputs": []
    },
    {
      "cell_type": "markdown",
      "source": [
        "#pypdf2"
      ],
      "metadata": {
        "id": "m2sKClllGYXd"
      }
    },
    {
      "cell_type": "code",
      "source": [
        "!pip install pypdf2"
      ],
      "metadata": {
        "id": "tMgzqRgfDHRl"
      },
      "execution_count": null,
      "outputs": []
    },
    {
      "cell_type": "code",
      "source": [
        "from PyPDF2 import PdfReader"
      ],
      "metadata": {
        "id": "lmibq6_-DMZg"
      },
      "execution_count": null,
      "outputs": []
    },
    {
      "cell_type": "code",
      "source": [
        "reader = PdfReader('/content/attention-is-all-you-need-Paper.pdf')"
      ],
      "metadata": {
        "id": "-HZORH5NDYwU"
      },
      "execution_count": null,
      "outputs": []
    },
    {
      "cell_type": "code",
      "source": [
        "page = reader.pages[0]"
      ],
      "metadata": {
        "id": "dhxAgUjzDnAD"
      },
      "execution_count": null,
      "outputs": []
    },
    {
      "cell_type": "code",
      "source": [
        "text = page.extract_text()"
      ],
      "metadata": {
        "id": "EYvvFCREDtyy"
      },
      "execution_count": null,
      "outputs": []
    },
    {
      "cell_type": "code",
      "source": [
        "text"
      ],
      "metadata": {
        "id": "gggBcppIDzdi"
      },
      "execution_count": null,
      "outputs": []
    },
    {
      "cell_type": "code",
      "source": [
        "with open('text.txt','a') as f:\n",
        "\n",
        "  for p in range(len(reader.pages)):\n",
        "    page = reader.pages[p]\n",
        "    text =page.extract_text()\n",
        "    f.write(text)\n",
        "\n"
      ],
      "metadata": {
        "id": "CR1Lrp-JD1gy"
      },
      "execution_count": null,
      "outputs": []
    },
    {
      "cell_type": "markdown",
      "source": [
        "#pymupdf"
      ],
      "metadata": {
        "id": "VnFUuGlSGUIc"
      }
    },
    {
      "cell_type": "code",
      "source": [
        "!pip install pymupdf"
      ],
      "metadata": {
        "id": "sAFvM2w3FQgE"
      },
      "execution_count": null,
      "outputs": []
    },
    {
      "cell_type": "code",
      "source": [
        "import fitz"
      ],
      "metadata": {
        "id": "4WQrj6XOGSyW"
      },
      "execution_count": null,
      "outputs": []
    },
    {
      "cell_type": "code",
      "source": [
        "read = fitz.open('/content/attention-is-all-you-need-Paper.pdf')"
      ],
      "metadata": {
        "id": "1-C0eKE3Gfmk"
      },
      "execution_count": null,
      "outputs": []
    },
    {
      "cell_type": "code",
      "source": [
        "with open('text_pymupdf.txt','a') as f:\n",
        "\n",
        "  for page in read:\n",
        "    text = page.get_text()\n",
        "    f.write(text)"
      ],
      "metadata": {
        "id": "n-iUvslbGlmD"
      },
      "execution_count": null,
      "outputs": []
    },
    {
      "cell_type": "markdown",
      "source": [
        "# pdfminer"
      ],
      "metadata": {
        "id": "kY18LOEHH_Qh"
      }
    },
    {
      "cell_type": "code",
      "source": [
        "!pip install pdfminer.six"
      ],
      "metadata": {
        "id": "iFUxkK3lHkr3"
      },
      "execution_count": null,
      "outputs": []
    },
    {
      "cell_type": "code",
      "source": [
        "from pdfminer.high_level import extract_text"
      ],
      "metadata": {
        "id": "u2l5GrjwIIpl"
      },
      "execution_count": null,
      "outputs": []
    },
    {
      "cell_type": "code",
      "source": [
        "with open('/content/attention-is-all-you-need-Paper.pdf','rb') as pdf:\n",
        "  text = extract_text(pdf)"
      ],
      "metadata": {
        "id": "Si-B4fRgIfdK"
      },
      "execution_count": null,
      "outputs": []
    },
    {
      "cell_type": "code",
      "source": [
        "with open('text_pdfminer.txt', 'a') as f:\n",
        "  f.write(text)"
      ],
      "metadata": {
        "id": "D2vpa4cbJdWf"
      },
      "execution_count": null,
      "outputs": []
    },
    {
      "cell_type": "code",
      "source": [
        "text"
      ],
      "metadata": {
        "id": "8lMeE-nQJJlE"
      },
      "execution_count": null,
      "outputs": []
    },
    {
      "cell_type": "markdown",
      "source": [
        "# pdfplumber"
      ],
      "metadata": {
        "id": "pszz3k4EKMV8"
      }
    },
    {
      "cell_type": "code",
      "source": [
        "!pip install pdfplumber"
      ],
      "metadata": {
        "id": "CROy6WjHJUCz"
      },
      "execution_count": null,
      "outputs": []
    },
    {
      "cell_type": "code",
      "source": [
        "import pdfplumber"
      ],
      "metadata": {
        "id": "TMmC_FgkKSJ0"
      },
      "execution_count": null,
      "outputs": []
    },
    {
      "cell_type": "code",
      "source": [
        "with pdfplumber.open('/content/attention-is-all-you-need-Paper.pdf') as pdf:\n",
        "  pages = pdf.pages\n",
        "\n",
        "  pdf_text = \"\"\n",
        "  for page in pages:\n",
        "    text = page.extract_text()\n",
        "    pdf_text += text\n",
        "\n",
        ""
      ],
      "metadata": {
        "id": "DEnCzh8iKWkD"
      },
      "execution_count": null,
      "outputs": []
    },
    {
      "cell_type": "code",
      "source": [
        "with open('text_pdfplumber.txt', 'a') as f:\n",
        "  f.write(pdf_text)"
      ],
      "metadata": {
        "id": "f-tG_9SfLAdg"
      },
      "execution_count": null,
      "outputs": []
    },
    {
      "cell_type": "markdown",
      "source": [
        "# pdf to image"
      ],
      "metadata": {
        "id": "ORGbEB1yMqoG"
      }
    },
    {
      "cell_type": "code",
      "source": [
        "!apt-get install poppler-utils\n",
        "!pip install pdf2image"
      ],
      "metadata": {
        "id": "BEioPWNDL7bm"
      },
      "execution_count": null,
      "outputs": []
    },
    {
      "cell_type": "code",
      "source": [
        "from pdf2image import convert_from_path"
      ],
      "metadata": {
        "id": "Rj8llEQuM5AR"
      },
      "execution_count": null,
      "outputs": []
    },
    {
      "cell_type": "code",
      "source": [
        "imgs = convert_from_path('/content/scansmpl.pdf')"
      ],
      "metadata": {
        "id": "Np_y-AmvNHbe"
      },
      "execution_count": null,
      "outputs": []
    },
    {
      "cell_type": "code",
      "source": [
        "for img in range(len(imgs)):\n",
        "  imgs[img].save(f'/content/img{img}.jpg',\"JPEG\")"
      ],
      "metadata": {
        "id": "1Q9w0etdNN5W"
      },
      "execution_count": null,
      "outputs": []
    },
    {
      "cell_type": "markdown",
      "source": [
        "# OCR"
      ],
      "metadata": {
        "id": "ra4_ZteSN037"
      }
    },
    {
      "cell_type": "code",
      "source": [
        "# pytesseract\n",
        "# easyocr\n",
        "# paddleocr"
      ],
      "metadata": {
        "id": "M37-RbExNrvB"
      },
      "execution_count": null,
      "outputs": []
    },
    {
      "cell_type": "code",
      "source": [
        "!apt install tesseract-ocr\n",
        "!pip install pytesseract"
      ],
      "metadata": {
        "id": "YMkn_1JyOCd5"
      },
      "execution_count": null,
      "outputs": []
    },
    {
      "cell_type": "code",
      "source": [
        "import pytesseract"
      ],
      "metadata": {
        "id": "dKms1ckUOKvG"
      },
      "execution_count": null,
      "outputs": []
    },
    {
      "cell_type": "code",
      "source": [
        "import cv2"
      ],
      "metadata": {
        "id": "3xV9986dOP9G"
      },
      "execution_count": null,
      "outputs": []
    },
    {
      "cell_type": "code",
      "source": [
        "pytesseract.pytesseract.tesseract_cmd = (r'/bin/tesseract') # for colab only"
      ],
      "metadata": {
        "id": "TeciQ48vORZ2"
      },
      "execution_count": null,
      "outputs": []
    },
    {
      "cell_type": "code",
      "source": [
        "img = cv2.imread('/content/img0.jpg')\n",
        "\n",
        "text = pytesseract.image_to_string(img)"
      ],
      "metadata": {
        "id": "5bgt2MwfOi0R"
      },
      "execution_count": null,
      "outputs": []
    },
    {
      "cell_type": "code",
      "source": [
        "text"
      ],
      "metadata": {
        "id": "Vt6AQURdOweG"
      },
      "execution_count": null,
      "outputs": []
    },
    {
      "cell_type": "code",
      "source": [
        "with open('text_pytesseract.txt', 'a') as f:\n",
        "  f.write(text)"
      ],
      "metadata": {
        "id": "jjpF-DTgOzkm"
      },
      "execution_count": null,
      "outputs": []
    },
    {
      "cell_type": "code",
      "source": [
        "text = pytesseract.image_to_string(img, config='--psm 4')"
      ],
      "metadata": {
        "id": "KHoNhXPNPBoX"
      },
      "execution_count": null,
      "outputs": []
    },
    {
      "cell_type": "code",
      "source": [
        "text"
      ],
      "metadata": {
        "id": "clL2xwa0Pnti"
      },
      "execution_count": null,
      "outputs": []
    },
    {
      "cell_type": "markdown",
      "source": [
        "# easy OCR"
      ],
      "metadata": {
        "id": "J3rSYUsGPtfB"
      }
    },
    {
      "cell_type": "code",
      "source": [
        "!pip install easyocr"
      ],
      "metadata": {
        "id": "NAZPbAUMPpzH"
      },
      "execution_count": null,
      "outputs": []
    },
    {
      "cell_type": "code",
      "source": [
        "import easyocr"
      ],
      "metadata": {
        "id": "3pS1YXY_PzVn"
      },
      "execution_count": null,
      "outputs": []
    },
    {
      "cell_type": "code",
      "source": [
        "reader = easyocr.Reader(['en'])"
      ],
      "metadata": {
        "id": "GS96dSBzP5RZ"
      },
      "execution_count": null,
      "outputs": []
    },
    {
      "cell_type": "code",
      "source": [
        "text = reader.readtext(img, paragraph = True)"
      ],
      "metadata": {
        "id": "oXj_W908QMm4"
      },
      "execution_count": null,
      "outputs": []
    },
    {
      "cell_type": "code",
      "source": [
        "text[0][1]"
      ],
      "metadata": {
        "id": "YKyQzd-EQYt-"
      },
      "execution_count": null,
      "outputs": []
    },
    {
      "cell_type": "code",
      "source": [
        "for val in text:\n",
        "  print(val[1])"
      ],
      "metadata": {
        "id": "FBBOgRJzQsgp"
      },
      "execution_count": null,
      "outputs": []
    },
    {
      "cell_type": "markdown",
      "source": [
        "# paddle ocr"
      ],
      "metadata": {
        "id": "AFQTzctDRzlg"
      }
    },
    {
      "cell_type": "code",
      "source": [
        "!pip install paddlepaddle paddleocr"
      ],
      "metadata": {
        "collapsed": true,
        "id": "HA5_D3dVQ9By"
      },
      "execution_count": null,
      "outputs": []
    },
    {
      "cell_type": "code",
      "source": [
        "from paddleocr import PaddleOCR"
      ],
      "metadata": {
        "id": "KdMhUeAASDnk"
      },
      "execution_count": null,
      "outputs": []
    },
    {
      "cell_type": "code",
      "source": [
        "ocr_obj = PaddleOCR(lang='en')"
      ],
      "metadata": {
        "collapsed": true,
        "id": "P7x8YLsgSWZj"
      },
      "execution_count": null,
      "outputs": []
    },
    {
      "cell_type": "code",
      "source": [
        "text = ocr_obj.ocr('/content/img0.jpg')\n"
      ],
      "metadata": {
        "collapsed": true,
        "id": "rXnC-uCnSfGo"
      },
      "execution_count": null,
      "outputs": []
    },
    {
      "cell_type": "code",
      "source": [
        "text[0][0]"
      ],
      "metadata": {
        "collapsed": true,
        "id": "pJcyok9SSseo"
      },
      "execution_count": null,
      "outputs": []
    },
    {
      "cell_type": "code",
      "source": [
        "for val in text[0]:\n",
        "  print(val[1][0])"
      ],
      "metadata": {
        "id": "G9qLQMf1Sxjc"
      },
      "execution_count": null,
      "outputs": []
    },
    {
      "cell_type": "markdown",
      "source": [
        "# Hand written"
      ],
      "metadata": {
        "id": "f6lsO4y3TfvR"
      }
    },
    {
      "cell_type": "code",
      "source": [
        "import cv2"
      ],
      "metadata": {
        "id": "BIVApnokS804"
      },
      "execution_count": null,
      "outputs": []
    },
    {
      "cell_type": "code",
      "source": [
        "img = cv2.imread('/content/img1.jpg')"
      ],
      "metadata": {
        "id": "ry3h26DpTlY7"
      },
      "execution_count": null,
      "outputs": []
    },
    {
      "cell_type": "code",
      "source": [
        "text = pytesseract.image_to_string(img)\n",
        "\n",
        "text"
      ],
      "metadata": {
        "id": "P5ovDbk3UjHE"
      },
      "execution_count": null,
      "outputs": []
    },
    {
      "cell_type": "code",
      "source": [
        "text = reader.readtext(img, paragraph = True)\n",
        "\n",
        "for val in text:\n",
        "  print(val[1])"
      ],
      "metadata": {
        "id": "fDNb7rlnUtCb"
      },
      "execution_count": null,
      "outputs": []
    },
    {
      "cell_type": "code",
      "source": [
        "text = ocr_obj.ocr('/content/img1.jpg')"
      ],
      "metadata": {
        "id": "y4mCNnbLU715"
      },
      "execution_count": null,
      "outputs": []
    },
    {
      "cell_type": "code",
      "source": [
        "for val in text[0]:\n",
        "  print(val[1][0])"
      ],
      "metadata": {
        "id": "kAHh_puRVhIH"
      },
      "execution_count": null,
      "outputs": []
    },
    {
      "cell_type": "code",
      "source": [
        "text = ocr_obj.ocr('/content/images2.jfif')\n",
        "\n",
        "for val in text[0]:\n",
        "  print(val[1][0])"
      ],
      "metadata": {
        "id": "6j4erW5JVpzp"
      },
      "execution_count": null,
      "outputs": []
    },
    {
      "cell_type": "code",
      "source": [
        "text = ocr_obj.ocr('/content/img3.png')\n",
        "\n",
        "for val in text[0]:\n",
        "  print(val[1][0])"
      ],
      "metadata": {
        "id": "CzyUx8atWkxr"
      },
      "execution_count": null,
      "outputs": []
    }
  ]
}