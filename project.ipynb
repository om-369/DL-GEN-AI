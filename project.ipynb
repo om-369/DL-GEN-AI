{
  "metadata": {
    "colab": {
      "provenance": []
    },
    "kernelspec": {
      "name": "python3",
      "display_name": "Python 3",
      "language": "python"
    },
    "language_info": {
      "name": "python",
      "version": "3.10.13",
      "mimetype": "text/x-python",
      "codemirror_mode": {
        "name": "ipython",
        "version": 3
      },
      "pygments_lexer": "ipython3",
      "nbconvert_exporter": "python",
      "file_extension": ".py"
    },
    "kaggle": {
      "accelerator": "nvidiaTeslaT4",
      "dataSources": [
        {
          "sourceId": 7716145,
          "sourceType": "datasetVersion",
          "datasetId": 4506408
        }
      ],
      "dockerImageVersionId": 30665,
      "isInternetEnabled": true,
      "language": "python",
      "sourceType": "notebook",
      "isGpuEnabled": true
    }
  },
  "nbformat_minor": 0,
  "nbformat": 4,
  "cells": [
    {
      "cell_type": "code",
      "source": [
        "# /content/drive/MyDrive/NLP and Gen-AI 13 Jan 24  /Daily Class Notes/24_02_27_Project/complaints.csv"
      ],
      "metadata": {
        "id": "jGEYMWFGMO-8"
      },
      "execution_count": null,
      "outputs": []
    },
    {
      "cell_type": "code",
      "source": [
        "#Virtual env\n",
        "\n",
        "# .env\n",
        "\n",
        "# .py vs .ipynb\n",
        "\n",
        "# How to debug code in vs code"
      ],
      "metadata": {
        "id": "eazL_68GMp3V"
      },
      "execution_count": null,
      "outputs": []
    },
    {
      "cell_type": "code",
      "source": [
        "data\n",
        "\n",
        "models\n",
        "\n",
        "notebooks\n",
        "\n",
        "output\n",
        "\n",
        "reports\n",
        "\n",
        "src/core/app"
      ],
      "metadata": {
        "id": "YoBrtfXVOd6M"
      },
      "execution_count": null,
      "outputs": []
    },
    {
      "cell_type": "code",
      "source": [
        "Step 1 : Understand problem (in a business point of view)"
      ],
      "metadata": {
        "id": "Wje8-0epQs6S"
      },
      "execution_count": null,
      "outputs": []
    },
    {
      "cell_type": "code",
      "source": [
        "cfbc :\n",
        "The Consumer Financial Protection Bureau is an independent agency of the United States\n",
        "government responsible for consumer protection in the financial sector."
      ],
      "metadata": {
        "id": "CEG3oeINQ7vc"
      },
      "execution_count": null,
      "outputs": []
    },
    {
      "cell_type": "code",
      "source": [
        "step 2 : Understand problem (in a technical/nlp point of view)"
      ],
      "metadata": {
        "id": "IDoPZutZSGf3"
      },
      "execution_count": null,
      "outputs": []
    },
    {
      "cell_type": "code",
      "source": [
        "it is a classification  --> multi-class classification\n",
        "text classification\n"
      ],
      "metadata": {
        "id": "VpBMy2dhSONN"
      },
      "execution_count": null,
      "outputs": []
    },
    {
      "cell_type": "code",
      "source": [
        "from datetime import time\n",
        "## Factor to consider\n",
        "how much data we have\n",
        "format of data\n",
        "time\n",
        "computational resources\n",
        "how much control over output needed. : explainability\n"
      ],
      "metadata": {
        "id": "DzmiT3orUX8c",
        "execution": {
          "iopub.status.busy": "2024-02-28T22:45:45.755464Z",
          "iopub.status.idle": "2024-02-28T22:45:45.755798Z",
          "shell.execute_reply.started": "2024-02-28T22:45:45.755630Z",
          "shell.execute_reply": "2024-02-28T22:45:45.755643Z"
        },
        "trusted": true
      },
      "execution_count": null,
      "outputs": []
    },
    {
      "cell_type": "code",
      "source": [],
      "metadata": {
        "id": "E9V9SawdSOQp"
      },
      "execution_count": null,
      "outputs": []
    },
    {
      "cell_type": "code",
      "source": [
        "#NLP Project lifecycle\n",
        "1) Data gathering :\n",
        "\n",
        "# client database : MongoDB\n",
        "\n"
      ],
      "metadata": {
        "id": "MBfInRZSVogZ"
      },
      "execution_count": null,
      "outputs": []
    },
    {
      "cell_type": "code",
      "source": [
        "import numpy as np\n",
        "import pandas as pd"
      ],
      "metadata": {
        "id": "tGh5dFxbOd8K",
        "execution": {
          "iopub.status.busy": "2024-02-28T22:45:59.212130Z",
          "iopub.execute_input": "2024-02-28T22:45:59.212504Z",
          "iopub.status.idle": "2024-02-28T22:45:59.570739Z",
          "shell.execute_reply.started": "2024-02-28T22:45:59.212475Z",
          "shell.execute_reply": "2024-02-28T22:45:59.569626Z"
        },
        "trusted": true
      },
      "execution_count": null,
      "outputs": []
    },
    {
      "cell_type": "code",
      "source": [
        "df = pd.read_csv(\"/kaggle/input/complaints-cfpi/complaints.csv\")"
      ],
      "metadata": {
        "id": "64BRksFjOd_v",
        "execution": {
          "iopub.status.busy": "2024-02-28T22:46:00.294159Z",
          "iopub.execute_input": "2024-02-28T22:46:00.294673Z",
          "iopub.status.idle": "2024-02-28T22:46:30.766462Z",
          "shell.execute_reply.started": "2024-02-28T22:46:00.294636Z",
          "shell.execute_reply": "2024-02-28T22:46:30.765496Z"
        },
        "trusted": true
      },
      "execution_count": null,
      "outputs": []
    },
    {
      "cell_type": "code",
      "source": [
        "df.shape"
      ],
      "metadata": {
        "colab": {
          "base_uri": "https://localhost:8080/"
        },
        "id": "C6TARTWyQfs8",
        "outputId": "2876d8de-1bdc-48d7-d3ca-2aa8d990a567",
        "execution": {
          "iopub.status.busy": "2024-02-28T22:46:30.768096Z",
          "iopub.execute_input": "2024-02-28T22:46:30.768421Z",
          "iopub.status.idle": "2024-02-28T22:46:30.775279Z",
          "shell.execute_reply.started": "2024-02-28T22:46:30.768395Z",
          "shell.execute_reply": "2024-02-28T22:46:30.774229Z"
        },
        "trusted": true
      },
      "execution_count": null,
      "outputs": [
        {
          "execution_count": 17,
          "output_type": "execute_result",
          "data": {
            "text/plain": "(2326246, 18)"
          },
          "metadata": {}
        }
      ]
    },
    {
      "cell_type": "code",
      "source": [
        "df.head(5)"
      ],
      "metadata": {
        "colab": {
          "base_uri": "https://localhost:8080/",
          "height": 712
        },
        "id": "NHJ6X3PPZxD-",
        "outputId": "5912276c-2f93-46fe-a8aa-d3e2bddef01f",
        "execution": {
          "iopub.status.busy": "2024-02-28T22:46:30.776611Z",
          "iopub.execute_input": "2024-02-28T22:46:30.776939Z",
          "iopub.status.idle": "2024-02-28T22:46:30.810187Z",
          "shell.execute_reply.started": "2024-02-28T22:46:30.776906Z",
          "shell.execute_reply": "2024-02-28T22:46:30.809204Z"
        },
        "trusted": true
      },
      "execution_count": null,
      "outputs": [
        {
          "execution_count": 18,
          "output_type": "execute_result",
          "data": {
            "text/plain": "  Date received                                            Product  \\\n0    2019-06-13  Credit reporting, credit repair services, or o...   \n1    2019-11-01                              Vehicle loan or lease   \n2    2019-04-01  Credit reporting, credit repair services, or o...   \n3    2021-11-01  Credit reporting, credit repair services, or o...   \n4    2021-11-02                                    Debt collection   \n\n        Sub-product                                              Issue  \\\n0  Credit reporting               Incorrect information on your report   \n1              Loan                        Struggling to pay your loan   \n2  Credit reporting               Incorrect information on your report   \n3  Credit reporting  Problem with a credit reporting company's inve...   \n4      Medical debt  Took or threatened to take negative or legal a...   \n\n                                           Sub-issue  \\\n0                Information belongs to someone else   \n1                   Denied request to lower payments   \n2                           Account status incorrect   \n3  Was not notified of investigation status or re...   \n4  Threatened or suggested your credit would be d...   \n\n                        Consumer complaint narrative  \\\n0                                                NaN   \n1  I contacted Ally on Friday XX/XX/XXXX after fa...   \n2                                                NaN   \n3                                                NaN   \n4                                                NaN   \n\n                             Company public response  \\\n0                                                NaN   \n1  Company has responded to the consumer and the ...   \n2  Company has responded to the consumer and the ...   \n3                                                NaN   \n4                                                NaN   \n\n                                  Company State ZIP code Tags  \\\n0       CAPITAL ONE FINANCIAL CORPORATION    PA    186XX  NaN   \n1                     ALLY FINANCIAL INC.    NJ    088XX  NaN   \n2  TRANSUNION INTERMEDIATE HOLDINGS, INC.    PA    19067  NaN   \n3  TRANSUNION INTERMEDIATE HOLDINGS, INC.    GA    31707  NaN   \n4              Medical Data Systems, Inc.    VA    22033  NaN   \n\n  Consumer consent provided? Submitted via Date sent to company  \\\n0       Consent not provided           Web           2019-06-13   \n1           Consent provided           Web           2019-11-01   \n2       Consent not provided           Web           2019-04-01   \n3                        NaN           Web           2021-11-01   \n4                        NaN           Web           2021-11-02   \n\n  Company response to consumer Timely response? Consumer disputed?  \\\n0      Closed with explanation              Yes                NaN   \n1      Closed with explanation              Yes                NaN   \n2      Closed with explanation              Yes                NaN   \n3                  In progress              Yes                NaN   \n4                  In progress              Yes                NaN   \n\n   Complaint ID  \n0       3274605  \n1       3425257  \n2       3198225  \n3       4863965  \n4       4866449  ",
            "text/html": "<div>\n<style scoped>\n    .dataframe tbody tr th:only-of-type {\n        vertical-align: middle;\n    }\n\n    .dataframe tbody tr th {\n        vertical-align: top;\n    }\n\n    .dataframe thead th {\n        text-align: right;\n    }\n</style>\n<table border=\"1\" class=\"dataframe\">\n  <thead>\n    <tr style=\"text-align: right;\">\n      <th></th>\n      <th>Date received</th>\n      <th>Product</th>\n      <th>Sub-product</th>\n      <th>Issue</th>\n      <th>Sub-issue</th>\n      <th>Consumer complaint narrative</th>\n      <th>Company public response</th>\n      <th>Company</th>\n      <th>State</th>\n      <th>ZIP code</th>\n      <th>Tags</th>\n      <th>Consumer consent provided?</th>\n      <th>Submitted via</th>\n      <th>Date sent to company</th>\n      <th>Company response to consumer</th>\n      <th>Timely response?</th>\n      <th>Consumer disputed?</th>\n      <th>Complaint ID</th>\n    </tr>\n  </thead>\n  <tbody>\n    <tr>\n      <th>0</th>\n      <td>2019-06-13</td>\n      <td>Credit reporting, credit repair services, or o...</td>\n      <td>Credit reporting</td>\n      <td>Incorrect information on your report</td>\n      <td>Information belongs to someone else</td>\n      <td>NaN</td>\n      <td>NaN</td>\n      <td>CAPITAL ONE FINANCIAL CORPORATION</td>\n      <td>PA</td>\n      <td>186XX</td>\n      <td>NaN</td>\n      <td>Consent not provided</td>\n      <td>Web</td>\n      <td>2019-06-13</td>\n      <td>Closed with explanation</td>\n      <td>Yes</td>\n      <td>NaN</td>\n      <td>3274605</td>\n    </tr>\n    <tr>\n      <th>1</th>\n      <td>2019-11-01</td>\n      <td>Vehicle loan or lease</td>\n      <td>Loan</td>\n      <td>Struggling to pay your loan</td>\n      <td>Denied request to lower payments</td>\n      <td>I contacted Ally on Friday XX/XX/XXXX after fa...</td>\n      <td>Company has responded to the consumer and the ...</td>\n      <td>ALLY FINANCIAL INC.</td>\n      <td>NJ</td>\n      <td>088XX</td>\n      <td>NaN</td>\n      <td>Consent provided</td>\n      <td>Web</td>\n      <td>2019-11-01</td>\n      <td>Closed with explanation</td>\n      <td>Yes</td>\n      <td>NaN</td>\n      <td>3425257</td>\n    </tr>\n    <tr>\n      <th>2</th>\n      <td>2019-04-01</td>\n      <td>Credit reporting, credit repair services, or o...</td>\n      <td>Credit reporting</td>\n      <td>Incorrect information on your report</td>\n      <td>Account status incorrect</td>\n      <td>NaN</td>\n      <td>Company has responded to the consumer and the ...</td>\n      <td>TRANSUNION INTERMEDIATE HOLDINGS, INC.</td>\n      <td>PA</td>\n      <td>19067</td>\n      <td>NaN</td>\n      <td>Consent not provided</td>\n      <td>Web</td>\n      <td>2019-04-01</td>\n      <td>Closed with explanation</td>\n      <td>Yes</td>\n      <td>NaN</td>\n      <td>3198225</td>\n    </tr>\n    <tr>\n      <th>3</th>\n      <td>2021-11-01</td>\n      <td>Credit reporting, credit repair services, or o...</td>\n      <td>Credit reporting</td>\n      <td>Problem with a credit reporting company's inve...</td>\n      <td>Was not notified of investigation status or re...</td>\n      <td>NaN</td>\n      <td>NaN</td>\n      <td>TRANSUNION INTERMEDIATE HOLDINGS, INC.</td>\n      <td>GA</td>\n      <td>31707</td>\n      <td>NaN</td>\n      <td>NaN</td>\n      <td>Web</td>\n      <td>2021-11-01</td>\n      <td>In progress</td>\n      <td>Yes</td>\n      <td>NaN</td>\n      <td>4863965</td>\n    </tr>\n    <tr>\n      <th>4</th>\n      <td>2021-11-02</td>\n      <td>Debt collection</td>\n      <td>Medical debt</td>\n      <td>Took or threatened to take negative or legal a...</td>\n      <td>Threatened or suggested your credit would be d...</td>\n      <td>NaN</td>\n      <td>NaN</td>\n      <td>Medical Data Systems, Inc.</td>\n      <td>VA</td>\n      <td>22033</td>\n      <td>NaN</td>\n      <td>NaN</td>\n      <td>Web</td>\n      <td>2021-11-02</td>\n      <td>In progress</td>\n      <td>Yes</td>\n      <td>NaN</td>\n      <td>4866449</td>\n    </tr>\n  </tbody>\n</table>\n</div>"
          },
          "metadata": {}
        }
      ]
    },
    {
      "cell_type": "code",
      "source": [
        "df = df[[\"Product\", \"Consumer complaint narrative\"]]"
      ],
      "metadata": {
        "id": "ICGZsSLUZ2GF",
        "execution": {
          "iopub.status.busy": "2024-02-28T22:46:30.812801Z",
          "iopub.execute_input": "2024-02-28T22:46:30.813660Z",
          "iopub.status.idle": "2024-02-28T22:46:30.896343Z",
          "shell.execute_reply.started": "2024-02-28T22:46:30.813623Z",
          "shell.execute_reply": "2024-02-28T22:46:30.895153Z"
        },
        "trusted": true
      },
      "execution_count": null,
      "outputs": []
    },
    {
      "cell_type": "code",
      "source": [
        "df.shape"
      ],
      "metadata": {
        "colab": {
          "base_uri": "https://localhost:8080/"
        },
        "id": "ZMVGDtnLaWNH",
        "outputId": "e68f388b-6b49-4107-9c77-00260be8417c",
        "execution": {
          "iopub.status.busy": "2024-02-28T22:46:30.897767Z",
          "iopub.execute_input": "2024-02-28T22:46:30.898667Z",
          "iopub.status.idle": "2024-02-28T22:46:30.909044Z",
          "shell.execute_reply.started": "2024-02-28T22:46:30.898623Z",
          "shell.execute_reply": "2024-02-28T22:46:30.908066Z"
        },
        "trusted": true
      },
      "execution_count": null,
      "outputs": [
        {
          "execution_count": 20,
          "output_type": "execute_result",
          "data": {
            "text/plain": "(2326246, 2)"
          },
          "metadata": {}
        }
      ]
    },
    {
      "cell_type": "code",
      "source": [
        "df.head(5)"
      ],
      "metadata": {
        "colab": {
          "base_uri": "https://localhost:8080/",
          "height": 206
        },
        "id": "Ugmm3HONabdt",
        "outputId": "ca8bdf6c-ba9c-4857-ff83-84f2d4d4d548",
        "execution": {
          "iopub.status.busy": "2024-02-28T22:46:30.910042Z",
          "iopub.execute_input": "2024-02-28T22:46:30.910337Z",
          "iopub.status.idle": "2024-02-28T22:46:30.923519Z",
          "shell.execute_reply.started": "2024-02-28T22:46:30.910312Z",
          "shell.execute_reply": "2024-02-28T22:46:30.922525Z"
        },
        "trusted": true
      },
      "execution_count": null,
      "outputs": [
        {
          "execution_count": 21,
          "output_type": "execute_result",
          "data": {
            "text/plain": "                                             Product  \\\n0  Credit reporting, credit repair services, or o...   \n1                              Vehicle loan or lease   \n2  Credit reporting, credit repair services, or o...   \n3  Credit reporting, credit repair services, or o...   \n4                                    Debt collection   \n\n                        Consumer complaint narrative  \n0                                                NaN  \n1  I contacted Ally on Friday XX/XX/XXXX after fa...  \n2                                                NaN  \n3                                                NaN  \n4                                                NaN  ",
            "text/html": "<div>\n<style scoped>\n    .dataframe tbody tr th:only-of-type {\n        vertical-align: middle;\n    }\n\n    .dataframe tbody tr th {\n        vertical-align: top;\n    }\n\n    .dataframe thead th {\n        text-align: right;\n    }\n</style>\n<table border=\"1\" class=\"dataframe\">\n  <thead>\n    <tr style=\"text-align: right;\">\n      <th></th>\n      <th>Product</th>\n      <th>Consumer complaint narrative</th>\n    </tr>\n  </thead>\n  <tbody>\n    <tr>\n      <th>0</th>\n      <td>Credit reporting, credit repair services, or o...</td>\n      <td>NaN</td>\n    </tr>\n    <tr>\n      <th>1</th>\n      <td>Vehicle loan or lease</td>\n      <td>I contacted Ally on Friday XX/XX/XXXX after fa...</td>\n    </tr>\n    <tr>\n      <th>2</th>\n      <td>Credit reporting, credit repair services, or o...</td>\n      <td>NaN</td>\n    </tr>\n    <tr>\n      <th>3</th>\n      <td>Credit reporting, credit repair services, or o...</td>\n      <td>NaN</td>\n    </tr>\n    <tr>\n      <th>4</th>\n      <td>Debt collection</td>\n      <td>NaN</td>\n    </tr>\n  </tbody>\n</table>\n</div>"
          },
          "metadata": {}
        }
      ]
    },
    {
      "cell_type": "code",
      "source": [
        "df.isna().sum()"
      ],
      "metadata": {
        "colab": {
          "base_uri": "https://localhost:8080/"
        },
        "id": "NXVkCOHjafZi",
        "outputId": "0981be70-3763-4874-ac21-080cad82116d",
        "execution": {
          "iopub.status.busy": "2024-02-28T22:46:30.924694Z",
          "iopub.execute_input": "2024-02-28T22:46:30.924996Z",
          "iopub.status.idle": "2024-02-28T22:46:31.373052Z",
          "shell.execute_reply.started": "2024-02-28T22:46:30.924971Z",
          "shell.execute_reply": "2024-02-28T22:46:31.371939Z"
        },
        "trusted": true
      },
      "execution_count": null,
      "outputs": [
        {
          "execution_count": 22,
          "output_type": "execute_result",
          "data": {
            "text/plain": "Product                               0\nConsumer complaint narrative    1516903\ndtype: int64"
          },
          "metadata": {}
        }
      ]
    },
    {
      "cell_type": "code",
      "source": [
        "df.isna().sum()/len(df)*100"
      ],
      "metadata": {
        "colab": {
          "base_uri": "https://localhost:8080/"
        },
        "id": "wOiPBBBManNO",
        "outputId": "b1ac3f92-7540-4080-a72a-fdbb0723d639",
        "execution": {
          "iopub.status.busy": "2024-02-28T22:46:31.375137Z",
          "iopub.execute_input": "2024-02-28T22:46:31.375442Z",
          "iopub.status.idle": "2024-02-28T22:46:31.805276Z",
          "shell.execute_reply.started": "2024-02-28T22:46:31.375418Z",
          "shell.execute_reply": "2024-02-28T22:46:31.804199Z"
        },
        "trusted": true
      },
      "execution_count": null,
      "outputs": [
        {
          "execution_count": 23,
          "output_type": "execute_result",
          "data": {
            "text/plain": "Product                          0.000000\nConsumer complaint narrative    65.208194\ndtype: float64"
          },
          "metadata": {}
        }
      ]
    },
    {
      "cell_type": "code",
      "source": [
        "# ## Potential solutions\n",
        "# Data augmentation on same target(product) name\n",
        "\n",
        "# generate data using llm's (chatgpt)\n",
        "\n",
        "# drop na"
      ],
      "metadata": {
        "id": "uEvAGCwVaukJ"
      },
      "execution_count": null,
      "outputs": []
    },
    {
      "cell_type": "code",
      "source": [
        "# #we chose dropna\n",
        "# even after dropping we'll have 809343 rows, that will be enough\n",
        "\n",
        "# around 65% data is null, if we generate all data model might overfit to generated data"
      ],
      "metadata": {
        "id": "IHD3n0ejcWsN"
      },
      "execution_count": null,
      "outputs": []
    },
    {
      "cell_type": "code",
      "source": [
        "2326246 - 1516903"
      ],
      "metadata": {
        "colab": {
          "base_uri": "https://localhost:8080/"
        },
        "id": "ReihS8Lka13y",
        "outputId": "d10d7e4f-9dab-4c28-984e-3b409353680c",
        "execution": {
          "iopub.status.busy": "2024-02-28T14:20:48.387098Z",
          "iopub.execute_input": "2024-02-28T14:20:48.387405Z",
          "iopub.status.idle": "2024-02-28T14:20:48.393828Z",
          "shell.execute_reply.started": "2024-02-28T14:20:48.387379Z",
          "shell.execute_reply": "2024-02-28T14:20:48.392789Z"
        },
        "trusted": true
      },
      "execution_count": null,
      "outputs": [
        {
          "execution_count": 12,
          "output_type": "execute_result",
          "data": {
            "text/plain": "809343"
          },
          "metadata": {}
        }
      ]
    },
    {
      "cell_type": "code",
      "source": [
        "df = df.dropna()"
      ],
      "metadata": {
        "id": "b60nOJrMa16D",
        "execution": {
          "iopub.status.busy": "2024-02-28T22:46:39.359079Z",
          "iopub.execute_input": "2024-02-28T22:46:39.359425Z",
          "iopub.status.idle": "2024-02-28T22:46:39.854812Z",
          "shell.execute_reply.started": "2024-02-28T22:46:39.359399Z",
          "shell.execute_reply": "2024-02-28T22:46:39.854001Z"
        },
        "trusted": true
      },
      "execution_count": null,
      "outputs": []
    },
    {
      "cell_type": "code",
      "source": [
        "df.shape"
      ],
      "metadata": {
        "colab": {
          "base_uri": "https://localhost:8080/"
        },
        "id": "NaA6dIYta19f",
        "outputId": "cd2b12aa-8d68-4405-c45b-e5ef64dfcc9f",
        "execution": {
          "iopub.status.busy": "2024-02-28T22:46:39.856658Z",
          "iopub.execute_input": "2024-02-28T22:46:39.857036Z",
          "iopub.status.idle": "2024-02-28T22:46:39.863692Z",
          "shell.execute_reply.started": "2024-02-28T22:46:39.857003Z",
          "shell.execute_reply": "2024-02-28T22:46:39.862648Z"
        },
        "trusted": true
      },
      "execution_count": null,
      "outputs": [
        {
          "execution_count": 25,
          "output_type": "execute_result",
          "data": {
            "text/plain": "(809343, 2)"
          },
          "metadata": {}
        }
      ]
    },
    {
      "cell_type": "code",
      "source": [
        "df['Product'].nunique()"
      ],
      "metadata": {
        "colab": {
          "base_uri": "https://localhost:8080/"
        },
        "id": "bWk81N2qdXU2",
        "outputId": "d500ec80-63b5-412b-da48-6b7da5ec583c",
        "execution": {
          "iopub.status.busy": "2024-02-28T22:46:41.070460Z",
          "iopub.execute_input": "2024-02-28T22:46:41.071158Z",
          "iopub.status.idle": "2024-02-28T22:46:41.179217Z",
          "shell.execute_reply.started": "2024-02-28T22:46:41.071129Z",
          "shell.execute_reply": "2024-02-28T22:46:41.178311Z"
        },
        "trusted": true
      },
      "execution_count": null,
      "outputs": [
        {
          "execution_count": 26,
          "output_type": "execute_result",
          "data": {
            "text/plain": "18"
          },
          "metadata": {}
        }
      ]
    },
    {
      "cell_type": "code",
      "source": [
        "df['Product'].unique()"
      ],
      "metadata": {
        "colab": {
          "base_uri": "https://localhost:8080/"
        },
        "id": "eWjE8--tcVoE",
        "outputId": "57b1a821-61ac-4eea-83e5-8755a5ed3d2c",
        "execution": {
          "iopub.status.busy": "2024-02-28T22:46:42.288496Z",
          "iopub.execute_input": "2024-02-28T22:46:42.289115Z",
          "iopub.status.idle": "2024-02-28T22:46:42.392870Z",
          "shell.execute_reply.started": "2024-02-28T22:46:42.289084Z",
          "shell.execute_reply": "2024-02-28T22:46:42.391970Z"
        },
        "trusted": true
      },
      "execution_count": null,
      "outputs": [
        {
          "execution_count": 27,
          "output_type": "execute_result",
          "data": {
            "text/plain": "array(['Vehicle loan or lease',\n       'Credit reporting, credit repair services, or other personal consumer reports',\n       'Credit card or prepaid card',\n       'Money transfer, virtual currency, or money service', 'Mortgage',\n       'Payday loan, title loan, or personal loan', 'Debt collection',\n       'Checking or savings account', 'Student loan', 'Consumer Loan',\n       'Money transfers', 'Credit card', 'Bank account or service',\n       'Credit reporting', 'Prepaid card', 'Payday loan',\n       'Other financial service', 'Virtual currency'], dtype=object)"
          },
          "metadata": {}
        }
      ]
    },
    {
      "cell_type": "code",
      "source": [
        "# we have 18 classes : some of them are closely related we can merge them\n",
        "\n",
        "# after discussing with client we decided to merge -->"
      ],
      "metadata": {
        "id": "hK12SJrvcVpe",
        "execution": {
          "iopub.status.busy": "2024-02-28T22:46:43.536127Z",
          "iopub.execute_input": "2024-02-28T22:46:43.537018Z",
          "iopub.status.idle": "2024-02-28T22:46:43.541025Z",
          "shell.execute_reply.started": "2024-02-28T22:46:43.536985Z",
          "shell.execute_reply": "2024-02-28T22:46:43.539886Z"
        },
        "trusted": true
      },
      "execution_count": null,
      "outputs": []
    },
    {
      "cell_type": "code",
      "source": [
        "'''\n",
        "'Vehicle loan or lease',  >>\n",
        "'Credit reporting, credit repair services, or other personal consumer reports', >>\n",
        "'Credit card or prepaid card', >>\n",
        "'Money transfer, virtual currency, or money service', >>\n",
        "'Mortgage',\n",
        "'Payday loan, title loan, or personal loan',  >>\n",
        "'Debt collection',\n",
        "'Checking or savings account', >>\n",
        "'Student loan', >>\n",
        "'Consumer Loan', >>\n",
        "'Money transfers', >>\n",
        "'Credit card', >>\n",
        "'Bank account or service', >>\n",
        "'Credit reporting', >>\n",
        "'Prepaid card', >>\n",
        "'Payday loan', >>\n",
        "'Other financial service',\n",
        "'Virtual currency'\n",
        "\n",
        "'''"
      ],
      "metadata": {
        "id": "azJtyC17cVs1"
      },
      "execution_count": null,
      "outputs": []
    },
    {
      "cell_type": "code",
      "source": [
        "'''\n",
        "loan -->'Vehicle loan or lease', 'Student loan'\n",
        "          'Consumer Loan', 'Payday loan, 'Payday loan, title loan, or personal loan'\n",
        "\n",
        "\n",
        "credit repot --> 'Credit reporting, credit repair services, or other personal consumer reports',\n",
        "                  'Credit reporting'\n",
        "\n",
        "card  --->  'Prepaid card',    'Credit card or prepaid card', 'Credit card'\n",
        "\n",
        "money transfer --> 'Money transfer, virtual currency, or money service',\n",
        "                    'Money transfers', 'Virtual currency'\n",
        "\n",
        "account -->  'Checking or savings account', 'Bank account or service'\n",
        "\n",
        "Mortgage\n",
        "\n",
        "'Debt collection'\n",
        "\n",
        "'Other financial service'\n",
        "\n",
        "\n",
        "'''\n"
      ],
      "metadata": {
        "id": "kC4hVDkUeRvm"
      },
      "execution_count": null,
      "outputs": []
    },
    {
      "cell_type": "code",
      "source": [
        "class_dict =  {\n",
        "\n",
        "'Vehicle loan or lease' : 'loan',\n",
        "'Credit reporting, credit repair services, or other personal consumer reports' : 'credit_report',\n",
        "'Credit card or prepaid card' : 'card' ,\n",
        "'Money transfer, virtual currency, or money service' : 'money_transfer',\n",
        "'Mortgage' : 'Mortgage',\n",
        "'Payday loan, title loan, or personal loan' : 'loan' ,\n",
        "'Debt collection' : 'Debt collection',\n",
        "'Checking or savings account' : 'account',\n",
        "'Student loan' : 'loan',\n",
        "'Consumer Loan' : 'loan',\n",
        "'Money transfers' : 'money_transfer',\n",
        "'Credit card' : 'card',\n",
        "'Bank account or service' : 'account',\n",
        "'Credit reporting' : 'credit_report',\n",
        "'Prepaid card' : 'card',\n",
        "'Payday loan' : 'loan',\n",
        "'Other financial service' : 'others',\n",
        "'Virtual currency' : 'money_transfer'\n",
        "}"
      ],
      "metadata": {
        "id": "a3KVqRB3gNwA",
        "execution": {
          "iopub.status.busy": "2024-02-28T22:46:49.657637Z",
          "iopub.execute_input": "2024-02-28T22:46:49.658043Z",
          "iopub.status.idle": "2024-02-28T22:46:49.665271Z",
          "shell.execute_reply.started": "2024-02-28T22:46:49.658011Z",
          "shell.execute_reply": "2024-02-28T22:46:49.663743Z"
        },
        "trusted": true
      },
      "execution_count": null,
      "outputs": []
    },
    {
      "cell_type": "code",
      "source": [],
      "metadata": {
        "id": "yLC7AQ581gkI"
      },
      "execution_count": null,
      "outputs": []
    },
    {
      "cell_type": "code",
      "source": [
        "df.replace({'Product' : class_dict}, inplace=True)"
      ],
      "metadata": {
        "id": "orYTNmOR1gkI"
      },
      "execution_count": null,
      "outputs": []
    },
    {
      "cell_type": "code",
      "source": [
        "df.replace({'Product' : class_dict}, inplace=True)"
      ],
      "metadata": {
        "id": "5-77_nKkgNx7",
        "execution": {
          "iopub.status.busy": "2024-02-28T22:46:51.033077Z",
          "iopub.execute_input": "2024-02-28T22:46:51.033725Z",
          "iopub.status.idle": "2024-02-28T22:46:51.970262Z",
          "shell.execute_reply.started": "2024-02-28T22:46:51.033681Z",
          "shell.execute_reply": "2024-02-28T22:46:51.969186Z"
        },
        "trusted": true
      },
      "execution_count": null,
      "outputs": []
    },
    {
      "cell_type": "code",
      "source": [
        "df"
      ],
      "metadata": {
        "colab": {
          "base_uri": "https://localhost:8080/",
          "height": 423
        },
        "id": "Z73Fd8G1gN1h",
        "outputId": "5aacc3a8-c41a-4f49-86ee-71969f7bc7d0",
        "execution": {
          "iopub.status.busy": "2024-02-28T22:46:51.972306Z",
          "iopub.execute_input": "2024-02-28T22:46:51.973031Z",
          "iopub.status.idle": "2024-02-28T22:46:51.984446Z",
          "shell.execute_reply.started": "2024-02-28T22:46:51.972994Z",
          "shell.execute_reply": "2024-02-28T22:46:51.983262Z"
        },
        "trusted": true
      },
      "execution_count": null,
      "outputs": [
        {
          "execution_count": 31,
          "output_type": "execute_result",
          "data": {
            "text/plain": "                 Product                       Consumer complaint narrative\n1                   loan  I contacted Ally on Friday XX/XX/XXXX after fa...\n7          credit_report  Hello This complaint is against the three cred...\n8          credit_report  I am a victim of Identity Theft & currently ha...\n10         credit_report  Two accounts are still on my credit history af...\n13         credit_report  Receiving daily telephone call ( s ) from XXXX...\n...                  ...                                                ...\n2326240             card  Automated calls from \" XXXX with Capital One '...\n2326241  Debt collection  I have disputed my debts several times with no...\n2326242         Mortgage  My father died in XX/XX/XXXX. Left me his only...\n2326243    credit_report  cfbp i would Like to file a complaint on Exper...\n2326244    credit_report  My husband and I are in the middle of an FHA S...\n\n[809343 rows x 2 columns]",
            "text/html": "<div>\n<style scoped>\n    .dataframe tbody tr th:only-of-type {\n        vertical-align: middle;\n    }\n\n    .dataframe tbody tr th {\n        vertical-align: top;\n    }\n\n    .dataframe thead th {\n        text-align: right;\n    }\n</style>\n<table border=\"1\" class=\"dataframe\">\n  <thead>\n    <tr style=\"text-align: right;\">\n      <th></th>\n      <th>Product</th>\n      <th>Consumer complaint narrative</th>\n    </tr>\n  </thead>\n  <tbody>\n    <tr>\n      <th>1</th>\n      <td>loan</td>\n      <td>I contacted Ally on Friday XX/XX/XXXX after fa...</td>\n    </tr>\n    <tr>\n      <th>7</th>\n      <td>credit_report</td>\n      <td>Hello This complaint is against the three cred...</td>\n    </tr>\n    <tr>\n      <th>8</th>\n      <td>credit_report</td>\n      <td>I am a victim of Identity Theft &amp; currently ha...</td>\n    </tr>\n    <tr>\n      <th>10</th>\n      <td>credit_report</td>\n      <td>Two accounts are still on my credit history af...</td>\n    </tr>\n    <tr>\n      <th>13</th>\n      <td>credit_report</td>\n      <td>Receiving daily telephone call ( s ) from XXXX...</td>\n    </tr>\n    <tr>\n      <th>...</th>\n      <td>...</td>\n      <td>...</td>\n    </tr>\n    <tr>\n      <th>2326240</th>\n      <td>card</td>\n      <td>Automated calls from \" XXXX with Capital One '...</td>\n    </tr>\n    <tr>\n      <th>2326241</th>\n      <td>Debt collection</td>\n      <td>I have disputed my debts several times with no...</td>\n    </tr>\n    <tr>\n      <th>2326242</th>\n      <td>Mortgage</td>\n      <td>My father died in XX/XX/XXXX. Left me his only...</td>\n    </tr>\n    <tr>\n      <th>2326243</th>\n      <td>credit_report</td>\n      <td>cfbp i would Like to file a complaint on Exper...</td>\n    </tr>\n    <tr>\n      <th>2326244</th>\n      <td>credit_report</td>\n      <td>My husband and I are in the middle of an FHA S...</td>\n    </tr>\n  </tbody>\n</table>\n<p>809343 rows × 2 columns</p>\n</div>"
          },
          "metadata": {}
        }
      ]
    },
    {
      "cell_type": "code",
      "source": [
        "# df['Product'].replace(class_dict)"
      ],
      "metadata": {
        "id": "NqN5dCNyiURi"
      },
      "execution_count": null,
      "outputs": []
    },
    {
      "cell_type": "code",
      "source": [
        "df.shape"
      ],
      "metadata": {
        "id": "eGx5ydeEieE4",
        "colab": {
          "base_uri": "https://localhost:8080/"
        },
        "outputId": "b44cedd1-787d-4e25-c45f-1c871d976a3a",
        "execution": {
          "iopub.status.busy": "2024-02-28T22:46:57.991531Z",
          "iopub.execute_input": "2024-02-28T22:46:57.992205Z",
          "iopub.status.idle": "2024-02-28T22:46:57.998419Z",
          "shell.execute_reply.started": "2024-02-28T22:46:57.992174Z",
          "shell.execute_reply": "2024-02-28T22:46:57.997392Z"
        },
        "trusted": true
      },
      "execution_count": null,
      "outputs": [
        {
          "execution_count": 32,
          "output_type": "execute_result",
          "data": {
            "text/plain": "(809343, 2)"
          },
          "metadata": {}
        }
      ]
    },
    {
      "cell_type": "code",
      "source": [
        "df.isna().sum()"
      ],
      "metadata": {
        "colab": {
          "base_uri": "https://localhost:8080/"
        },
        "id": "2255fiSpgViq",
        "outputId": "7f846649-0e37-46e2-dd9b-54173a074d0a",
        "execution": {
          "iopub.status.busy": "2024-02-28T22:46:58.436185Z",
          "iopub.execute_input": "2024-02-28T22:46:58.436575Z",
          "iopub.status.idle": "2024-02-28T22:46:58.646480Z",
          "shell.execute_reply.started": "2024-02-28T22:46:58.436546Z",
          "shell.execute_reply": "2024-02-28T22:46:58.645366Z"
        },
        "trusted": true
      },
      "execution_count": null,
      "outputs": [
        {
          "execution_count": 33,
          "output_type": "execute_result",
          "data": {
            "text/plain": "Product                         0\nConsumer complaint narrative    0\ndtype: int64"
          },
          "metadata": {}
        }
      ]
    },
    {
      "cell_type": "code",
      "source": [
        "df['Product'].unique()"
      ],
      "metadata": {
        "colab": {
          "base_uri": "https://localhost:8080/"
        },
        "id": "y7jWa8dmgVl_",
        "outputId": "027b57e9-8ac5-4bee-c65c-6a64938d2362",
        "execution": {
          "iopub.status.busy": "2024-02-28T22:46:59.476406Z",
          "iopub.execute_input": "2024-02-28T22:46:59.477339Z",
          "iopub.status.idle": "2024-02-28T22:46:59.559703Z",
          "shell.execute_reply.started": "2024-02-28T22:46:59.477300Z",
          "shell.execute_reply": "2024-02-28T22:46:59.558824Z"
        },
        "trusted": true
      },
      "execution_count": null,
      "outputs": [
        {
          "execution_count": 34,
          "output_type": "execute_result",
          "data": {
            "text/plain": "array(['loan', 'credit_report', 'card', 'money_transfer', 'Mortgage',\n       'Debt collection', 'account', 'others'], dtype=object)"
          },
          "metadata": {}
        }
      ]
    },
    {
      "cell_type": "code",
      "source": [
        "df['Product'].nunique()"
      ],
      "metadata": {
        "colab": {
          "base_uri": "https://localhost:8080/"
        },
        "id": "feobDyAcglV2",
        "outputId": "5a4191e4-e008-49be-cf23-6245612d5289",
        "execution": {
          "iopub.status.busy": "2024-02-28T22:47:02.929175Z",
          "iopub.execute_input": "2024-02-28T22:47:02.929640Z",
          "iopub.status.idle": "2024-02-28T22:47:03.012614Z",
          "shell.execute_reply.started": "2024-02-28T22:47:02.929604Z",
          "shell.execute_reply": "2024-02-28T22:47:03.011404Z"
        },
        "trusted": true
      },
      "execution_count": null,
      "outputs": [
        {
          "execution_count": 35,
          "output_type": "execute_result",
          "data": {
            "text/plain": "8"
          },
          "metadata": {}
        }
      ]
    },
    {
      "cell_type": "code",
      "source": [
        "df['Product'].value_counts()"
      ],
      "metadata": {
        "colab": {
          "base_uri": "https://localhost:8080/"
        },
        "id": "BL0Zq-izgn_T",
        "outputId": "eb475dc4-13ee-4a9f-970d-061708254ea7",
        "execution": {
          "iopub.status.busy": "2024-02-28T22:47:03.300013Z",
          "iopub.execute_input": "2024-02-28T22:47:03.300377Z",
          "iopub.status.idle": "2024-02-28T22:47:03.416493Z",
          "shell.execute_reply.started": "2024-02-28T22:47:03.300349Z",
          "shell.execute_reply": "2024-02-28T22:47:03.415359Z"
        },
        "trusted": true
      },
      "execution_count": null,
      "outputs": [
        {
          "execution_count": 36,
          "output_type": "execute_result",
          "data": {
            "text/plain": "Product\ncredit_report      348053\nDebt collection    157381\nMortgage            84461\ncard                81042\nloan                65744\naccount             52274\nmoney_transfer      20096\nothers                292\nName: count, dtype: int64"
          },
          "metadata": {}
        }
      ]
    },
    {
      "cell_type": "code",
      "source": [
        "df['Product'].value_counts()/len(df)*100"
      ],
      "metadata": {
        "colab": {
          "base_uri": "https://localhost:8080/"
        },
        "id": "mw-aoo2cgtJX",
        "outputId": "4d1c3519-fcb3-4612-bbfd-c5305795f365",
        "execution": {
          "iopub.status.busy": "2024-02-28T22:47:06.139529Z",
          "iopub.execute_input": "2024-02-28T22:47:06.139883Z",
          "iopub.status.idle": "2024-02-28T22:47:06.242737Z",
          "shell.execute_reply.started": "2024-02-28T22:47:06.139854Z",
          "shell.execute_reply": "2024-02-28T22:47:06.241796Z"
        },
        "trusted": true
      },
      "execution_count": null,
      "outputs": [
        {
          "execution_count": 37,
          "output_type": "execute_result",
          "data": {
            "text/plain": "Product\ncredit_report      43.004388\nDebt collection    19.445526\nMortgage           10.435749\ncard               10.013307\nloan                8.123132\naccount             6.458819\nmoney_transfer      2.483002\nothers              0.036079\nName: count, dtype: float64"
          },
          "metadata": {}
        }
      ]
    },
    {
      "cell_type": "code",
      "source": [
        "# first classifier : combined_class --> sencond_cla"
      ],
      "metadata": {
        "id": "J_KCouyc1gkQ"
      },
      "execution_count": null,
      "outputs": []
    },
    {
      "cell_type": "code",
      "source": [
        "# dataset is imbalanced\n",
        "\n",
        "#SMOTE\n",
        "#oversampling, undesmapling\n",
        "#class weights\n",
        "\n",
        "\n",
        "#proper evaluation metric"
      ],
      "metadata": {
        "id": "2D8WNG1ugtPa"
      },
      "execution_count": null,
      "outputs": []
    },
    {
      "cell_type": "code",
      "source": [],
      "metadata": {
        "id": "R6DSwuO9hjow"
      },
      "execution_count": null,
      "outputs": []
    },
    {
      "cell_type": "code",
      "source": [
        "## Text cleaning"
      ],
      "metadata": {
        "id": "fVaFl6ovhjrG"
      },
      "execution_count": null,
      "outputs": []
    },
    {
      "cell_type": "code",
      "source": [
        "df"
      ],
      "metadata": {
        "colab": {
          "base_uri": "https://localhost:8080/",
          "height": 423
        },
        "id": "fQM6tED0hju8",
        "outputId": "bc25bfee-2000-4efd-fa44-7f0be380946d",
        "execution": {
          "iopub.status.busy": "2024-02-28T22:47:10.597215Z",
          "iopub.execute_input": "2024-02-28T22:47:10.598132Z",
          "iopub.status.idle": "2024-02-28T22:47:10.610311Z",
          "shell.execute_reply.started": "2024-02-28T22:47:10.598096Z",
          "shell.execute_reply": "2024-02-28T22:47:10.609281Z"
        },
        "trusted": true
      },
      "execution_count": null,
      "outputs": [
        {
          "execution_count": 38,
          "output_type": "execute_result",
          "data": {
            "text/plain": "                 Product                       Consumer complaint narrative\n1                   loan  I contacted Ally on Friday XX/XX/XXXX after fa...\n7          credit_report  Hello This complaint is against the three cred...\n8          credit_report  I am a victim of Identity Theft & currently ha...\n10         credit_report  Two accounts are still on my credit history af...\n13         credit_report  Receiving daily telephone call ( s ) from XXXX...\n...                  ...                                                ...\n2326240             card  Automated calls from \" XXXX with Capital One '...\n2326241  Debt collection  I have disputed my debts several times with no...\n2326242         Mortgage  My father died in XX/XX/XXXX. Left me his only...\n2326243    credit_report  cfbp i would Like to file a complaint on Exper...\n2326244    credit_report  My husband and I are in the middle of an FHA S...\n\n[809343 rows x 2 columns]",
            "text/html": "<div>\n<style scoped>\n    .dataframe tbody tr th:only-of-type {\n        vertical-align: middle;\n    }\n\n    .dataframe tbody tr th {\n        vertical-align: top;\n    }\n\n    .dataframe thead th {\n        text-align: right;\n    }\n</style>\n<table border=\"1\" class=\"dataframe\">\n  <thead>\n    <tr style=\"text-align: right;\">\n      <th></th>\n      <th>Product</th>\n      <th>Consumer complaint narrative</th>\n    </tr>\n  </thead>\n  <tbody>\n    <tr>\n      <th>1</th>\n      <td>loan</td>\n      <td>I contacted Ally on Friday XX/XX/XXXX after fa...</td>\n    </tr>\n    <tr>\n      <th>7</th>\n      <td>credit_report</td>\n      <td>Hello This complaint is against the three cred...</td>\n    </tr>\n    <tr>\n      <th>8</th>\n      <td>credit_report</td>\n      <td>I am a victim of Identity Theft &amp; currently ha...</td>\n    </tr>\n    <tr>\n      <th>10</th>\n      <td>credit_report</td>\n      <td>Two accounts are still on my credit history af...</td>\n    </tr>\n    <tr>\n      <th>13</th>\n      <td>credit_report</td>\n      <td>Receiving daily telephone call ( s ) from XXXX...</td>\n    </tr>\n    <tr>\n      <th>...</th>\n      <td>...</td>\n      <td>...</td>\n    </tr>\n    <tr>\n      <th>2326240</th>\n      <td>card</td>\n      <td>Automated calls from \" XXXX with Capital One '...</td>\n    </tr>\n    <tr>\n      <th>2326241</th>\n      <td>Debt collection</td>\n      <td>I have disputed my debts several times with no...</td>\n    </tr>\n    <tr>\n      <th>2326242</th>\n      <td>Mortgage</td>\n      <td>My father died in XX/XX/XXXX. Left me his only...</td>\n    </tr>\n    <tr>\n      <th>2326243</th>\n      <td>credit_report</td>\n      <td>cfbp i would Like to file a complaint on Exper...</td>\n    </tr>\n    <tr>\n      <th>2326244</th>\n      <td>credit_report</td>\n      <td>My husband and I are in the middle of an FHA S...</td>\n    </tr>\n  </tbody>\n</table>\n<p>809343 rows × 2 columns</p>\n</div>"
          },
          "metadata": {}
        }
      ]
    },
    {
      "cell_type": "code",
      "source": [
        "# ## In NLP 3 important components to improve performance of model\n",
        "# 1) text preprocessing\n",
        "# 2) vectorization\n",
        "# 3) Model"
      ],
      "metadata": {
        "id": "0h_04wwai1tE"
      },
      "execution_count": null,
      "outputs": []
    },
    {
      "cell_type": "code",
      "source": [
        "df['Consumer complaint narrative'].iloc[200]"
      ],
      "metadata": {
        "colab": {
          "base_uri": "https://localhost:8080/",
          "height": 521
        },
        "id": "6J6MqQjAiYHz",
        "outputId": "8b53b70b-fc96-4109-f60b-9f6c9adadb0f",
        "execution": {
          "iopub.status.busy": "2024-02-28T22:47:16.831902Z",
          "iopub.execute_input": "2024-02-28T22:47:16.832294Z",
          "iopub.status.idle": "2024-02-28T22:47:16.839404Z",
          "shell.execute_reply.started": "2024-02-28T22:47:16.832258Z",
          "shell.execute_reply": "2024-02-28T22:47:16.838138Z"
        },
        "trusted": true
      },
      "execution_count": null,
      "outputs": [
        {
          "execution_count": 39,
          "output_type": "execute_result",
          "data": {
            "text/plain": "'On XX/XX/XXXX, I submitted a query through XXXX XXXX for a cash out refinance. The first lender I spoke to was Supreme Lending who offered one of the lowest rates and also noted I would not need an appraisal, which was part of the reason I chose to work with them. I told the loan officer if they could match the lower rate that came through with another lender I would refinance with Supreme. After a day, he confirmed I would get the lower rate ( though he did not mention I had to buy down to that rate until a later time ). \\n\\nOn XX/XX/XXXX, the loan officer emailed saying we didnt get approval not to do an appraisal. This was the first time it was mentioned no appraisal would require an approval. In that email, he also told me we would get the fee waived and if not hed make up for it. I paid {$720.00} for an appraisal that took place on XX/XX/XXXX. \\n\\nOn XX/XX/XXXX, the loan officer told me to make up for the issues with no waiver my first payment would be pushed to XXXX instead of XXXX. He explained this would happen via a refund check through over payment of my old mortgage. \\n\\nI closed on XX/XX/XXXX and he assured me that morning prior to signing that Id receive a refund check covering my first full payment long before my due date in XXXX. \\n\\nOn XX/XX/XXXX, I had no check and emailed asking the loan XXXX the status of my refund check since I received notice Supreme had already sold my mortgage. He called and stated I needed to wait until 3 full weeks from funding had passed and that would be XX/XX/XXXX. \\n\\nAs of XX/XX/XXXX I still had no check. I emailed again. He told me he was out of office but looking into it the next day when he returned. \\n\\nOn XX/XX/XXXX, he called to say he was escalating it and would update me the next day. On XX/XX/XXXX, I emailed asking for an update since I had not heard any update. I received no response and emailed again on XX/XX/XXXX letting him know I would be reporting and escalating the issue myself if not resolved before the XX/XX/XXXX holiday. \\n\\nAfter all the communication of the past two months ensuring me things would be handled, the loan officer then told me on XX/XX/XXXX, the day my first payment was due, that Supreme had to pay more for my old mortgage because the former mortgage company increased the pay off amount and there was no overage to provide me a refund That was not true as they actually decreased the pay off amount originally provided and confirmed that when I called them on XX/XX/XXXX. \\n\\nI emailed the loan officer the exact summary above on XX/XX/XXXX. He replied that he\\'d forward my email to the \" powers that be \\'\\' and has not provided any update. He has called but left no voicemail. He emailed to say to call him but provided no details. I informed him he could provide an update via email. He has not done so. \\n\\nThe entire experience and misleading information around not needing an appraisal and then assuring I\\'d be made whole is deceptive practice by Supreme Lending to obtain business.'"
          },
          "metadata": {}
        }
      ]
    },
    {
      "cell_type": "code",
      "source": [
        "# lower\n",
        "# puct remove\n",
        "# xxx\n",
        "# digits removal\n",
        "# new line chars"
      ],
      "metadata": {
        "id": "eWhFnGJvhj4a"
      },
      "execution_count": null,
      "outputs": []
    },
    {
      "cell_type": "code",
      "source": [
        "import re"
      ],
      "metadata": {
        "id": "aQkVs78ekJUN",
        "execution": {
          "iopub.status.busy": "2024-02-28T22:47:21.899052Z",
          "iopub.execute_input": "2024-02-28T22:47:21.899427Z",
          "iopub.status.idle": "2024-02-28T22:47:21.904116Z",
          "shell.execute_reply.started": "2024-02-28T22:47:21.899397Z",
          "shell.execute_reply": "2024-02-28T22:47:21.902853Z"
        },
        "trusted": true
      },
      "execution_count": null,
      "outputs": []
    },
    {
      "cell_type": "code",
      "source": [
        "def clean_text(text):\n",
        "  #lower case\n",
        "  text = text.lower()\n",
        "\n",
        "  #removing punct and digits\n",
        "  text = re.sub(r'[^\\w\\s]', '', text)\n",
        "\n",
        "  #removing more than one occurances of x\n",
        "  text = re.sub(r'[x]{2,}', '', text)\n",
        "\n",
        "  return text\n",
        "\n",
        "\n"
      ],
      "metadata": {
        "id": "gx7_tKD5hj70",
        "execution": {
          "iopub.status.busy": "2024-02-28T22:47:22.264563Z",
          "iopub.execute_input": "2024-02-28T22:47:22.265280Z",
          "iopub.status.idle": "2024-02-28T22:47:22.270094Z",
          "shell.execute_reply.started": "2024-02-28T22:47:22.265224Z",
          "shell.execute_reply": "2024-02-28T22:47:22.269202Z"
        },
        "trusted": true
      },
      "execution_count": null,
      "outputs": []
    },
    {
      "cell_type": "code",
      "source": [],
      "metadata": {
        "id": "ruRaFmepmFyt"
      },
      "execution_count": null,
      "outputs": []
    },
    {
      "cell_type": "code",
      "source": [
        "df['Consumer complaint narrative'] = df['Consumer complaint narrative'].apply(clean_text)"
      ],
      "metadata": {
        "id": "FoVYRkNLj4bx",
        "execution": {
          "iopub.status.busy": "2024-02-28T22:47:25.942368Z",
          "iopub.execute_input": "2024-02-28T22:47:25.943091Z",
          "iopub.status.idle": "2024-02-28T22:48:19.551020Z",
          "shell.execute_reply.started": "2024-02-28T22:47:25.943060Z",
          "shell.execute_reply": "2024-02-28T22:48:19.549720Z"
        },
        "trusted": true
      },
      "execution_count": null,
      "outputs": []
    },
    {
      "cell_type": "code",
      "source": [
        "length = []\n",
        "\n",
        "for i in df['Consumer complaint narrative']:\n",
        "  length.append(len(i))\n",
        "\n",
        "length.sort()"
      ],
      "metadata": {
        "id": "aq19waWrj4fK",
        "execution": {
          "iopub.status.busy": "2024-02-28T22:48:19.553215Z",
          "iopub.execute_input": "2024-02-28T22:48:19.553660Z",
          "iopub.status.idle": "2024-02-28T22:48:20.140132Z",
          "shell.execute_reply.started": "2024-02-28T22:48:19.553613Z",
          "shell.execute_reply": "2024-02-28T22:48:20.139045Z"
        },
        "trusted": true
      },
      "execution_count": null,
      "outputs": []
    },
    {
      "cell_type": "code",
      "source": [
        "length[100]"
      ],
      "metadata": {
        "colab": {
          "base_uri": "https://localhost:8080/"
        },
        "id": "NyXYJiAUmpE2",
        "outputId": "fc10ccad-fe7d-45ff-ee0d-011eb22979d4",
        "execution": {
          "iopub.status.busy": "2024-02-28T22:48:20.141466Z",
          "iopub.execute_input": "2024-02-28T22:48:20.141784Z",
          "iopub.status.idle": "2024-02-28T22:48:20.147674Z",
          "shell.execute_reply.started": "2024-02-28T22:48:20.141758Z",
          "shell.execute_reply": "2024-02-28T22:48:20.146581Z"
        },
        "trusted": true
      },
      "execution_count": null,
      "outputs": [
        {
          "execution_count": 44,
          "output_type": "execute_result",
          "data": {
            "text/plain": "13"
          },
          "metadata": {}
        }
      ]
    },
    {
      "cell_type": "code",
      "source": [
        "#very short length review can be removed"
      ],
      "metadata": {
        "id": "reS1iNYTmpke"
      },
      "execution_count": null,
      "outputs": []
    },
    {
      "cell_type": "code",
      "source": [
        "sum(length)/len(length)"
      ],
      "metadata": {
        "colab": {
          "base_uri": "https://localhost:8080/"
        },
        "id": "PgmkUz-qmpms",
        "outputId": "ba64d65b-b68b-4ff2-ffdf-f5b5ea59c768",
        "execution": {
          "iopub.status.busy": "2024-02-28T22:48:20.149780Z",
          "iopub.execute_input": "2024-02-28T22:48:20.150069Z",
          "iopub.status.idle": "2024-02-28T22:48:20.179273Z",
          "shell.execute_reply.started": "2024-02-28T22:48:20.150046Z",
          "shell.execute_reply": "2024-02-28T22:48:20.178188Z"
        },
        "trusted": true
      },
      "execution_count": null,
      "outputs": [
        {
          "execution_count": 45,
          "output_type": "execute_result",
          "data": {
            "text/plain": "982.3667320283242"
          },
          "metadata": {}
        }
      ]
    },
    {
      "cell_type": "code",
      "source": [
        "# from keras.preprocessing.text import Tokenizer\n",
        "from tensorflow.keras.preprocessing.text import Tokenizer\n"
      ],
      "metadata": {
        "id": "ffgNU3Q1mpqT",
        "execution": {
          "iopub.status.busy": "2024-02-28T22:48:20.180701Z",
          "iopub.execute_input": "2024-02-28T22:48:20.181417Z",
          "iopub.status.idle": "2024-02-28T22:48:34.139383Z",
          "shell.execute_reply.started": "2024-02-28T22:48:20.181382Z",
          "shell.execute_reply": "2024-02-28T22:48:34.138296Z"
        },
        "trusted": true,
        "outputId": "e9887372-a179-44b2-8799-52b2b213f591"
      },
      "execution_count": null,
      "outputs": [
        {
          "name": "stderr",
          "text": "2024-02-28 22:48:22.470924: E external/local_xla/xla/stream_executor/cuda/cuda_dnn.cc:9261] Unable to register cuDNN factory: Attempting to register factory for plugin cuDNN when one has already been registered\n2024-02-28 22:48:22.471042: E external/local_xla/xla/stream_executor/cuda/cuda_fft.cc:607] Unable to register cuFFT factory: Attempting to register factory for plugin cuFFT when one has already been registered\n2024-02-28 22:48:22.640617: E external/local_xla/xla/stream_executor/cuda/cuda_blas.cc:1515] Unable to register cuBLAS factory: Attempting to register factory for plugin cuBLAS when one has already been registered\n",
          "output_type": "stream"
        }
      ]
    },
    {
      "cell_type": "code",
      "source": [
        "tokenizer = Tokenizer(num_words=30000, lower=True)"
      ],
      "metadata": {
        "id": "k8QYIVG9nVPX",
        "execution": {
          "iopub.status.busy": "2024-02-28T22:48:34.140625Z",
          "iopub.execute_input": "2024-02-28T22:48:34.141160Z",
          "iopub.status.idle": "2024-02-28T22:48:34.145777Z",
          "shell.execute_reply.started": "2024-02-28T22:48:34.141132Z",
          "shell.execute_reply": "2024-02-28T22:48:34.144590Z"
        },
        "trusted": true
      },
      "execution_count": null,
      "outputs": []
    },
    {
      "cell_type": "code",
      "source": [
        "tokenizer.fit_on_texts(df['Consumer complaint narrative'])"
      ],
      "metadata": {
        "id": "AYHJvZLEnVSH",
        "execution": {
          "iopub.status.busy": "2024-02-28T22:48:34.147181Z",
          "iopub.execute_input": "2024-02-28T22:48:34.147546Z",
          "iopub.status.idle": "2024-02-28T22:50:26.982254Z",
          "shell.execute_reply.started": "2024-02-28T22:48:34.147513Z",
          "shell.execute_reply": "2024-02-28T22:50:26.981453Z"
        },
        "trusted": true
      },
      "execution_count": null,
      "outputs": []
    },
    {
      "cell_type": "code",
      "source": [
        "word_index = tokenizer.word_index"
      ],
      "metadata": {
        "id": "IAdxNpfmoUsg",
        "execution": {
          "iopub.status.busy": "2024-02-28T22:50:26.983636Z",
          "iopub.execute_input": "2024-02-28T22:50:26.983982Z",
          "iopub.status.idle": "2024-02-28T22:50:26.989412Z",
          "shell.execute_reply.started": "2024-02-28T22:50:26.983948Z",
          "shell.execute_reply": "2024-02-28T22:50:26.988271Z"
        },
        "trusted": true
      },
      "execution_count": null,
      "outputs": []
    },
    {
      "cell_type": "code",
      "source": [
        "word_index['check']"
      ],
      "metadata": {
        "colab": {
          "base_uri": "https://localhost:8080/"
        },
        "id": "2frKtq_ZpyLi",
        "outputId": "7da90a64-882e-41a6-faec-bf53f28bfe10",
        "execution": {
          "iopub.status.busy": "2024-02-28T22:50:26.990714Z",
          "iopub.execute_input": "2024-02-28T22:50:26.991082Z",
          "iopub.status.idle": "2024-02-28T22:50:27.004674Z",
          "shell.execute_reply.started": "2024-02-28T22:50:26.991051Z",
          "shell.execute_reply": "2024-02-28T22:50:27.003807Z"
        },
        "trusted": true
      },
      "execution_count": null,
      "outputs": [
        {
          "execution_count": 50,
          "output_type": "execute_result",
          "data": {
            "text/plain": "133"
          },
          "metadata": {}
        }
      ]
    },
    {
      "cell_type": "code",
      "source": [
        "value_to_find = 100\n",
        "for key, value in word_index.items():\n",
        "  if value == value_to_find:\n",
        "    print(key)"
      ],
      "metadata": {
        "colab": {
          "base_uri": "https://localhost:8080/"
        },
        "id": "12MU-3dSoUv7",
        "outputId": "ce0fc09a-ee10-41a7-c0c5-b2094219759f",
        "execution": {
          "iopub.status.busy": "2024-02-28T22:50:27.008156Z",
          "iopub.execute_input": "2024-02-28T22:50:27.008456Z",
          "iopub.status.idle": "2024-02-28T22:50:27.065296Z",
          "shell.execute_reply.started": "2024-02-28T22:50:27.008432Z",
          "shell.execute_reply": "2024-02-28T22:50:27.064437Z"
        },
        "trusted": true
      },
      "execution_count": null,
      "outputs": [
        {
          "name": "stdout",
          "text": "balance\n",
          "output_type": "stream"
        }
      ]
    },
    {
      "cell_type": "code",
      "source": [
        "#remove stopwords\n",
        "#remove more than one occurence of space"
      ],
      "metadata": {
        "id": "kakQj42QqFCg"
      },
      "execution_count": null,
      "outputs": []
    },
    {
      "cell_type": "code",
      "source": [],
      "metadata": {
        "id": "IXRUdyganVVi"
      },
      "execution_count": null,
      "outputs": []
    },
    {
      "cell_type": "code",
      "source": [
        "#vectorization : converting text to numbers"
      ],
      "metadata": {
        "id": "4Vb93hv_qPU7"
      },
      "execution_count": null,
      "outputs": []
    },
    {
      "cell_type": "code",
      "source": [
        "X = tokenizer.texts_to_sequences(df['Consumer complaint narrative'].values)"
      ],
      "metadata": {
        "id": "Qd2SNixkqPYd",
        "execution": {
          "iopub.status.busy": "2024-02-28T22:51:26.547020Z",
          "iopub.execute_input": "2024-02-28T22:51:26.547730Z",
          "iopub.status.idle": "2024-02-28T22:52:57.995001Z",
          "shell.execute_reply.started": "2024-02-28T22:51:26.547695Z",
          "shell.execute_reply": "2024-02-28T22:52:57.994025Z"
        },
        "trusted": true
      },
      "execution_count": null,
      "outputs": []
    },
    {
      "cell_type": "code",
      "source": [
        "df['Product']"
      ],
      "metadata": {
        "colab": {
          "base_uri": "https://localhost:8080/"
        },
        "id": "f8VWM7u0roo8",
        "outputId": "16a9fbeb-cc56-47fa-c5f8-26456ed141ca",
        "execution": {
          "iopub.status.busy": "2024-02-28T22:52:57.996778Z",
          "iopub.execute_input": "2024-02-28T22:52:57.997165Z",
          "iopub.status.idle": "2024-02-28T22:52:58.007909Z",
          "shell.execute_reply.started": "2024-02-28T22:52:57.997123Z",
          "shell.execute_reply": "2024-02-28T22:52:58.006796Z"
        },
        "trusted": true
      },
      "execution_count": null,
      "outputs": [
        {
          "execution_count": 57,
          "output_type": "execute_result",
          "data": {
            "text/plain": "1                     loan\n7            credit_report\n8            credit_report\n10           credit_report\n13           credit_report\n                ...       \n2326240               card\n2326241    Debt collection\n2326242           Mortgage\n2326243      credit_report\n2326244      credit_report\nName: Product, Length: 809343, dtype: object"
          },
          "metadata": {}
        }
      ]
    },
    {
      "cell_type": "code",
      "source": [
        "Y = pd.get_dummies(df['Product']).values"
      ],
      "metadata": {
        "id": "b0axRagKqPcp",
        "execution": {
          "iopub.status.busy": "2024-02-28T22:52:58.009113Z",
          "iopub.execute_input": "2024-02-28T22:52:58.009466Z",
          "iopub.status.idle": "2024-02-28T22:52:58.124264Z",
          "shell.execute_reply.started": "2024-02-28T22:52:58.009438Z",
          "shell.execute_reply": "2024-02-28T22:52:58.123377Z"
        },
        "trusted": true
      },
      "execution_count": null,
      "outputs": []
    },
    {
      "cell_type": "code",
      "source": [
        "Y_ = pd.get_dummies(df['Product'])\n",
        "Y_"
      ],
      "metadata": {
        "execution": {
          "iopub.status.busy": "2024-02-29T00:31:59.870332Z",
          "iopub.execute_input": "2024-02-29T00:31:59.871191Z",
          "iopub.status.idle": "2024-02-29T00:31:59.961809Z",
          "shell.execute_reply.started": "2024-02-29T00:31:59.871158Z",
          "shell.execute_reply": "2024-02-29T00:31:59.960851Z"
        },
        "trusted": true,
        "id": "Uc_uGS-y1gkY",
        "outputId": "82cf43d7-7c28-4b74-b90d-7e6669b05748"
      },
      "execution_count": null,
      "outputs": [
        {
          "execution_count": 98,
          "output_type": "execute_result",
          "data": {
            "text/plain": "         Debt collection  Mortgage  account   card  credit_report   loan  \\\n1                  False     False    False  False          False   True   \n7                  False     False    False  False           True  False   \n8                  False     False    False  False           True  False   \n10                 False     False    False  False           True  False   \n13                 False     False    False  False           True  False   \n...                  ...       ...      ...    ...            ...    ...   \n2326240            False     False    False   True          False  False   \n2326241             True     False    False  False          False  False   \n2326242            False      True    False  False          False  False   \n2326243            False     False    False  False           True  False   \n2326244            False     False    False  False           True  False   \n\n         money_transfer  others  \n1                 False   False  \n7                 False   False  \n8                 False   False  \n10                False   False  \n13                False   False  \n...                 ...     ...  \n2326240           False   False  \n2326241           False   False  \n2326242           False   False  \n2326243           False   False  \n2326244           False   False  \n\n[809343 rows x 8 columns]",
            "text/html": "<div>\n<style scoped>\n    .dataframe tbody tr th:only-of-type {\n        vertical-align: middle;\n    }\n\n    .dataframe tbody tr th {\n        vertical-align: top;\n    }\n\n    .dataframe thead th {\n        text-align: right;\n    }\n</style>\n<table border=\"1\" class=\"dataframe\">\n  <thead>\n    <tr style=\"text-align: right;\">\n      <th></th>\n      <th>Debt collection</th>\n      <th>Mortgage</th>\n      <th>account</th>\n      <th>card</th>\n      <th>credit_report</th>\n      <th>loan</th>\n      <th>money_transfer</th>\n      <th>others</th>\n    </tr>\n  </thead>\n  <tbody>\n    <tr>\n      <th>1</th>\n      <td>False</td>\n      <td>False</td>\n      <td>False</td>\n      <td>False</td>\n      <td>False</td>\n      <td>True</td>\n      <td>False</td>\n      <td>False</td>\n    </tr>\n    <tr>\n      <th>7</th>\n      <td>False</td>\n      <td>False</td>\n      <td>False</td>\n      <td>False</td>\n      <td>True</td>\n      <td>False</td>\n      <td>False</td>\n      <td>False</td>\n    </tr>\n    <tr>\n      <th>8</th>\n      <td>False</td>\n      <td>False</td>\n      <td>False</td>\n      <td>False</td>\n      <td>True</td>\n      <td>False</td>\n      <td>False</td>\n      <td>False</td>\n    </tr>\n    <tr>\n      <th>10</th>\n      <td>False</td>\n      <td>False</td>\n      <td>False</td>\n      <td>False</td>\n      <td>True</td>\n      <td>False</td>\n      <td>False</td>\n      <td>False</td>\n    </tr>\n    <tr>\n      <th>13</th>\n      <td>False</td>\n      <td>False</td>\n      <td>False</td>\n      <td>False</td>\n      <td>True</td>\n      <td>False</td>\n      <td>False</td>\n      <td>False</td>\n    </tr>\n    <tr>\n      <th>...</th>\n      <td>...</td>\n      <td>...</td>\n      <td>...</td>\n      <td>...</td>\n      <td>...</td>\n      <td>...</td>\n      <td>...</td>\n      <td>...</td>\n    </tr>\n    <tr>\n      <th>2326240</th>\n      <td>False</td>\n      <td>False</td>\n      <td>False</td>\n      <td>True</td>\n      <td>False</td>\n      <td>False</td>\n      <td>False</td>\n      <td>False</td>\n    </tr>\n    <tr>\n      <th>2326241</th>\n      <td>True</td>\n      <td>False</td>\n      <td>False</td>\n      <td>False</td>\n      <td>False</td>\n      <td>False</td>\n      <td>False</td>\n      <td>False</td>\n    </tr>\n    <tr>\n      <th>2326242</th>\n      <td>False</td>\n      <td>True</td>\n      <td>False</td>\n      <td>False</td>\n      <td>False</td>\n      <td>False</td>\n      <td>False</td>\n      <td>False</td>\n    </tr>\n    <tr>\n      <th>2326243</th>\n      <td>False</td>\n      <td>False</td>\n      <td>False</td>\n      <td>False</td>\n      <td>True</td>\n      <td>False</td>\n      <td>False</td>\n      <td>False</td>\n    </tr>\n    <tr>\n      <th>2326244</th>\n      <td>False</td>\n      <td>False</td>\n      <td>False</td>\n      <td>False</td>\n      <td>True</td>\n      <td>False</td>\n      <td>False</td>\n      <td>False</td>\n    </tr>\n  </tbody>\n</table>\n<p>809343 rows × 8 columns</p>\n</div>"
          },
          "metadata": {}
        }
      ]
    },
    {
      "cell_type": "code",
      "source": [],
      "metadata": {
        "id": "-uScb0BD1gkY"
      },
      "execution_count": null,
      "outputs": []
    },
    {
      "cell_type": "code",
      "source": [
        "len(X[0])"
      ],
      "metadata": {
        "colab": {
          "base_uri": "https://localhost:8080/"
        },
        "id": "_0qFZQb9rCMB",
        "outputId": "569ef84e-2acf-4ea0-e770-2d635ba9d470",
        "execution": {
          "iopub.status.busy": "2024-02-28T22:52:58.126445Z",
          "iopub.execute_input": "2024-02-28T22:52:58.126774Z",
          "iopub.status.idle": "2024-02-28T22:52:58.133389Z",
          "shell.execute_reply.started": "2024-02-28T22:52:58.126746Z",
          "shell.execute_reply": "2024-02-28T22:52:58.132220Z"
        },
        "trusted": true
      },
      "execution_count": null,
      "outputs": [
        {
          "execution_count": 59,
          "output_type": "execute_result",
          "data": {
            "text/plain": "312"
          },
          "metadata": {}
        }
      ]
    },
    {
      "cell_type": "code",
      "source": [
        "from keras.preprocessing.sequence import pad_sequences"
      ],
      "metadata": {
        "id": "sz3xwMQQrCOb",
        "execution": {
          "iopub.status.busy": "2024-02-28T22:52:58.134628Z",
          "iopub.execute_input": "2024-02-28T22:52:58.134943Z",
          "iopub.status.idle": "2024-02-28T22:52:58.143701Z",
          "shell.execute_reply.started": "2024-02-28T22:52:58.134896Z",
          "shell.execute_reply": "2024-02-28T22:52:58.142723Z"
        },
        "trusted": true
      },
      "execution_count": null,
      "outputs": []
    },
    {
      "cell_type": "code",
      "source": [
        "x = pad_sequences(X, maxlen=1000)"
      ],
      "metadata": {
        "id": "s-cIdOrmrCRx",
        "execution": {
          "iopub.status.busy": "2024-02-28T22:52:58.145308Z",
          "iopub.execute_input": "2024-02-28T22:52:58.145600Z",
          "iopub.status.idle": "2024-02-28T22:53:11.544402Z",
          "shell.execute_reply.started": "2024-02-28T22:52:58.145576Z",
          "shell.execute_reply": "2024-02-28T22:53:11.543604Z"
        },
        "trusted": true
      },
      "execution_count": null,
      "outputs": []
    },
    {
      "cell_type": "code",
      "source": [
        "x[0]"
      ],
      "metadata": {
        "id": "-LiQXlqHqPfk",
        "execution": {
          "iopub.status.busy": "2024-02-28T22:53:11.545484Z",
          "iopub.execute_input": "2024-02-28T22:53:11.545774Z",
          "iopub.status.idle": "2024-02-28T22:53:11.556277Z",
          "shell.execute_reply.started": "2024-02-28T22:53:11.545750Z",
          "shell.execute_reply": "2024-02-28T22:53:11.555119Z"
        },
        "trusted": true,
        "outputId": "0c7439d9-6533-4793-e50e-c6a79f4a0e16"
      },
      "execution_count": null,
      "outputs": [
        {
          "execution_count": 62,
          "output_type": "execute_result",
          "data": {
            "text/plain": "array([    0,     0,     0,     0,     0,     0,     0,     0,     0,\n           0,     0,     0,     0,     0,     0,     0,     0,     0,\n           0,     0,     0,     0,     0,     0,     0,     0,     0,\n           0,     0,     0,     0,     0,     0,     0,     0,     0,\n           0,     0,     0,     0,     0,     0,     0,     0,     0,\n           0,     0,     0,     0,     0,     0,     0,     0,     0,\n           0,     0,     0,     0,     0,     0,     0,     0,     0,\n           0,     0,     0,     0,     0,     0,     0,     0,     0,\n           0,     0,     0,     0,     0,     0,     0,     0,     0,\n           0,     0,     0,     0,     0,     0,     0,     0,     0,\n           0,     0,     0,     0,     0,     0,     0,     0,     0,\n           0,     0,     0,     0,     0,     0,     0,     0,     0,\n           0,     0,     0,     0,     0,     0,     0,     0,     0,\n           0,     0,     0,     0,     0,     0,     0,     0,     0,\n           0,     0,     0,     0,     0,     0,     0,     0,     0,\n           0,     0,     0,     0,     0,     0,     0,     0,     0,\n           0,     0,     0,     0,     0,     0,     0,     0,     0,\n           0,     0,     0,     0,     0,     0,     0,     0,     0,\n           0,     0,     0,     0,     0,     0,     0,     0,     0,\n           0,     0,     0,     0,     0,     0,     0,     0,     0,\n           0,     0,     0,     0,     0,     0,     0,     0,     0,\n           0,     0,     0,     0,     0,     0,     0,     0,     0,\n           0,     0,     0,     0,     0,     0,     0,     0,     0,\n           0,     0,     0,     0,     0,     0,     0,     0,     0,\n           0,     0,     0,     0,     0,     0,     0,     0,     0,\n           0,     0,     0,     0,     0,     0,     0,     0,     0,\n           0,     0,     0,     0,     0,     0,     0,     0,     0,\n           0,     0,     0,     0,     0,     0,     0,     0,     0,\n           0,     0,     0,     0,     0,     0,     0,     0,     0,\n           0,     0,     0,     0,     0,     0,     0,     0,     0,\n           0,     0,     0,     0,     0,     0,     0,     0,     0,\n           0,     0,     0,     0,     0,     0,     0,     0,     0,\n           0,     0,     0,     0,     0,     0,     0,     0,     0,\n           0,     0,     0,     0,     0,     0,     0,     0,     0,\n           0,     0,     0,     0,     0,     0,     0,     0,     0,\n           0,     0,     0,     0,     0,     0,     0,     0,     0,\n           0,     0,     0,     0,     0,     0,     0,     0,     0,\n           0,     0,     0,     0,     0,     0,     0,     0,     0,\n           0,     0,     0,     0,     0,     0,     0,     0,     0,\n           0,     0,     0,     0,     0,     0,     0,     0,     0,\n           0,     0,     0,     0,     0,     0,     0,     0,     0,\n           0,     0,     0,     0,     0,     0,     0,     0,     0,\n           0,     0,     0,     0,     0,     0,     0,     0,     0,\n           0,     0,     0,     0,     0,     0,     0,     0,     0,\n           0,     0,     0,     0,     0,     0,     0,     0,     0,\n           0,     0,     0,     0,     0,     0,     0,     0,     0,\n           0,     0,     0,     0,     0,     0,     0,     0,     0,\n           0,     0,     0,     0,     0,     0,     0,     0,     0,\n           0,     0,     0,     0,     0,     0,     0,     0,     0,\n           0,     0,     0,     0,     0,     0,     0,     0,     0,\n           0,     0,     0,     0,     0,     0,     0,     0,     0,\n           0,     0,     0,     0,     0,     0,     0,     0,     0,\n           0,     0,     0,     0,     0,     0,     0,     0,     0,\n           0,     0,     0,     0,     0,     0,     0,     0,     0,\n           0,     0,     0,     0,     0,     0,     0,     0,     0,\n           0,     0,     0,     0,     0,     0,     0,     0,     0,\n           0,     0,     0,     0,     0,     0,     0,     0,     0,\n           0,     0,     0,     0,     0,     0,     0,     0,     0,\n           0,     0,     0,     0,     0,     0,     0,     0,     0,\n           0,     0,     0,     0,     0,     0,     0,     0,     0,\n           0,     0,     0,     0,     0,     0,     0,     0,     0,\n           0,     0,     0,     0,     0,     0,     0,     0,     0,\n           0,     0,     0,     0,     0,     0,     0,     0,     0,\n           0,     0,     0,     0,     0,     0,     0,     0,     0,\n           0,     0,     0,     0,     0,     0,     0,     0,     0,\n           0,     0,     0,     0,     0,     0,     0,     0,     0,\n           0,     0,     0,     0,     0,     0,     0,     0,     0,\n           0,     0,     0,     0,     0,     0,     0,     0,     0,\n           0,     0,     0,     0,     0,     0,     0,     0,     0,\n           0,     0,     0,     0,     0,     0,     0,     0,     0,\n           0,     0,     0,     0,     0,     0,     0,     0,     0,\n           0,     0,     0,     0,     0,     0,     0,     0,     0,\n           0,     0,     0,     0,     0,     0,     0,     0,     0,\n           0,     0,     0,     0,     0,     0,     0,     0,     0,\n           0,     0,     0,     0,     0,     0,     0,     0,     0,\n           0,     0,     0,     0,     0,     0,     0,     0,     0,\n           0,     0,     0,     0,     2,   125,  1199,    10,  1223,\n          67,  3175,   790,    10,    72,    79,     3,    98,    75,\n           7,   265,    17,     6,   760,   509,     7,    62,    79,\n           3,    33,  4305,     2,    20,     6,   252,    67,  3640,\n         157,     5,    21,   250,     5,     3,   974,     2,  1141,\n           5,    18,     4,  1178,     5,    21,   318,    95,   340,\n          19,     8,   207,    33, 29311,   109,    25,   283,     2,\n          29,     3,   128,     6,    37,    11,     1,    93,     7,\n        2782,     2,   804,     5,  2388,    24,     2,    46,  2931,\n        2421,    90,    10,    42,     5,   564,     4,    88,    12,\n          37,    10,  1144,    12,   519,   340,    19,   342,    12,\n          37,  5675,     3,     5,    21,     3,   164,  1199,    77,\n          17,    33, 11551,    27,     3,    14,     6,    37, 15133,\n           3,     1,   429,     7,     5,    44,    20,    12,    11,\n        1370,     2,   125,  1199,   116,   288,     4,  5507,    20,\n           2,   431,    42,     7,     1,   531,     4,     1,    28,\n           2,     9,   183,    58,     2,  5507,    20,     1,   519,\n         184,   492,    95,   115,   170,   714,     4,   340,    19,\n           8,     6,    85,    27,   201,   143,    37,   109,    25,\n         283,   199,  1303,    37,    16,   346,   103,    95,   340,\n          19,  2762,    27,    74, 19350,    38,    25,    79,   235,\n         521,    84,    23,    19,  2417,     1,   359,     4,    91,\n           1,   998,  3341,     7,  1524,    27,    74, 19350,    38,\n          25,    79,    11,    11,     5,    72,     7,  3098,   344,\n         143,    38,  3707,    60,    12,     9,     1,   251,     2,\n         117,    14,   150,    34,   665,    12,    58,     2,   150,\n          88,     5,    37,    61,     8,     2,   109,  2421,    90,\n          10,     5,   564,    12,    54,     9,   566,    20,    11,\n         152,  3455,    47,    36,   114,   169,   618,  1460,    79,\n           3,   671,   406,    13,   588,     5,    44,    54,     3,\n          12,    54,    67,     2,    29,   336,   589,    17,   176,\n        8406,    41,    20,   149,  1043,     4,    36,    63,   342,\n        1108,     5, 11809,    17,     6,   813,   149,   376,    79,\n           3,     1,  1867,     7,     1, 11809,   124,   334,    70,\n          15,   200,    22,     4,    13,    55,    15,   265,    20,\n          41], dtype=int32)"
          },
          "metadata": {}
        }
      ]
    },
    {
      "cell_type": "code",
      "source": [
        "len(x)"
      ],
      "metadata": {
        "colab": {
          "base_uri": "https://localhost:8080/"
        },
        "id": "gK2dW5Hhs2jJ",
        "outputId": "3bda478f-66a9-4e45-caf7-b36036116004",
        "execution": {
          "iopub.status.busy": "2024-02-28T22:53:11.557385Z",
          "iopub.execute_input": "2024-02-28T22:53:11.557640Z",
          "iopub.status.idle": "2024-02-28T22:53:11.567260Z",
          "shell.execute_reply.started": "2024-02-28T22:53:11.557619Z",
          "shell.execute_reply": "2024-02-28T22:53:11.566257Z"
        },
        "trusted": true
      },
      "execution_count": null,
      "outputs": [
        {
          "execution_count": 63,
          "output_type": "execute_result",
          "data": {
            "text/plain": "809343"
          },
          "metadata": {}
        }
      ]
    },
    {
      "cell_type": "code",
      "source": [
        "len(Y)"
      ],
      "metadata": {
        "colab": {
          "base_uri": "https://localhost:8080/"
        },
        "id": "OGM7YBkrs2mh",
        "outputId": "97233bbe-0d6d-4a93-f498-73c94ecc8b62",
        "execution": {
          "iopub.status.busy": "2024-02-28T22:53:11.568570Z",
          "iopub.execute_input": "2024-02-28T22:53:11.568835Z",
          "iopub.status.idle": "2024-02-28T22:53:11.580026Z",
          "shell.execute_reply.started": "2024-02-28T22:53:11.568813Z",
          "shell.execute_reply": "2024-02-28T22:53:11.578961Z"
        },
        "trusted": true
      },
      "execution_count": null,
      "outputs": [
        {
          "execution_count": 64,
          "output_type": "execute_result",
          "data": {
            "text/plain": "809343"
          },
          "metadata": {}
        }
      ]
    },
    {
      "cell_type": "code",
      "source": [
        "from sklearn.model_selection import train_test_split"
      ],
      "metadata": {
        "id": "0qrHKxqRtLGG",
        "execution": {
          "iopub.status.busy": "2024-02-28T22:53:11.583566Z",
          "iopub.execute_input": "2024-02-28T22:53:11.583816Z",
          "iopub.status.idle": "2024-02-28T22:53:12.059521Z",
          "shell.execute_reply.started": "2024-02-28T22:53:11.583796Z",
          "shell.execute_reply": "2024-02-28T22:53:12.058488Z"
        },
        "trusted": true
      },
      "execution_count": null,
      "outputs": []
    },
    {
      "cell_type": "code",
      "source": [
        "#splitting data\n",
        "\n",
        "800000"
      ],
      "metadata": {
        "id": "UTPori61tun3",
        "execution": {
          "iopub.status.busy": "2024-02-28T14:31:34.019968Z",
          "iopub.execute_input": "2024-02-28T14:31:34.020811Z",
          "iopub.status.idle": "2024-02-28T14:31:34.026800Z",
          "shell.execute_reply.started": "2024-02-28T14:31:34.020771Z",
          "shell.execute_reply": "2024-02-28T14:31:34.025957Z"
        },
        "trusted": true,
        "outputId": "01619ed6-030c-4bb6-dc29-53a991062113"
      },
      "execution_count": null,
      "outputs": [
        {
          "execution_count": 47,
          "output_type": "execute_result",
          "data": {
            "text/plain": "800000"
          },
          "metadata": {}
        }
      ]
    },
    {
      "cell_type": "code",
      "source": [
        "x_train, x_test, y_train, y_test = train_test_split(x, Y, test_size=0.05, random_state=55)"
      ],
      "metadata": {
        "id": "kD4P5HzztLp-",
        "execution": {
          "iopub.status.busy": "2024-02-29T00:31:36.479789Z",
          "iopub.execute_input": "2024-02-29T00:31:36.480530Z",
          "iopub.status.idle": "2024-02-29T00:31:37.561001Z",
          "shell.execute_reply.started": "2024-02-29T00:31:36.480495Z",
          "shell.execute_reply": "2024-02-29T00:31:37.560197Z"
        },
        "trusted": true
      },
      "execution_count": null,
      "outputs": []
    },
    {
      "cell_type": "code",
      "source": [
        "#stratified split"
      ],
      "metadata": {
        "id": "5BpEkZAb1gka"
      },
      "execution_count": null,
      "outputs": []
    },
    {
      "cell_type": "code",
      "source": [
        "x_train.shape"
      ],
      "metadata": {
        "id": "8Sw75p5rtLsJ",
        "execution": {
          "iopub.status.busy": "2024-02-28T22:53:13.142711Z",
          "iopub.execute_input": "2024-02-28T22:53:13.142961Z",
          "iopub.status.idle": "2024-02-28T22:53:13.148890Z",
          "shell.execute_reply.started": "2024-02-28T22:53:13.142939Z",
          "shell.execute_reply": "2024-02-28T22:53:13.147855Z"
        },
        "trusted": true,
        "outputId": "eb04eabd-6c84-43ec-bf39-ca283c14084f"
      },
      "execution_count": null,
      "outputs": [
        {
          "execution_count": 67,
          "output_type": "execute_result",
          "data": {
            "text/plain": "(768875, 1000)"
          },
          "metadata": {}
        }
      ]
    },
    {
      "cell_type": "code",
      "source": [
        "y_train.shape"
      ],
      "metadata": {
        "execution": {
          "iopub.status.busy": "2024-02-28T22:53:13.150173Z",
          "iopub.execute_input": "2024-02-28T22:53:13.150510Z",
          "iopub.status.idle": "2024-02-28T22:53:13.159607Z",
          "shell.execute_reply.started": "2024-02-28T22:53:13.150480Z",
          "shell.execute_reply": "2024-02-28T22:53:13.158785Z"
        },
        "trusted": true,
        "id": "KDUJQca01gka",
        "outputId": "7ca430a3-3108-4960-c4cd-ba13d8ed0b2e"
      },
      "execution_count": null,
      "outputs": [
        {
          "execution_count": 68,
          "output_type": "execute_result",
          "data": {
            "text/plain": "(768875, 8)"
          },
          "metadata": {}
        }
      ]
    },
    {
      "cell_type": "code",
      "source": [
        "#Dropout\n",
        "#EarlyStopping"
      ],
      "metadata": {
        "id": "uwCIpajv1gkb"
      },
      "execution_count": null,
      "outputs": []
    },
    {
      "cell_type": "code",
      "source": [
        "o   o\n",
        "    o\n",
        "\n",
        "o               o\n",
        "    o\n",
        "o   o\n",
        "    o"
      ],
      "metadata": {
        "id": "DHfk3z0g1gkb"
      },
      "execution_count": null,
      "outputs": []
    },
    {
      "cell_type": "code",
      "source": [
        "\n",
        "from tensorflow.keras.preprocessing.sequence import pad_sequences\n",
        "from tensorflow.keras.callbacks import EarlyStopping\n",
        "\n",
        "# Modeling\n",
        "from tensorflow.keras.models import Sequential\n",
        "from tensorflow.keras.layers import LSTM, GRU, Dense, Embedding, Dropout, SpatialDropout1D, Bidirectional"
      ],
      "metadata": {
        "id": "hhRmhdXOub3r",
        "execution": {
          "iopub.status.busy": "2024-02-28T22:53:13.160801Z",
          "iopub.execute_input": "2024-02-28T22:53:13.161562Z",
          "iopub.status.idle": "2024-02-28T22:53:13.175355Z",
          "shell.execute_reply.started": "2024-02-28T22:53:13.161537Z",
          "shell.execute_reply": "2024-02-28T22:53:13.174374Z"
        },
        "trusted": true
      },
      "execution_count": null,
      "outputs": []
    },
    {
      "cell_type": "code",
      "source": [
        "#Model\n",
        "\n",
        "\n",
        "model=Sequential()\n",
        "model.add(Embedding(50000,100))\n",
        "model.add(SpatialDropout1D(0.2))\n",
        "model.add(LSTM(100, dropout=0.2, recurrent_dropout=0.2))\n",
        "model.add(Dense(8, activation='softmax'))\n",
        "model.compile(loss='categorical_crossentropy', optimizer='adam', metrics=['accuracy'])"
      ],
      "metadata": {
        "id": "BaXgVsLxuEPP",
        "execution": {
          "iopub.status.busy": "2024-02-28T23:00:30.655547Z",
          "iopub.execute_input": "2024-02-28T23:00:30.655930Z",
          "iopub.status.idle": "2024-02-28T23:00:31.606038Z",
          "shell.execute_reply.started": "2024-02-28T23:00:30.655899Z",
          "shell.execute_reply": "2024-02-28T23:00:31.605084Z"
        },
        "trusted": true
      },
      "execution_count": null,
      "outputs": []
    },
    {
      "cell_type": "code",
      "source": [],
      "metadata": {
        "id": "nCoBUTby1gkb"
      },
      "execution_count": null,
      "outputs": []
    },
    {
      "cell_type": "code",
      "source": [
        "model.summary()"
      ],
      "metadata": {
        "id": "bfndmHdNuERY",
        "execution": {
          "iopub.status.busy": "2024-02-28T23:00:34.490322Z",
          "iopub.execute_input": "2024-02-28T23:00:34.491304Z",
          "iopub.status.idle": "2024-02-28T23:00:34.515758Z",
          "shell.execute_reply.started": "2024-02-28T23:00:34.491267Z",
          "shell.execute_reply": "2024-02-28T23:00:34.514715Z"
        },
        "trusted": true,
        "outputId": "94be946f-46b2-4814-d005-4fe49807658a"
      },
      "execution_count": null,
      "outputs": [
        {
          "output_type": "display_data",
          "data": {
            "text/plain": "\u001b[1mModel: \"sequential_1\"\u001b[0m\n",
            "text/html": "<pre style=\"white-space:pre;overflow-x:auto;line-height:normal;font-family:Menlo,'DejaVu Sans Mono',consolas,'Courier New',monospace\"><span style=\"font-weight: bold\">Model: \"sequential_1\"</span>\n</pre>\n"
          },
          "metadata": {}
        },
        {
          "output_type": "display_data",
          "data": {
            "text/plain": "┏━━━━━━━━━━━━━━━━━━━━━━━━━━━━━━━━━┳━━━━━━━━━━━━━━━━━━━━━━━━┳━━━━━━━━━━━━━━━┓\n┃\u001b[1m \u001b[0m\u001b[1mLayer (type)                   \u001b[0m\u001b[1m \u001b[0m┃\u001b[1m \u001b[0m\u001b[1mOutput Shape          \u001b[0m\u001b[1m \u001b[0m┃\u001b[1m \u001b[0m\u001b[1m      Param #\u001b[0m\u001b[1m \u001b[0m┃\n┡━━━━━━━━━━━━━━━━━━━━━━━━━━━━━━━━━╇━━━━━━━━━━━━━━━━━━━━━━━━╇━━━━━━━━━━━━━━━┩\n│ embedding_1 (\u001b[38;5;33mEmbedding\u001b[0m)         │ ?                      │   \u001b[38;5;34m0\u001b[0m (unbuilt) │\n├─────────────────────────────────┼────────────────────────┼───────────────┤\n│ spatial_dropout1d               │ ?                      │             \u001b[38;5;34m0\u001b[0m │\n│ (\u001b[38;5;33mSpatialDropout1D\u001b[0m)              │                        │               │\n├─────────────────────────────────┼────────────────────────┼───────────────┤\n│ lstm (\u001b[38;5;33mLSTM\u001b[0m)                     │ ?                      │   \u001b[38;5;34m0\u001b[0m (unbuilt) │\n├─────────────────────────────────┼────────────────────────┼───────────────┤\n│ dense (\u001b[38;5;33mDense\u001b[0m)                   │ ?                      │   \u001b[38;5;34m0\u001b[0m (unbuilt) │\n└─────────────────────────────────┴────────────────────────┴───────────────┘\n",
            "text/html": "<pre style=\"white-space:pre;overflow-x:auto;line-height:normal;font-family:Menlo,'DejaVu Sans Mono',consolas,'Courier New',monospace\">┏━━━━━━━━━━━━━━━━━━━━━━━━━━━━━━━━━┳━━━━━━━━━━━━━━━━━━━━━━━━┳━━━━━━━━━━━━━━━┓\n┃<span style=\"font-weight: bold\"> Layer (type)                    </span>┃<span style=\"font-weight: bold\"> Output Shape           </span>┃<span style=\"font-weight: bold\">       Param # </span>┃\n┡━━━━━━━━━━━━━━━━━━━━━━━━━━━━━━━━━╇━━━━━━━━━━━━━━━━━━━━━━━━╇━━━━━━━━━━━━━━━┩\n│ embedding_1 (<span style=\"color: #0087ff; text-decoration-color: #0087ff\">Embedding</span>)         │ ?                      │   <span style=\"color: #00af00; text-decoration-color: #00af00\">0</span> (unbuilt) │\n├─────────────────────────────────┼────────────────────────┼───────────────┤\n│ spatial_dropout1d               │ ?                      │             <span style=\"color: #00af00; text-decoration-color: #00af00\">0</span> │\n│ (<span style=\"color: #0087ff; text-decoration-color: #0087ff\">SpatialDropout1D</span>)              │                        │               │\n├─────────────────────────────────┼────────────────────────┼───────────────┤\n│ lstm (<span style=\"color: #0087ff; text-decoration-color: #0087ff\">LSTM</span>)                     │ ?                      │   <span style=\"color: #00af00; text-decoration-color: #00af00\">0</span> (unbuilt) │\n├─────────────────────────────────┼────────────────────────┼───────────────┤\n│ dense (<span style=\"color: #0087ff; text-decoration-color: #0087ff\">Dense</span>)                   │ ?                      │   <span style=\"color: #00af00; text-decoration-color: #00af00\">0</span> (unbuilt) │\n└─────────────────────────────────┴────────────────────────┴───────────────┘\n</pre>\n"
          },
          "metadata": {}
        },
        {
          "output_type": "display_data",
          "data": {
            "text/plain": "\u001b[1m Total params: \u001b[0m\u001b[38;5;34m0\u001b[0m (0.00 B)\n",
            "text/html": "<pre style=\"white-space:pre;overflow-x:auto;line-height:normal;font-family:Menlo,'DejaVu Sans Mono',consolas,'Courier New',monospace\"><span style=\"font-weight: bold\"> Total params: </span><span style=\"color: #00af00; text-decoration-color: #00af00\">0</span> (0.00 B)\n</pre>\n"
          },
          "metadata": {}
        },
        {
          "output_type": "display_data",
          "data": {
            "text/plain": "\u001b[1m Trainable params: \u001b[0m\u001b[38;5;34m0\u001b[0m (0.00 B)\n",
            "text/html": "<pre style=\"white-space:pre;overflow-x:auto;line-height:normal;font-family:Menlo,'DejaVu Sans Mono',consolas,'Courier New',monospace\"><span style=\"font-weight: bold\"> Trainable params: </span><span style=\"color: #00af00; text-decoration-color: #00af00\">0</span> (0.00 B)\n</pre>\n"
          },
          "metadata": {}
        },
        {
          "output_type": "display_data",
          "data": {
            "text/plain": "\u001b[1m Non-trainable params: \u001b[0m\u001b[38;5;34m0\u001b[0m (0.00 B)\n",
            "text/html": "<pre style=\"white-space:pre;overflow-x:auto;line-height:normal;font-family:Menlo,'DejaVu Sans Mono',consolas,'Courier New',monospace\"><span style=\"font-weight: bold\"> Non-trainable params: </span><span style=\"color: #00af00; text-decoration-color: #00af00\">0</span> (0.00 B)\n</pre>\n"
          },
          "metadata": {}
        }
      ]
    },
    {
      "cell_type": "code",
      "source": [
        "class_labels = np.unique(df['Product'])\n",
        "\n",
        "from sklearn.utils.class_weight import compute_class_weight\n",
        "class_weights = compute_class_weight(class_weight ='balanced',\n",
        "classes=np.unique(df['Product']),y = df['Product'])\n",
        "\n",
        "# class_weights.sort()\n",
        "class_weights_dict = dict(zip(class_labels, class_weights))"
      ],
      "metadata": {
        "execution": {
          "iopub.status.busy": "2024-02-28T23:08:34.566941Z",
          "iopub.execute_input": "2024-02-28T23:08:34.567320Z",
          "iopub.status.idle": "2024-02-28T23:08:36.683653Z",
          "shell.execute_reply.started": "2024-02-28T23:08:34.567292Z",
          "shell.execute_reply": "2024-02-28T23:08:36.682804Z"
        },
        "trusted": true,
        "id": "KrepdWZs1gkc"
      },
      "execution_count": null,
      "outputs": []
    },
    {
      "cell_type": "code",
      "source": [],
      "metadata": {
        "id": "PAm4jWPH1gkc"
      },
      "execution_count": null,
      "outputs": []
    },
    {
      "cell_type": "code",
      "source": [
        "history = model.fit(x_train,\n",
        "                    y_train,\n",
        "                    epochs=7,\n",
        "                    batch_size=2064,\n",
        "                    validation_split=0.1,\n",
        "                    class_weight=class_weights_dict,\n",
        "                    callbacks=[EarlyStopping(monitor='val_loss', patience=3, min_delta=0.0001)])"
      ],
      "metadata": {
        "execution": {
          "iopub.status.busy": "2024-02-28T23:08:36.685074Z",
          "iopub.execute_input": "2024-02-28T23:08:36.685364Z",
          "iopub.status.idle": "2024-02-29T00:13:48.537036Z",
          "shell.execute_reply.started": "2024-02-28T23:08:36.685340Z",
          "shell.execute_reply": "2024-02-29T00:13:48.535981Z"
        },
        "trusted": true,
        "id": "WBqDDbnA1gkc",
        "outputId": "9ce6b169-ab14-4902-9073-e894c9cc2399"
      },
      "execution_count": null,
      "outputs": [
        {
          "name": "stdout",
          "text": "Epoch 1/7\n\u001b[1m336/336\u001b[0m \u001b[32m━━━━━━━━━━━━━━━━━━━━\u001b[0m\u001b[37m\u001b[0m \u001b[1m571s\u001b[0m 2s/step - accuracy: 0.5235 - loss: 1.3492 - val_accuracy: 0.6824 - val_loss: 0.9058\nEpoch 2/7\n\u001b[1m336/336\u001b[0m \u001b[32m━━━━━━━━━━━━━━━━━━━━\u001b[0m\u001b[37m\u001b[0m \u001b[1m562s\u001b[0m 2s/step - accuracy: 0.6674 - loss: 0.9502 - val_accuracy: 0.7214 - val_loss: 0.7867\nEpoch 3/7\n\u001b[1m336/336\u001b[0m \u001b[32m━━━━━━━━━━━━━━━━━━━━\u001b[0m\u001b[37m\u001b[0m \u001b[1m560s\u001b[0m 2s/step - accuracy: 0.7105 - loss: 0.8217 - val_accuracy: 0.7314 - val_loss: 0.7586\nEpoch 4/7\n\u001b[1m336/336\u001b[0m \u001b[32m━━━━━━━━━━━━━━━━━━━━\u001b[0m\u001b[37m\u001b[0m \u001b[1m559s\u001b[0m 2s/step - accuracy: 0.7355 - loss: 0.7678 - val_accuracy: 0.7921 - val_loss: 0.6352\nEpoch 5/7\n\u001b[1m336/336\u001b[0m \u001b[32m━━━━━━━━━━━━━━━━━━━━\u001b[0m\u001b[37m\u001b[0m \u001b[1m556s\u001b[0m 2s/step - accuracy: 0.7750 - loss: 0.6748 - val_accuracy: 0.7679 - val_loss: 0.6709\nEpoch 6/7\n\u001b[1m336/336\u001b[0m \u001b[32m━━━━━━━━━━━━━━━━━━━━\u001b[0m\u001b[37m\u001b[0m \u001b[1m548s\u001b[0m 2s/step - accuracy: 0.7888 - loss: 0.6444 - val_accuracy: 0.8265 - val_loss: 0.5418\nEpoch 7/7\n\u001b[1m336/336\u001b[0m \u001b[32m━━━━━━━━━━━━━━━━━━━━\u001b[0m\u001b[37m\u001b[0m \u001b[1m551s\u001b[0m 2s/step - accuracy: 0.8173 - loss: 0.5698 - val_accuracy: 0.8358 - val_loss: 0.5049\n",
          "output_type": "stream"
        }
      ]
    },
    {
      "cell_type": "code",
      "source": [
        "model.summary()"
      ],
      "metadata": {
        "id": "5QxSzIZC1gkc"
      },
      "execution_count": null,
      "outputs": []
    },
    {
      "cell_type": "code",
      "source": [
        "accr = model.evaluate(x_test,y_test)\n",
        "print('Test set\\n  Loss: {:0.3f}\\n  Accuracy: {:0.3f}'.format(accr[0],accr[1]))"
      ],
      "metadata": {
        "execution": {
          "iopub.status.busy": "2024-02-29T00:13:48.539658Z",
          "iopub.execute_input": "2024-02-29T00:13:48.540043Z",
          "iopub.status.idle": "2024-02-29T00:21:19.112366Z",
          "shell.execute_reply.started": "2024-02-29T00:13:48.540009Z",
          "shell.execute_reply": "2024-02-29T00:21:19.111368Z"
        },
        "trusted": true,
        "id": "Q-Ppgknb1gkd",
        "outputId": "abf294bf-beb7-4ad9-d291-0b15048c134a"
      },
      "execution_count": null,
      "outputs": [
        {
          "name": "stdout",
          "text": "\u001b[1m1265/1265\u001b[0m \u001b[32m━━━━━━━━━━━━━━━━━━━━\u001b[0m\u001b[37m\u001b[0m \u001b[1m450s\u001b[0m 356ms/step - accuracy: 0.8357 - loss: 0.5023\nTest set\n  Loss: 0.501\n  Accuracy: 0.837\n",
          "output_type": "stream"
        }
      ]
    },
    {
      "cell_type": "code",
      "source": [
        "pred = model.predict(x_test)"
      ],
      "metadata": {
        "execution": {
          "iopub.status.busy": "2024-02-29T00:21:19.113644Z",
          "iopub.execute_input": "2024-02-29T00:21:19.114086Z",
          "iopub.status.idle": "2024-02-29T00:28:52.629315Z",
          "shell.execute_reply.started": "2024-02-29T00:21:19.114053Z",
          "shell.execute_reply": "2024-02-29T00:28:52.628004Z"
        },
        "trusted": true,
        "id": "bmMdZJcq1gkd",
        "outputId": "a7e35a60-08e4-4da3-d972-9168f3943ad4"
      },
      "execution_count": null,
      "outputs": [
        {
          "name": "stdout",
          "text": "\u001b[1m1265/1265\u001b[0m \u001b[32m━━━━━━━━━━━━━━━━━━━━\u001b[0m\u001b[37m\u001b[0m \u001b[1m453s\u001b[0m 358ms/step\n",
          "output_type": "stream"
        }
      ]
    },
    {
      "cell_type": "code",
      "source": [
        "# confusion matrix in sklearn\n",
        "from sklearn.metrics import confusion_matrix\n",
        "from sklearn.metrics import classification_report"
      ],
      "metadata": {
        "execution": {
          "iopub.status.busy": "2024-02-29T00:28:54.297856Z",
          "iopub.execute_input": "2024-02-29T00:28:54.298207Z",
          "iopub.status.idle": "2024-02-29T00:28:54.303523Z",
          "shell.execute_reply.started": "2024-02-29T00:28:54.298182Z",
          "shell.execute_reply": "2024-02-29T00:28:54.302419Z"
        },
        "trusted": true,
        "id": "cgW2fSrL1gkd"
      },
      "execution_count": null,
      "outputs": []
    },
    {
      "cell_type": "code",
      "source": [
        "y_pred=np.argmax(pred, axis=1)"
      ],
      "metadata": {
        "execution": {
          "iopub.status.busy": "2024-02-29T00:30:45.101156Z",
          "iopub.execute_input": "2024-02-29T00:30:45.101847Z",
          "iopub.status.idle": "2024-02-29T00:30:45.106785Z",
          "shell.execute_reply.started": "2024-02-29T00:30:45.101815Z",
          "shell.execute_reply": "2024-02-29T00:30:45.105789Z"
        },
        "trusted": true,
        "id": "Qqaj-L_j1gkd"
      },
      "execution_count": null,
      "outputs": []
    },
    {
      "cell_type": "code",
      "source": [
        "y_test_=np.argmax(y_test, axis=1)"
      ],
      "metadata": {
        "execution": {
          "iopub.status.busy": "2024-02-29T00:32:48.316074Z",
          "iopub.execute_input": "2024-02-29T00:32:48.316778Z",
          "iopub.status.idle": "2024-02-29T00:32:48.321449Z",
          "shell.execute_reply.started": "2024-02-29T00:32:48.316745Z",
          "shell.execute_reply": "2024-02-29T00:32:48.320408Z"
        },
        "trusted": true,
        "id": "GIxX7L6r1gkd"
      },
      "execution_count": null,
      "outputs": []
    },
    {
      "cell_type": "code",
      "source": [
        "len(y_test_)"
      ],
      "metadata": {
        "execution": {
          "iopub.status.busy": "2024-02-29T00:32:53.498539Z",
          "iopub.execute_input": "2024-02-29T00:32:53.498911Z",
          "iopub.status.idle": "2024-02-29T00:32:53.505079Z",
          "shell.execute_reply.started": "2024-02-29T00:32:53.498882Z",
          "shell.execute_reply": "2024-02-29T00:32:53.504037Z"
        },
        "trusted": true,
        "id": "YTv8k4YQ1gke",
        "outputId": "970cebba-b9bc-489a-d9a7-4a5121fbe3c1"
      },
      "execution_count": null,
      "outputs": [
        {
          "execution_count": 103,
          "output_type": "execute_result",
          "data": {
            "text/plain": "40468"
          },
          "metadata": {}
        }
      ]
    },
    {
      "cell_type": "code",
      "source": [
        "# confusion matrix\n",
        "matrix = confusion_matrix(y_test_,y_pred)"
      ],
      "metadata": {
        "execution": {
          "iopub.status.busy": "2024-02-29T00:33:14.092753Z",
          "iopub.execute_input": "2024-02-29T00:33:14.093111Z",
          "iopub.status.idle": "2024-02-29T00:33:14.105958Z",
          "shell.execute_reply.started": "2024-02-29T00:33:14.093082Z",
          "shell.execute_reply": "2024-02-29T00:33:14.104871Z"
        },
        "trusted": true,
        "id": "iCEBMZYv1gke"
      },
      "execution_count": null,
      "outputs": []
    },
    {
      "cell_type": "code",
      "source": [
        "matrix"
      ],
      "metadata": {
        "execution": {
          "iopub.status.busy": "2024-02-29T00:33:18.104308Z",
          "iopub.execute_input": "2024-02-29T00:33:18.104656Z",
          "iopub.status.idle": "2024-02-29T00:33:18.111130Z",
          "shell.execute_reply.started": "2024-02-29T00:33:18.104631Z",
          "shell.execute_reply": "2024-02-29T00:33:18.110021Z"
        },
        "trusted": true,
        "id": "CHsBC_ym1gke",
        "outputId": "fb3b56a6-eb7e-4a06-887e-127cb148d348"
      },
      "execution_count": null,
      "outputs": [
        {
          "execution_count": 106,
          "output_type": "execute_result",
          "data": {
            "text/plain": "array([[ 6199,   124,    70,   197,   961,   267,    21,     2],\n       [   47,  3859,    39,    18,   223,   106,     0,     0],\n       [   36,    42,  1965,   263,    79,    47,    94,     2],\n       [  170,    16,   230,  2997,   413,    86,    44,     1],\n       [  959,   160,    67,   363, 15714,   288,     5,     4],\n       [  214,    28,    54,    74,   393,  2453,     4,     1],\n       [   15,     7,   257,    65,    15,    12,   685,     1],\n       [    1,     1,     4,     0,     0,     3,     3,     0]])"
          },
          "metadata": {}
        }
      ]
    },
    {
      "cell_type": "code",
      "source": [
        "import matplotlib.pyplot as plt\n",
        "import seaborn as sns"
      ],
      "metadata": {
        "execution": {
          "iopub.status.busy": "2024-02-29T00:33:24.508545Z",
          "iopub.execute_input": "2024-02-29T00:33:24.508916Z",
          "iopub.status.idle": "2024-02-29T00:33:24.516488Z",
          "shell.execute_reply.started": "2024-02-29T00:33:24.508886Z",
          "shell.execute_reply": "2024-02-29T00:33:24.515178Z"
        },
        "trusted": true,
        "id": "nrBYhMeW1gke"
      },
      "execution_count": null,
      "outputs": []
    },
    {
      "cell_type": "code",
      "source": [
        "fig, ax = plt.subplots(figsize=(10,10))\n",
        "sns.heatmap(matrix,\n",
        "            annot=True,)\n",
        "plt.ylabel('Prediction',fontsize=13)\n",
        "plt.xlabel('Actual',fontsize=13)\n",
        "plt.title('Confusion Matrix',fontsize=17)"
      ],
      "metadata": {
        "execution": {
          "iopub.status.busy": "2024-02-29T00:33:25.366802Z",
          "iopub.execute_input": "2024-02-29T00:33:25.367456Z",
          "iopub.status.idle": "2024-02-29T00:33:25.927792Z",
          "shell.execute_reply.started": "2024-02-29T00:33:25.367421Z",
          "shell.execute_reply": "2024-02-29T00:33:25.926890Z"
        },
        "trusted": true,
        "id": "Jer0opQr1gke",
        "outputId": "3bbccda8-bc0a-49f8-d848-67aa946953c7"
      },
      "execution_count": null,
      "outputs": [
        {
          "execution_count": 108,
          "output_type": "execute_result",
          "data": {
            "text/plain": "Text(0.5, 1.0, 'Confusion Matrix')"
          },
          "metadata": {}
        },
        {
          "output_type": "display_data",
          "data": {
            "text/plain": "<Figure size 1000x1000 with 2 Axes>",
            "image/png": "[encoded data removed]"
          },
          "metadata": {}
        }
      ]
    },
    {
      "cell_type": "code",
      "source": [
        "0 : Debt collection\n",
        "1 : Mortgage\n",
        "2 : account\n",
        "3 : card\n",
        "4 : credit_report\n",
        "5 : loan\n",
        "6 : money_transfer\n",
        "7 : others"
      ],
      "metadata": {
        "id": "Olae1CDv1gke"
      },
      "execution_count": null,
      "outputs": []
    },
    {
      "cell_type": "code",
      "source": [
        "4 getting misclasiify by --> 0,1,3,5\n",
        "5 getting misclasiify by --> 0,4\n",
        "3 getting misclasiify by --> 0,2, 4\n",
        "2 getting misclasiify by --> 3"
      ],
      "metadata": {
        "id": "MU4bOrG31gkf"
      },
      "execution_count": null,
      "outputs": []
    },
    {
      "cell_type": "code",
      "source": [
        "# Debt collection\tMortgage\taccount\tcard\tcredit_report\tloan\tmoney_transfer\tothers"
      ],
      "metadata": {
        "id": "ILqZsmvw1gkf"
      },
      "execution_count": null,
      "outputs": []
    },
    {
      "cell_type": "code",
      "source": [
        "#Error Analysis\n",
        "\n"
      ],
      "metadata": {
        "id": "03-IP62w1gkf"
      },
      "execution_count": null,
      "outputs": []
    },
    {
      "cell_type": "code",
      "source": [
        "type 1 : FP\n",
        "\n",
        "type 2: FN"
      ],
      "metadata": {
        "id": "CF8XGCvF1gkf"
      },
      "execution_count": null,
      "outputs": []
    },
    {
      "cell_type": "code",
      "source": [
        "accuracy\n",
        "\n",
        "precision  : minimun type 1 error  --> Spam classifiaction\n",
        "\n",
        "recall : minimun type 1 error --> diesese prediction"
      ],
      "metadata": {
        "id": "ZM_IE2Wx1gkg"
      },
      "execution_count": null,
      "outputs": []
    },
    {
      "cell_type": "code",
      "source": [
        "print(classification_report(y_test_, y_pred))"
      ],
      "metadata": {
        "execution": {
          "iopub.status.busy": "2024-02-29T00:41:47.488228Z",
          "iopub.execute_input": "2024-02-29T00:41:47.489133Z",
          "iopub.status.idle": "2024-02-29T00:41:47.558045Z",
          "shell.execute_reply.started": "2024-02-29T00:41:47.489100Z",
          "shell.execute_reply": "2024-02-29T00:41:47.557204Z"
        },
        "trusted": true,
        "id": "ccMKxNS31gkg",
        "outputId": "42201b68-32ad-4ea8-9362-5763ba3c791b"
      },
      "execution_count": null,
      "outputs": [
        {
          "name": "stdout",
          "text": "              precision    recall  f1-score   support\n\n           0       0.81      0.79      0.80      7841\n           1       0.91      0.90      0.90      4292\n           2       0.73      0.78      0.75      2528\n           3       0.75      0.76      0.76      3957\n           4       0.88      0.89      0.89     17560\n           5       0.75      0.76      0.76      3221\n           6       0.80      0.65      0.72      1057\n           7       0.00      0.00      0.00        12\n\n    accuracy                           0.84     40468\n   macro avg       0.71      0.69      0.70     40468\nweighted avg       0.84      0.84      0.84     40468\n\n",
          "output_type": "stream"
        }
      ]
    },
    {
      "cell_type": "code",
      "source": [
        "plt.title('Loss')\n",
        "plt.plot(history.history['loss'], label='train')\n",
        "plt.plot(history.history['val_loss'], label='test')\n",
        "plt.legend()"
      ],
      "metadata": {
        "execution": {
          "iopub.status.busy": "2024-02-29T00:36:01.190039Z",
          "iopub.execute_input": "2024-02-29T00:36:01.190356Z",
          "iopub.status.idle": "2024-02-29T00:36:01.517998Z",
          "shell.execute_reply.started": "2024-02-29T00:36:01.190331Z",
          "shell.execute_reply": "2024-02-29T00:36:01.517097Z"
        },
        "trusted": true,
        "id": "6UDtz-iw1gkg",
        "outputId": "027eee42-cfb1-427e-bb7a-0774bfed88fa"
      },
      "execution_count": null,
      "outputs": [
        {
          "execution_count": 110,
          "output_type": "execute_result",
          "data": {
            "text/plain": "<matplotlib.legend.Legend at 0x7d45cce0a080>"
          },
          "metadata": {}
        },
        {
          "output_type": "display_data",
          "data": {
            "text/plain": "<Figure size 640x480 with 1 Axes>",
            "image/png": "[encoded data removed]"
          },
          "metadata": {}
        }
      ]
    },
    {
      "cell_type": "code",
      "source": [
        "plt.title('Accuracy')\n",
        "plt.plot(history.history['accuracy'], label='train')\n",
        "plt.plot(history.history['val_accuracy'], label='test')\n",
        "plt.legend()"
      ],
      "metadata": {
        "execution": {
          "iopub.status.busy": "2024-02-29T00:36:01.519775Z",
          "iopub.execute_input": "2024-02-29T00:36:01.520127Z",
          "iopub.status.idle": "2024-02-29T00:36:01.830494Z",
          "shell.execute_reply.started": "2024-02-29T00:36:01.520096Z",
          "shell.execute_reply": "2024-02-29T00:36:01.829565Z"
        },
        "trusted": true,
        "id": "Tl_dD-VU1gkg",
        "outputId": "206b1001-2625-4245-a389-cd821e256508"
      },
      "execution_count": null,
      "outputs": [
        {
          "execution_count": 111,
          "output_type": "execute_result",
          "data": {
            "text/plain": "<matplotlib.legend.Legend at 0x7d45ccca4880>"
          },
          "metadata": {}
        },
        {
          "output_type": "display_data",
          "data": {
            "text/plain": "<Figure size 640x480 with 1 Axes>",
            "image/png": "[encoded data removed]"
          },
          "metadata": {}
        }
      ]
    },
    {
      "cell_type": "code",
      "source": [
        "df['Product'].value_counts()"
      ],
      "metadata": {
        "execution": {
          "iopub.status.busy": "2024-02-29T00:36:07.942133Z",
          "iopub.execute_input": "2024-02-29T00:36:07.942866Z",
          "iopub.status.idle": "2024-02-29T00:36:08.045663Z",
          "shell.execute_reply.started": "2024-02-29T00:36:07.942835Z",
          "shell.execute_reply": "2024-02-29T00:36:08.044685Z"
        },
        "trusted": true,
        "id": "mcbpZF4E1gkh",
        "outputId": "6800903c-456d-4e7d-f417-82e7b1ae6194"
      },
      "execution_count": null,
      "outputs": [
        {
          "execution_count": 113,
          "output_type": "execute_result",
          "data": {
            "text/plain": "Product\ncredit_report      348053\nDebt collection    157381\nMortgage            84461\ncard                81042\nloan                65744\naccount             52274\nmoney_transfer      20096\nothers                292\nName: count, dtype: int64"
          },
          "metadata": {}
        }
      ]
    },
    {
      "cell_type": "code",
      "source": [
        "df.head()"
      ],
      "metadata": {
        "execution": {
          "iopub.status.busy": "2024-02-29T00:36:08.216095Z",
          "iopub.execute_input": "2024-02-29T00:36:08.216805Z",
          "iopub.status.idle": "2024-02-29T00:36:08.225940Z",
          "shell.execute_reply.started": "2024-02-29T00:36:08.216776Z",
          "shell.execute_reply": "2024-02-29T00:36:08.224996Z"
        },
        "trusted": true,
        "id": "4KW8khbH1gkh",
        "outputId": "31aa5823-ba8d-47b9-b3ca-26581c04e0cc"
      },
      "execution_count": null,
      "outputs": [
        {
          "execution_count": 114,
          "output_type": "execute_result",
          "data": {
            "text/plain": "          Product                       Consumer complaint narrative\n1            loan  i contacted ally on friday  after falling behi...\n7   credit_report  hello this complaint is against the three cred...\n8   credit_report  i am a victim of identity theft  currently hav...\n10  credit_report  two accounts are still on my credit history af...\n13  credit_report  receiving daily telephone call  s  from    ide...",
            "text/html": "<div>\n<style scoped>\n    .dataframe tbody tr th:only-of-type {\n        vertical-align: middle;\n    }\n\n    .dataframe tbody tr th {\n        vertical-align: top;\n    }\n\n    .dataframe thead th {\n        text-align: right;\n    }\n</style>\n<table border=\"1\" class=\"dataframe\">\n  <thead>\n    <tr style=\"text-align: right;\">\n      <th></th>\n      <th>Product</th>\n      <th>Consumer complaint narrative</th>\n    </tr>\n  </thead>\n  <tbody>\n    <tr>\n      <th>1</th>\n      <td>loan</td>\n      <td>i contacted ally on friday  after falling behi...</td>\n    </tr>\n    <tr>\n      <th>7</th>\n      <td>credit_report</td>\n      <td>hello this complaint is against the three cred...</td>\n    </tr>\n    <tr>\n      <th>8</th>\n      <td>credit_report</td>\n      <td>i am a victim of identity theft  currently hav...</td>\n    </tr>\n    <tr>\n      <th>10</th>\n      <td>credit_report</td>\n      <td>two accounts are still on my credit history af...</td>\n    </tr>\n    <tr>\n      <th>13</th>\n      <td>credit_report</td>\n      <td>receiving daily telephone call  s  from    ide...</td>\n    </tr>\n  </tbody>\n</table>\n</div>"
          },
          "metadata": {}
        }
      ]
    },
    {
      "cell_type": "code",
      "source": [
        "df['Consumer complaint narrative'][10]"
      ],
      "metadata": {
        "execution": {
          "iopub.status.busy": "2024-02-29T00:36:12.131010Z",
          "iopub.execute_input": "2024-02-29T00:36:12.131671Z",
          "iopub.status.idle": "2024-02-29T00:36:12.137633Z",
          "shell.execute_reply.started": "2024-02-29T00:36:12.131637Z",
          "shell.execute_reply": "2024-02-29T00:36:12.136630Z"
        },
        "trusted": true,
        "id": "g42K_Zep1gkh",
        "outputId": "b83cfcd5-debf-48c9-e6b2-6fdad64b8773"
      },
      "execution_count": null,
      "outputs": [
        {
          "execution_count": 115,
          "output_type": "execute_result",
          "data": {
            "text/plain": "'hello this complaint is against the three credit reporting companies  trans union and  i noticed some discrepencies on my credit report so i put a credit freeze with on 2019 i then notified the three credit agencies previously stated with a writtent letter dated 2019 requesting them to verifiy certain accounts showing on my report they were a bankruptcy and a bank account from    \\nthe response from  and   was that it was verified through their third partner  that can not be correct because i have a freeze on my   account since  which no one can obtain my report for anything until i unfreeze it \\ni wrote  and  a second letter and mailed them on 2019 telling them that they have lied when they said that they verified the two accounts in question using  because i have a freeze on my account and when i called  on 2019 they stated that no one has requested or attempted access to my account this year i told them that they are in violation of my consumer rights and demand that these two accounts be removed from my report immediately only  wrote back a letter dated 2019 stating that  verified the accounts and that i should talk to them if i have a complaint \\n\\ntrans union never responded to my letter dated 2019 to verifiy the two accounts in question since and the 30 plus days to investigate my claim has been expired when i checked my credit report with transunion it states that they too uses  to verify the two accounts in question i also wrote them a second letter and mailed it on 2019 stating that they are in violation of my consumer rights and demand that these two accounts be removed from my report immediately \\n\\nplease investigate these compnaies because what they are doing is wrong they are using a third party that gives wrong information and attach it to your account and then tell you to fight them to get it corrected no i dont have to fight because   and trans union all lied and said that  verified and account which is impossible because my account with them is frozen and no one can access it but i i demand that these items on my account that was not verified be removed from my account because they are in violation of my rights and not to mention trans union did not even respond to my investigation request'"
          },
          "metadata": {}
        }
      ]
    },
    {
      "cell_type": "code",
      "source": [
        "new_complaint = ['''i contacted ally on friday after falling behind on payments due to being out of work for a short period of time due to an illness i chated with a representative after logging into my account regarding my opitions to ensure i protect my credit and bring my account current\n",
        "\n",
        "she advised me that before an extenstion could be done i had to make a payment in the amount of i reviewed my finances as i am playing catch up on all my bills and made this payment on monday this rep advised me once this payment posts to my account to contact ally back for an extention or to have a payment deffered to the end of my loan\n",
        "\n",
        "with this in mind i contacted ally again today and chatted with i explained all of the above and the information i was provided when i chatted with the rep last week she asked several questions and advised me that a one or two month extension deffered payment could be done however partial payment is needed what she advised me or there abouts would be due within days from me accepting the agreement and then the remaining bal of or there abouts would be due in in my payments of per month would resume\n",
        "\n",
        "if this was the case i should have just been offered this when i just made my payment so that i could catch up on my bills\n",
        "\n",
        "this company was working with in new jersey which has since closed most likely due to illegal practices they changed my loan company to this company after i had signed paperwork for another kill you with interest rates and has never once considered refiancing my vechile for a lower interest rate due to the age of the vechile other companies will not take it and they do not work with you ''']\n",
        "seq = tokenizer.texts_to_sequences(new_complaint)\n",
        "padded = pad_sequences(seq, maxlen=1000)\n",
        "pred = model.predict(padded)\n",
        "labels = ['credit_report','debt_collection','mortgage','card','savings_account', 'loan', 'money_transfer', 'vehicle_loan', 'others']\n",
        "print(pred, labels[np.argmax(pred)])"
      ],
      "metadata": {
        "execution": {
          "iopub.status.busy": "2024-02-29T00:36:17.689216Z",
          "iopub.execute_input": "2024-02-29T00:36:17.690081Z",
          "iopub.status.idle": "2024-02-29T00:36:18.129647Z",
          "shell.execute_reply.started": "2024-02-29T00:36:17.690048Z",
          "shell.execute_reply": "2024-02-29T00:36:18.128122Z"
        },
        "trusted": true,
        "id": "2GE10bx51gkh",
        "outputId": "4a76ae12-7a2a-494b-ad7a-b95281bf37c8"
      },
      "execution_count": null,
      "outputs": [
        {
          "name": "stdout",
          "text": "\u001b[1m1/1\u001b[0m \u001b[32m━━━━━━━━━━━━━━━━━━━━\u001b[0m\u001b[37m\u001b[0m \u001b[1m0s\u001b[0m 383ms/step\n[[2.4204142e-02 7.1168002e-03 3.5570278e-03 1.9745376e-02 1.0930096e-02\n  9.3339473e-01 7.6161802e-04 2.9026048e-04]] loan\n",
          "output_type": "stream"
        }
      ]
    },
    {
      "cell_type": "code",
      "source": [
        "# Y = pd.get_dummies(df['Product'])"
      ],
      "metadata": {
        "id": "SeitQyFj1gki"
      },
      "execution_count": null,
      "outputs": []
    },
    {
      "cell_type": "code",
      "source": [
        "df.head()"
      ],
      "metadata": {
        "execution": {
          "iopub.status.busy": "2024-02-29T00:38:23.160659Z",
          "iopub.execute_input": "2024-02-29T00:38:23.161018Z",
          "iopub.status.idle": "2024-02-29T00:38:23.170855Z",
          "shell.execute_reply.started": "2024-02-29T00:38:23.160993Z",
          "shell.execute_reply": "2024-02-29T00:38:23.169925Z"
        },
        "trusted": true,
        "id": "IdIl5MWz1gki",
        "outputId": "b9aff8f0-46c3-453f-c6b1-885598676467"
      },
      "execution_count": null,
      "outputs": [
        {
          "execution_count": 118,
          "output_type": "execute_result",
          "data": {
            "text/plain": "          Product                       Consumer complaint narrative\n1            loan  i contacted ally on friday  after falling behi...\n7   credit_report  hello this complaint is against the three cred...\n8   credit_report  i am a victim of identity theft  currently hav...\n10  credit_report  two accounts are still on my credit history af...\n13  credit_report  receiving daily telephone call  s  from    ide...",
            "text/html": "<div>\n<style scoped>\n    .dataframe tbody tr th:only-of-type {\n        vertical-align: middle;\n    }\n\n    .dataframe tbody tr th {\n        vertical-align: top;\n    }\n\n    .dataframe thead th {\n        text-align: right;\n    }\n</style>\n<table border=\"1\" class=\"dataframe\">\n  <thead>\n    <tr style=\"text-align: right;\">\n      <th></th>\n      <th>Product</th>\n      <th>Consumer complaint narrative</th>\n    </tr>\n  </thead>\n  <tbody>\n    <tr>\n      <th>1</th>\n      <td>loan</td>\n      <td>i contacted ally on friday  after falling behi...</td>\n    </tr>\n    <tr>\n      <th>7</th>\n      <td>credit_report</td>\n      <td>hello this complaint is against the three cred...</td>\n    </tr>\n    <tr>\n      <th>8</th>\n      <td>credit_report</td>\n      <td>i am a victim of identity theft  currently hav...</td>\n    </tr>\n    <tr>\n      <th>10</th>\n      <td>credit_report</td>\n      <td>two accounts are still on my credit history af...</td>\n    </tr>\n    <tr>\n      <th>13</th>\n      <td>credit_report</td>\n      <td>receiving daily telephone call  s  from    ide...</td>\n    </tr>\n  </tbody>\n</table>\n</div>"
          },
          "metadata": {}
        }
      ]
    },
    {
      "cell_type": "code",
      "source": [
        "new_dict = {'others':'credit_report'}\n",
        "df.replace({'Product' : new_dict}, inplace=True)"
      ],
      "metadata": {
        "execution": {
          "iopub.status.busy": "2024-02-29T00:38:28.620750Z",
          "iopub.execute_input": "2024-02-29T00:38:28.621110Z",
          "iopub.status.idle": "2024-02-29T00:38:28.758976Z",
          "shell.execute_reply.started": "2024-02-29T00:38:28.621079Z",
          "shell.execute_reply": "2024-02-29T00:38:28.757790Z"
        },
        "trusted": true,
        "id": "2E6QRoNi1gki"
      },
      "execution_count": null,
      "outputs": []
    },
    {
      "cell_type": "code",
      "source": [
        "df['Product'].value_counts()"
      ],
      "metadata": {
        "execution": {
          "iopub.status.busy": "2024-02-29T00:51:31.948283Z",
          "iopub.execute_input": "2024-02-29T00:51:31.948671Z",
          "iopub.status.idle": "2024-02-29T00:51:32.050821Z",
          "shell.execute_reply.started": "2024-02-29T00:51:31.948642Z",
          "shell.execute_reply": "2024-02-29T00:51:32.049758Z"
        },
        "trusted": true,
        "id": "LlKk-VSk1gki",
        "outputId": "ca283bc3-d66d-4974-c163-42654e027c69"
      },
      "execution_count": null,
      "outputs": [
        {
          "execution_count": 139,
          "output_type": "execute_result",
          "data": {
            "text/plain": "Product\ncredit_report      348345\nDebt collection    157381\nMortgage            84461\ncard                81042\nloan                65744\naccount             52274\nmoney_transfer      20096\nName: count, dtype: int64"
          },
          "metadata": {}
        }
      ]
    },
    {
      "cell_type": "code",
      "source": [
        "df.shape"
      ],
      "metadata": {
        "execution": {
          "iopub.status.busy": "2024-02-29T00:51:39.159393Z",
          "iopub.execute_input": "2024-02-29T00:51:39.160234Z",
          "iopub.status.idle": "2024-02-29T00:51:39.166015Z",
          "shell.execute_reply.started": "2024-02-29T00:51:39.160199Z",
          "shell.execute_reply": "2024-02-29T00:51:39.165060Z"
        },
        "trusted": true,
        "id": "vul0JtxC1gkj",
        "outputId": "bc52730a-9a30-453f-cd41-3b5b97e971da"
      },
      "execution_count": null,
      "outputs": [
        {
          "execution_count": 140,
          "output_type": "execute_result",
          "data": {
            "text/plain": "(809343, 2)"
          },
          "metadata": {}
        }
      ]
    },
    {
      "cell_type": "code",
      "source": [
        "df.columns"
      ],
      "metadata": {
        "execution": {
          "iopub.status.busy": "2024-02-29T00:52:50.423490Z",
          "iopub.execute_input": "2024-02-29T00:52:50.423902Z",
          "iopub.status.idle": "2024-02-29T00:52:50.430427Z",
          "shell.execute_reply.started": "2024-02-29T00:52:50.423870Z",
          "shell.execute_reply": "2024-02-29T00:52:50.429431Z"
        },
        "trusted": true,
        "id": "Fp4AH8Wp1gkj",
        "outputId": "19302b71-76e5-4324-9dec-c3be61ca5254"
      },
      "execution_count": null,
      "outputs": [
        {
          "execution_count": 141,
          "output_type": "execute_result",
          "data": {
            "text/plain": "Index(['Product', 'Consumer complaint narrative'], dtype='object')"
          },
          "metadata": {}
        }
      ]
    },
    {
      "cell_type": "code",
      "source": [
        "X_train, X_test, y_train, y_test = train_test_split(df['Consumer complaint narrative'],\n",
        "                                                    df['Product'],\n",
        "                                                    test_size=0.05,\n",
        "                                                    random_state=42)\n"
      ],
      "metadata": {
        "execution": {
          "iopub.status.busy": "2024-02-29T01:00:34.638741Z",
          "iopub.execute_input": "2024-02-29T01:00:34.639452Z",
          "iopub.status.idle": "2024-02-29T01:00:34.758994Z",
          "shell.execute_reply.started": "2024-02-29T01:00:34.639420Z",
          "shell.execute_reply": "2024-02-29T01:00:34.758147Z"
        },
        "trusted": true,
        "id": "dqirm2oK1gkj"
      },
      "execution_count": null,
      "outputs": []
    },
    {
      "cell_type": "code",
      "source": [
        "X_train = X_train.apply(clean_text)\n",
        "X_test = X_test.apply(clean_text)"
      ],
      "metadata": {
        "execution": {
          "iopub.status.busy": "2024-02-29T01:00:36.338283Z",
          "iopub.execute_input": "2024-02-29T01:00:36.338945Z",
          "iopub.status.idle": "2024-02-29T01:01:13.944487Z",
          "shell.execute_reply.started": "2024-02-29T01:00:36.338912Z",
          "shell.execute_reply": "2024-02-29T01:01:13.943578Z"
        },
        "trusted": true,
        "id": "gnEqZAwP1gkk"
      },
      "execution_count": null,
      "outputs": []
    },
    {
      "cell_type": "code",
      "source": [
        "X_train"
      ],
      "metadata": {
        "execution": {
          "iopub.status.busy": "2024-02-29T01:01:14.652579Z",
          "iopub.execute_input": "2024-02-29T01:01:14.652931Z",
          "iopub.status.idle": "2024-02-29T01:01:14.661174Z",
          "shell.execute_reply.started": "2024-02-29T01:01:14.652905Z",
          "shell.execute_reply": "2024-02-29T01:01:14.660105Z"
        },
        "trusted": true,
        "id": "Lgwv-M651gkk",
        "outputId": "49204703-57ee-4f7a-9292-7144d4e97ca8"
      },
      "execution_count": null,
      "outputs": [
        {
          "execution_count": 151,
          "output_type": "execute_result",
          "data": {
            "text/plain": "588575     for more than a month i have been receiving mu...\n2236919    on 2018 i am boarding  flight from   to  ticke...\n738247     i contacted  equifax and   about 3 months ago ...\n1941278    i deposited 72000000 in my wife s account at w...\n2175118    recievables performance management sent me a b...\n                                 ...                        \n585012     i was originally approved with avail credit of...\n808027     i have spent hours on the phones trying to res...\n287712     this is the second complaint against bank of a...\n1970535    a third party debt relief service student loan...\n265055     i disputed once with the credit bureaus in whi...\nName: Consumer complaint narrative, Length: 768875, dtype: object"
          },
          "metadata": {}
        }
      ]
    },
    {
      "cell_type": "code",
      "source": [],
      "metadata": {
        "execution": {
          "iopub.status.busy": "2024-02-29T00:59:56.838469Z",
          "iopub.execute_input": "2024-02-29T00:59:56.839078Z",
          "iopub.status.idle": "2024-02-29T01:00:10.264712Z",
          "shell.execute_reply.started": "2024-02-29T00:59:56.839047Z",
          "shell.execute_reply": "2024-02-29T01:00:10.263914Z"
        },
        "trusted": true,
        "id": "lb8IG11z1gkk"
      },
      "execution_count": null,
      "outputs": []
    },
    {
      "cell_type": "code",
      "source": [
        "# Train the Word2Vec model\n",
        "sentences = [sentence.split() for sentence in X_train]\n",
        "w2v_model = Word2Vec(sentences, vector_size=100, window=5, min_count=5, workers=4)"
      ],
      "metadata": {
        "execution": {
          "iopub.status.busy": "2024-02-29T01:02:41.674409Z",
          "iopub.execute_input": "2024-02-29T01:02:41.675031Z"
        },
        "trusted": true,
        "id": "ZzvQinZj1gkl"
      },
      "execution_count": null,
      "outputs": []
    },
    {
      "cell_type": "code",
      "source": [
        "vocab_size = 30000"
      ],
      "metadata": {
        "id": "nwT6FDl_1gkl"
      },
      "execution_count": null,
      "outputs": []
    },
    {
      "cell_type": "code",
      "source": [
        "# Create a weight matrix for the embedding layer\n",
        "embedding_matrix = np.zeros((vocab_size, 100))\n",
        "for word, i in tokenizer.word_index.items():\n",
        "    if word in w2v_model.wv:\n",
        "        embedding_matrix[i] = w2v_model.wv[word]"
      ],
      "metadata": {
        "id": "VxePzFN31gkl"
      },
      "execution_count": null,
      "outputs": []
    },
    {
      "cell_type": "code",
      "source": [
        "# Tokenize the text data\n",
        "tokenizer = Tokenizer(num_words=30000)\n",
        "tokenizer.fit_on_texts(X_train)\n",
        "\n",
        "X_train = tokenizer.texts_to_sequences(X_train)\n",
        "X_test = tokenizer.texts_to_sequences(X_test)"
      ],
      "metadata": {
        "id": "Mkd1xgoy1gkl"
      },
      "execution_count": null,
      "outputs": []
    },
    {
      "cell_type": "code",
      "source": [
        "# Pad the sequences to a fixed length\n",
        "max_length = 1000\n",
        "X_train = pad_sequences(X_train, maxlen=max_length, padding='post')\n",
        "X_test = pad_sequences(X_test, maxlen=max_length, padding='post')"
      ],
      "metadata": {
        "id": "IHljyIsv1gkm"
      },
      "execution_count": null,
      "outputs": []
    },
    {
      "cell_type": "code",
      "source": [
        "#Define Model\n",
        "model = Sequential()\n",
        "model.add(Embedding(30000, 100, weights=[embedding_matrix], input_length=max_length, trainable=False))\n",
        "\n",
        "model.add(SpatialDropout1D(0.2))\n",
        "model.add(GRU(100, dropout=0.2, recurrent_dropout=0.2))\n",
        "model.add(Dense(8, activation='softmax'))\n",
        "model.compile(loss='categorical_crossentropy', optimizer='adam', metrics=['accuracy'])"
      ],
      "metadata": {
        "id": "nZ0cRzQe1gkm"
      },
      "execution_count": null,
      "outputs": []
    },
    {
      "cell_type": "code",
      "source": [],
      "metadata": {
        "id": "p6qr0XfT1gkm"
      },
      "execution_count": null,
      "outputs": []
    },
    {
      "cell_type": "code",
      "source": [],
      "metadata": {
        "id": "9_fHzVmw1gkn"
      },
      "execution_count": null,
      "outputs": []
    },
    {
      "cell_type": "code",
      "source": [],
      "metadata": {
        "id": "yxVZNbCb1gkn"
      },
      "execution_count": null,
      "outputs": []
    },
    {
      "cell_type": "markdown",
      "source": [],
      "metadata": {
        "id": "SWFobvg41qxI"
      }
    },
    {
      "cell_type": "code",
      "source": [],
      "metadata": {
        "id": "su0w8yPh1gkn"
      },
      "execution_count": null,
      "outputs": []
    },
    {
      "cell_type": "code",
      "source": [],
      "metadata": {
        "id": "oKyfUcvp1gkr"
      },
      "execution_count": null,
      "outputs": []
    },
    {
      "cell_type": "code",
      "source": [],
      "metadata": {
        "id": "qogC8Gho1gkr"
      },
      "execution_count": null,
      "outputs": []
    }
  ]
}