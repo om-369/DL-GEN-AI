{
  "nbformat": 4,
  "nbformat_minor": 0,
  "metadata": {
    "colab": {
      "private_outputs": true,
      "provenance": [],
      "authorship_tag": "ABX9TyO6tQpheUfwtL6JQKXwWTEV",
      "include_colab_link": true
    },
    "kernelspec": {
      "name": "python3",
      "display_name": "Python 3"
    },
    "language_info": {
      "name": "python"
    }
  },
  "cells": [
    {
      "cell_type": "markdown",
      "metadata": {
        "id": "view-in-github",
        "colab_type": "text"
      },
      "source": [
        "<a href=\"https://colab.research.google.com/github/om-369/DL-GEN-AI/blob/main/Text_data_augmentation.ipynb\" target=\"_parent\"><img src=\"https://colab.research.google.com/assets/colab-badge.svg\" alt=\"Open In Colab\"/></a>"
      ]
    },
    {
      "cell_type": "markdown",
      "source": [
        "## what is data augmentation"
      ],
      "metadata": {
        "id": "AjXxk7w4xfeF"
      }
    },
    {
      "cell_type": "code",
      "execution_count": null,
      "metadata": {
        "id": "YHCOfU2LxMJT"
      },
      "outputs": [],
      "source": [
        "creating more data from existing data"
      ]
    },
    {
      "cell_type": "code",
      "source": [
        "#  why data augmentation is needed?\n",
        "\n",
        "introduce variation in the dataset\n",
        "to handle imbalance classes\n",
        "more data"
      ],
      "metadata": {
        "id": "O_3UtKmYx4eu"
      },
      "execution_count": null,
      "outputs": []
    },
    {
      "cell_type": "code",
      "source": [
        "# back translation\n",
        "#  synonyms replacement\n",
        "# typo / ocr replacement\n",
        "#  random ---> insertion , deletion, swap"
      ],
      "metadata": {
        "id": "3POx54cUyNcA"
      },
      "execution_count": null,
      "outputs": []
    },
    {
      "cell_type": "code",
      "source": [
        "#  NLPAUG\n",
        "\n",
        "character level augmentation\n",
        "word level augmentation\n",
        "sentence level  augmentation"
      ],
      "metadata": {
        "id": "e5OnZZe3yhJS"
      },
      "execution_count": null,
      "outputs": []
    },
    {
      "cell_type": "code",
      "source": [
        "! pip install nlpaug"
      ],
      "metadata": {
        "collapsed": true,
        "id": "DEh2elzXyu3O"
      },
      "execution_count": null,
      "outputs": []
    },
    {
      "cell_type": "code",
      "source": [
        "import nlpaug.augmenter.char as nac\n",
        "import nlpaug.augmenter.word as naw\n",
        "import nlpaug.augmenter.sentence as nas\n"
      ],
      "metadata": {
        "id": "N0oLRjjty2gh"
      },
      "execution_count": null,
      "outputs": []
    },
    {
      "cell_type": "code",
      "source": [
        "text = \"The quick brown fox jumps over the lazy dog\""
      ],
      "metadata": {
        "id": "k6--jfj3zN-I"
      },
      "execution_count": null,
      "outputs": []
    },
    {
      "cell_type": "code",
      "source": [
        "#  keyboard typos\n",
        "# it simualtes typos human can make\n",
        "#  substitute character by keyboard distance"
      ],
      "metadata": {
        "id": "wUlvAblezb92"
      },
      "execution_count": null,
      "outputs": []
    },
    {
      "cell_type": "code",
      "source": [
        "aug = nac.KeyboardAug(aug_word_max=2)\n",
        "\n",
        "aug_text = aug.augment(text)"
      ],
      "metadata": {
        "id": "sRUtg7tJzp7b"
      },
      "execution_count": null,
      "outputs": []
    },
    {
      "cell_type": "code",
      "source": [
        "aug_text"
      ],
      "metadata": {
        "id": "SgVNjwIA1A6S"
      },
      "execution_count": null,
      "outputs": []
    },
    {
      "cell_type": "code",
      "source": [
        "# ocr\n",
        "# make mistake in (I,1, l), (o,0,O)"
      ],
      "metadata": {
        "id": "hujZxGT61Ex-"
      },
      "execution_count": null,
      "outputs": []
    },
    {
      "cell_type": "code",
      "source": [
        "aug = nac.OcrAug()\n",
        "aug_text = aug.augment(text)"
      ],
      "metadata": {
        "id": "EkpXQW7s1TMv"
      },
      "execution_count": null,
      "outputs": []
    },
    {
      "cell_type": "code",
      "source": [
        "aug_text"
      ],
      "metadata": {
        "id": "T-M-uDty1r00"
      },
      "execution_count": null,
      "outputs": []
    },
    {
      "cell_type": "code",
      "source": [],
      "metadata": {
        "id": "zyofan5O1t5e"
      },
      "execution_count": null,
      "outputs": []
    },
    {
      "cell_type": "code",
      "source": [
        "# Random"
      ],
      "metadata": {
        "id": "xYdZZv6P1w0Z"
      },
      "execution_count": null,
      "outputs": []
    },
    {
      "cell_type": "code",
      "source": [
        "# insert : insert chars randomly\n",
        "\n",
        "aug = nac.RandomCharAug(aug_word_max=2,aug_char_max=3,action=\"insert\")\n",
        "aug_text = aug.augment(text)"
      ],
      "metadata": {
        "id": "QChFKynR10jA"
      },
      "execution_count": null,
      "outputs": []
    },
    {
      "cell_type": "code",
      "source": [
        "aug_text"
      ],
      "metadata": {
        "id": "5pMsX6fz2VKq"
      },
      "execution_count": null,
      "outputs": []
    },
    {
      "cell_type": "code",
      "source": [
        "# Substitute : substitute chars randomly\n",
        "\n",
        "aug = nac.RandomCharAug(aug_word_max=2,aug_char_max=3,action=\"substitute\")\n",
        "aug_text = aug.augment(text)"
      ],
      "metadata": {
        "id": "vsNp5JX92ZTd"
      },
      "execution_count": null,
      "outputs": []
    },
    {
      "cell_type": "code",
      "source": [
        "aug_text"
      ],
      "metadata": {
        "id": "2wM9-OCR4dxD"
      },
      "execution_count": null,
      "outputs": []
    },
    {
      "cell_type": "code",
      "source": [
        "# delete\n",
        "\n",
        "aug = nac.RandomCharAug(aug_word_max=2,aug_char_max=3,action=\"delete\")\n",
        "aug_text = aug.augment(text)"
      ],
      "metadata": {
        "id": "WoA-pGgv4lCS"
      },
      "execution_count": null,
      "outputs": []
    },
    {
      "cell_type": "code",
      "source": [
        "aug_text"
      ],
      "metadata": {
        "id": "e61W0-5y5M5-"
      },
      "execution_count": null,
      "outputs": []
    },
    {
      "cell_type": "code",
      "source": [
        "# swap\n",
        "\n",
        "aug = nac.RandomCharAug(aug_word_max=2,aug_char_max=3,action=\"swap\")\n",
        "aug_text = aug.augment(text)\n"
      ],
      "metadata": {
        "id": "9Jsxs56O5QEI"
      },
      "execution_count": null,
      "outputs": []
    },
    {
      "cell_type": "code",
      "source": [
        "aug_text"
      ],
      "metadata": {
        "id": "MWgLnUuG5c0C"
      },
      "execution_count": null,
      "outputs": []
    },
    {
      "cell_type": "markdown",
      "source": [
        "# word level augmentation"
      ],
      "metadata": {
        "id": "ziN-2Czx5lyv"
      }
    },
    {
      "cell_type": "code",
      "source": [
        "# spelling errors"
      ],
      "metadata": {
        "id": "fPP58Wga5etJ"
      },
      "execution_count": null,
      "outputs": []
    },
    {
      "cell_type": "code",
      "source": [
        "aug = naw.SpellingAug()\n",
        "aug_text = aug.augment(text)\n",
        "aug_text"
      ],
      "metadata": {
        "id": "W4XMVjkl511P"
      },
      "execution_count": null,
      "outputs": []
    },
    {
      "cell_type": "code",
      "source": [
        "# # tfidf augmentor\n",
        "aug = naw.TfIdfAug(model_path=\"\",\n",
        "                   action = \"insert\")"
      ],
      "metadata": {
        "id": "j_OFOWgP586E"
      },
      "execution_count": null,
      "outputs": []
    },
    {
      "cell_type": "code",
      "source": [
        "#  contextual word embedding\n",
        "\n",
        "aug = naw.ContextualWordEmbsAug(model_path='bert-base-uncased', action=\"insert\")\n",
        "aug_text = aug.augment(text)"
      ],
      "metadata": {
        "id": "NRcoAmgb6xuR"
      },
      "execution_count": null,
      "outputs": []
    },
    {
      "cell_type": "code",
      "source": [
        "aug_text = aug.augment(text)\n",
        "aug_text"
      ],
      "metadata": {
        "id": "DiqTb2cC7UJg"
      },
      "execution_count": null,
      "outputs": []
    },
    {
      "cell_type": "code",
      "source": [
        "aug = naw.ContextualWordEmbsAug(model_path='bert-base-uncased', action=\"substitute\")\n",
        "aug_text = aug.augment(text)\n",
        "aug_text"
      ],
      "metadata": {
        "id": "kXt54rMa7iCz"
      },
      "execution_count": null,
      "outputs": []
    },
    {
      "cell_type": "code",
      "source": [
        "models:\n",
        "distilbert-base-uncased\n",
        "roberta-base\n",
        "\n",
        "bert-base-uncased\n",
        "albert-base-v2\n",
        "gpt2\n"
      ],
      "metadata": {
        "id": "yHElZ-da7u2k"
      },
      "execution_count": null,
      "outputs": []
    },
    {
      "cell_type": "code",
      "source": [
        "# sentence level augmentation"
      ],
      "metadata": {
        "id": "8f9ysHEZ8ALQ"
      },
      "execution_count": null,
      "outputs": []
    },
    {
      "cell_type": "code",
      "source": [
        "aug= nas.ContextualWordEmbsForSentenceAug(model_path='gpt2',\n",
        "                                          max_length=100,\n",
        "                                          temperature=0.7)\n",
        "aug_text = aug.augment(text)\n"
      ],
      "metadata": {
        "id": "8ErQnEEV8EkW"
      },
      "execution_count": null,
      "outputs": []
    },
    {
      "cell_type": "code",
      "source": [
        "aug_text"
      ],
      "metadata": {
        "id": "TT_6KsF88ixp"
      },
      "execution_count": null,
      "outputs": []
    },
    {
      "cell_type": "code",
      "source": [
        "aug = nas.ContextualWordEmbsForSentenceAug(model_path='xlnet-base-cased')"
      ],
      "metadata": {
        "id": "CtXM0X7x8qNU"
      },
      "execution_count": null,
      "outputs": []
    },
    {
      "cell_type": "code",
      "source": [
        "# aug_text = aug.augment(\"the quick brown fox jumped over lazy dog\")\n",
        "\n",
        "# TypeError: argument 'tokens': Can't extract `str` to `Vec`\n",
        "\n",
        "# expecting vec"
      ],
      "metadata": {
        "id": "40GR36zo9Iwx"
      },
      "execution_count": null,
      "outputs": []
    },
    {
      "cell_type": "code",
      "source": [
        "aug_text"
      ],
      "metadata": {
        "id": "NamlfzPY9Vk0"
      },
      "execution_count": null,
      "outputs": []
    },
    {
      "cell_type": "code",
      "source": [
        "## Summarization augmentation\n",
        "\n",
        "article = '''Natural language processing (NLP) is an interdisciplinary subfield of computer science and linguistics.\n",
        "It is primarily concerned with giving computers the ability to support and manipulate human language.\n",
        "It involves processing natural language datasets, such as text corpora or speech corpora,\n",
        "using either rule-based or probabilistic (i.e. statistical and, most recently, neural network-based) machine learning approaches.\n",
        "The goal is a computer capable of \"understanding\" the contents of documents, including the contextual nuances of the language within them.\n",
        "The technology can then accurately extract information and insights contained in the documents as well as categorize and organize\n",
        "the documents themselves.'''"
      ],
      "metadata": {
        "id": "Xpdaq9BQ9aur"
      },
      "execution_count": null,
      "outputs": []
    },
    {
      "cell_type": "code",
      "source": [
        "aug = nas.AbstSummAug(model_path='t5-base')"
      ],
      "metadata": {
        "id": "bFwtzUJ39b7f"
      },
      "execution_count": null,
      "outputs": []
    },
    {
      "cell_type": "code",
      "source": [
        "aug_text = aug.augment(article)"
      ],
      "metadata": {
        "id": "jMSA6gn99nFK"
      },
      "execution_count": null,
      "outputs": []
    },
    {
      "cell_type": "code",
      "source": [
        "aug_text"
      ],
      "metadata": {
        "id": "OJBgh_Fa9vfU"
      },
      "execution_count": null,
      "outputs": []
    },
    {
      "cell_type": "markdown",
      "source": [
        "Backtranslate"
      ],
      "metadata": {
        "id": "4qgso_dF-CIw"
      }
    },
    {
      "cell_type": "code",
      "source": [
        "!pip install sacremoses"
      ],
      "metadata": {
        "id": "Zku6WoNO9_EM"
      },
      "execution_count": null,
      "outputs": []
    },
    {
      "cell_type": "code",
      "source": [
        "aug = naw.BackTranslationAug()"
      ],
      "metadata": {
        "id": "srlrtCgj-Ylj"
      },
      "execution_count": null,
      "outputs": []
    },
    {
      "cell_type": "code",
      "source": [
        "# aug = naw.BackTranslationAug(\n",
        "#     from_model_name='Helsinki-NLP/opus-mt-en-fr',\n",
        "#     to_model_name='Helsinki-NLP/opus-mt-fr-en'\n",
        "# )"
      ],
      "metadata": {
        "id": "5mvUI_eb-NbD"
      },
      "execution_count": null,
      "outputs": []
    },
    {
      "cell_type": "code",
      "source": [
        "# facebook model : wmt19 --> english to german\n",
        "\n",
        "# facebook/wmt19-en-de\n",
        "# facebook/mbart-large-50-many-to-many-mmt   ---> works on 50 langs"
      ],
      "metadata": {
        "id": "NO8iACXg-dFu"
      },
      "execution_count": null,
      "outputs": []
    },
    {
      "cell_type": "code",
      "source": [
        "aug_text = aug.augment(text)"
      ],
      "metadata": {
        "id": "GOX1SVAA-t9C"
      },
      "execution_count": null,
      "outputs": []
    },
    {
      "cell_type": "code",
      "source": [
        "aug_text"
      ],
      "metadata": {
        "id": "e44qjxXD-zmo"
      },
      "execution_count": null,
      "outputs": []
    },
    {
      "cell_type": "code",
      "source": [],
      "metadata": {
        "id": "kQ-RCvRC-7ID"
      },
      "execution_count": null,
      "outputs": []
    }
  ]
}