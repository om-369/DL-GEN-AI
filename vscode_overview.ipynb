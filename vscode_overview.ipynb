{
  "nbformat": 4,
  "nbformat_minor": 0,
  "metadata": {
    "colab": {
      "provenance": [],
      "authorship_tag": "ABX9TyPib/dqTiig239JyMU9Vm7M",
      "include_colab_link": true
    },
    "kernelspec": {
      "name": "python3",
      "display_name": "Python 3"
    },
    "language_info": {
      "name": "python"
    }
  },
  "cells": [
    {
      "cell_type": "markdown",
      "metadata": {
        "id": "view-in-github",
        "colab_type": "text"
      },
      "source": [
        "<a href=\"https://colab.research.google.com/github/om-369/DL-GEN-AI/blob/main/vscode_overview.ipynb\" target=\"_parent\"><img src=\"https://colab.research.google.com/assets/colab-badge.svg\" alt=\"Open In Colab\"/></a>"
      ]
    },
    {
      "cell_type": "code",
      "execution_count": 1,
      "metadata": {
        "colab": {
          "base_uri": "https://localhost:8080/"
        },
        "id": "b-6zazZMio7x",
        "outputId": "cffb387d-420f-45fc-e73d-4bd475f789e8"
      },
      "outputs": [
        {
          "output_type": "stream",
          "name": "stdout",
          "text": [
            "Mounted at /content/drive\n"
          ]
        }
      ],
      "source": [
        "from google.colab import drive\n",
        "drive.mount('/content/drive')\n"
      ]
    },
    {
      "cell_type": "code",
      "source": [
        "#  learning steps"
      ],
      "metadata": {
        "id": "K66klj13i2KK"
      },
      "execution_count": 2,
      "outputs": []
    },
    {
      "cell_type": "code",
      "source": [
        "1. Remember\n",
        "2. understand\n",
        "3. Apply\n",
        "4. Analyze\n",
        "5. create"
      ],
      "metadata": {
        "id": "PzElKnDUjFVt"
      },
      "execution_count": null,
      "outputs": []
    },
    {
      "cell_type": "code",
      "source": [
        ".ipynb vs .Py\n",
        "\n",
        "differernce\n",
        "\n",
        "notebook extension of jupyter notebook/ colab --- used for expermentation\n",
        "after it is converted into .py for implenentation"
      ],
      "metadata": {
        "id": "IURKqS4wjUSS"
      },
      "execution_count": null,
      "outputs": []
    },
    {
      "cell_type": "code",
      "source": [
        " virtual environment\n",
        "\n",
        " the env ---> specific requirements are handled in the Environment\n",
        ""
      ],
      "metadata": {
        "id": "wtqhOAKukhqQ"
      },
      "execution_count": null,
      "outputs": []
    },
    {
      "cell_type": "code",
      "source": [
        "Scripts:- python file can run directly ---> runable files\n",
        "\n",
        "modules : python file intended to imported into scripts or other file  ----> code is written an imported to diff file\n",
        "\n",
        "Packages :  module containing\n",
        "#  __init__\n",
        "\n",
        "libraries :\n",
        "diff pacakges of modules"
      ],
      "metadata": {
        "id": "fMaoRJ2BwVPa"
      },
      "execution_count": null,
      "outputs": []
    },
    {
      "cell_type": "code",
      "source": [
        "debuging file\n",
        "\n",
        "break point ---> point where we want to stop execution for seeing\n",
        "continue ---> skip to next break point or complete progrram\n",
        "step over ---> execute current line and go to next line\n",
        "step into ---> get into other function/ module\n",
        "step out ---> get out of other function /module\n",
        "restart ---> restart execution from begining\n",
        "stop --> stop execution"
      ],
      "metadata": {
        "id": "bz7a_Y4Twecx"
      },
      "execution_count": null,
      "outputs": []
    },
    {
      "cell_type": "code",
      "source": [],
      "metadata": {
        "id": "eTrqscNg87Nr"
      },
      "execution_count": null,
      "outputs": []
    }
  ]
}