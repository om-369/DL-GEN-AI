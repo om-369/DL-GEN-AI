{
  "nbformat": 4,
  "nbformat_minor": 0,
  "metadata": {
    "colab": {
      "provenance": [],
      "authorship_tag": "ABX9TyP6vH1JjrGf0IWYlWsk+zk1",
      "include_colab_link": true
    },
    "kernelspec": {
      "name": "python3",
      "display_name": "Python 3"
    },
    "language_info": {
      "name": "python"
    }
  },
  "cells": [
    {
      "cell_type": "markdown",
      "metadata": {
        "id": "view-in-github",
        "colab_type": "text"
      },
      "source": [
        "<a href=\"https://colab.research.google.com/github/om-369/DL-GEN-AI/blob/main/simple_RNN_impl.ipynb\" target=\"_parent\"><img src=\"https://colab.research.google.com/assets/colab-badge.svg\" alt=\"Open In Colab\"/></a>"
      ]
    },
    {
      "cell_type": "code",
      "execution_count": null,
      "metadata": {
        "id": "xzh62GbFXGY8"
      },
      "outputs": [],
      "source": [
        "RNN : it is a special type of neural network which is adapted to work for sequential data."
      ]
    },
    {
      "cell_type": "code",
      "source": [
        "--> data points are independent in ANN but dependent on each other in RNN.\n",
        "---> in ann data passed in one shot but in RNN it is passed on basis of time.\n",
        "---> hidden state is passed again to the next time step.\n"
      ],
      "metadata": {
        "id": "NYnU940oXXsv"
      },
      "execution_count": null,
      "outputs": []
    },
    {
      "cell_type": "code",
      "source": [
        "# input_to_RNN = (time_step,feature_value)"
      ],
      "metadata": {
        "id": "MiAZGBLjYmTv"
      },
      "execution_count": null,
      "outputs": []
    },
    {
      "cell_type": "markdown",
      "source": [
        "Simple RNN implementation"
      ],
      "metadata": {
        "id": "khQ2FSnQHYqC"
      }
    },
    {
      "cell_type": "code",
      "source": [
        "from keras.datasets import imdb"
      ],
      "metadata": {
        "id": "faCB_t7VHS6A"
      },
      "execution_count": null,
      "outputs": []
    },
    {
      "cell_type": "code",
      "source": [
        "from keras import Sequential\n",
        "from keras.layers import SimpleRNN,Dense\n"
      ],
      "metadata": {
        "id": "YURNFXt-HktF"
      },
      "execution_count": null,
      "outputs": []
    },
    {
      "cell_type": "code",
      "source": [
        "from keras.utils import pad_sequences\n"
      ],
      "metadata": {
        "id": "i2Nn-wdtIBSk"
      },
      "execution_count": null,
      "outputs": []
    },
    {
      "cell_type": "code",
      "source": [
        "(x_train,y_train),(x_test,y_test) = imdb.load_data()"
      ],
      "metadata": {
        "colab": {
          "base_uri": "https://localhost:8080/"
        },
        "id": "Jwn0IjtLIOf2",
        "outputId": "e685945a-0986-42a5-9e89-e66b1e04cd9f"
      },
      "execution_count": null,
      "outputs": [
        {
          "output_type": "stream",
          "name": "stdout",
          "text": [
            "Downloading data from https://storage.googleapis.com/tensorflow/tf-keras-datasets/imdb.npz\n",
            "17464789/17464789 [==============================] - 0s 0us/step\n"
          ]
        }
      ]
    },
    {
      "cell_type": "code",
      "source": [
        "x_train[0]"
      ],
      "metadata": {
        "id": "8gGK6tpAIgs2"
      },
      "execution_count": null,
      "outputs": []
    },
    {
      "cell_type": "code",
      "source": [
        "# Learning nlp, learning==>[100,200,100]\n"
      ],
      "metadata": {
        "id": "JkFRo8GrIrFG"
      },
      "execution_count": null,
      "outputs": []
    },
    {
      "cell_type": "code",
      "source": [
        "learning:100\n",
        "nlp:200\n"
      ],
      "metadata": {
        "id": "CosuJwVZI9d2"
      },
      "execution_count": null,
      "outputs": []
    },
    {
      "cell_type": "code",
      "source": [
        "len(x_train[0])"
      ],
      "metadata": {
        "colab": {
          "base_uri": "https://localhost:8080/"
        },
        "id": "8SM5jfaBJNbX",
        "outputId": "825bd672-d436-47c9-814a-e1f0c9b16974"
      },
      "execution_count": null,
      "outputs": [
        {
          "output_type": "execute_result",
          "data": {
            "text/plain": [
              "218"
            ]
          },
          "metadata": {},
          "execution_count": 16
        }
      ]
    },
    {
      "cell_type": "code",
      "source": [
        "len(x_train[100])"
      ],
      "metadata": {
        "colab": {
          "base_uri": "https://localhost:8080/"
        },
        "id": "0-ynYSCvJRGm",
        "outputId": "ca946770-4f03-4881-f7db-4fa8fcfff825"
      },
      "execution_count": null,
      "outputs": [
        {
          "output_type": "execute_result",
          "data": {
            "text/plain": [
              "158"
            ]
          },
          "metadata": {},
          "execution_count": 17
        }
      ]
    },
    {
      "cell_type": "code",
      "source": [
        "x_train = pad_sequences(x_train,padding = 'post',maxlen=100)"
      ],
      "metadata": {
        "id": "1NkhcjETJX72"
      },
      "execution_count": null,
      "outputs": []
    },
    {
      "cell_type": "code",
      "source": [
        "x_test = pad_sequences(x_test, padding = 'post',maxlen = 100)"
      ],
      "metadata": {
        "id": "quRsw1gNJxEB"
      },
      "execution_count": null,
      "outputs": []
    },
    {
      "cell_type": "code",
      "source": [
        "len(x_train[0])\n"
      ],
      "metadata": {
        "colab": {
          "base_uri": "https://localhost:8080/"
        },
        "id": "WkejLKJDKEZ6",
        "outputId": "5dbe8825-ae07-4516-f613-81e4cd5becbd"
      },
      "execution_count": null,
      "outputs": [
        {
          "output_type": "execute_result",
          "data": {
            "text/plain": [
              "100"
            ]
          },
          "metadata": {},
          "execution_count": 20
        }
      ]
    },
    {
      "cell_type": "code",
      "source": [
        "len(x_train[100])"
      ],
      "metadata": {
        "colab": {
          "base_uri": "https://localhost:8080/"
        },
        "id": "6PFrFH-VKI8W",
        "outputId": "9104750b-f25a-44fa-c383-98ea0355dc76"
      },
      "execution_count": null,
      "outputs": [
        {
          "output_type": "execute_result",
          "data": {
            "text/plain": [
              "100"
            ]
          },
          "metadata": {},
          "execution_count": 21
        }
      ]
    },
    {
      "cell_type": "code",
      "source": [
        "model =Sequential()"
      ],
      "metadata": {
        "id": "E7gPHULZKPhV"
      },
      "execution_count": null,
      "outputs": []
    },
    {
      "cell_type": "code",
      "source": [
        "model.add(SimpleRNN(64,input_shape=(100,1),return_sequences = False))\n",
        "model.add(Dense(1, activation = 'sigmoid'))"
      ],
      "metadata": {
        "id": "eOKXo0j0KTNG"
      },
      "execution_count": null,
      "outputs": []
    },
    {
      "cell_type": "code",
      "source": [
        "model.summary()"
      ],
      "metadata": {
        "colab": {
          "base_uri": "https://localhost:8080/"
        },
        "id": "mwEbI8XwK6Ts",
        "outputId": "e1d3bc61-20bf-48a5-9c6e-7170445d9043"
      },
      "execution_count": null,
      "outputs": [
        {
          "output_type": "stream",
          "name": "stdout",
          "text": [
            "Model: \"sequential\"\n",
            "_________________________________________________________________\n",
            " Layer (type)                Output Shape              Param #   \n",
            "=================================================================\n",
            " simple_rnn (SimpleRNN)      (None, 64)                4224      \n",
            "                                                                 \n",
            " dense (Dense)               (None, 1)                 65        \n",
            "                                                                 \n",
            "=================================================================\n",
            "Total params: 4289 (16.75 KB)\n",
            "Trainable params: 4289 (16.75 KB)\n",
            "Non-trainable params: 0 (0.00 Byte)\n",
            "_________________________________________________________________\n"
          ]
        }
      ]
    },
    {
      "cell_type": "code",
      "source": [
        "model.compile(loss = 'binary_crossentropy',optimizer = 'adam',metrics = 'accuracy')"
      ],
      "metadata": {
        "id": "sdK1Eu0APliz"
      },
      "execution_count": null,
      "outputs": []
    },
    {
      "cell_type": "code",
      "source": [
        "model.fit(x_train, y_train, epochs= 10, batch_size = 32)"
      ],
      "metadata": {
        "colab": {
          "base_uri": "https://localhost:8080/"
        },
        "id": "5oEzXjHhP42j",
        "outputId": "66d15229-7be2-4c53-95f1-df60f79830f7"
      },
      "execution_count": null,
      "outputs": [
        {
          "output_type": "stream",
          "name": "stdout",
          "text": [
            "Epoch 1/10\n",
            "782/782 [==============================] - 17s 19ms/step - loss: 0.6974 - accuracy: 0.5119\n",
            "Epoch 2/10\n",
            "782/782 [==============================] - 15s 19ms/step - loss: 0.6943 - accuracy: 0.5037\n",
            "Epoch 3/10\n",
            "782/782 [==============================] - 15s 19ms/step - loss: 0.6942 - accuracy: 0.5094\n",
            "Epoch 4/10\n",
            "782/782 [==============================] - 15s 19ms/step - loss: 0.6939 - accuracy: 0.5118\n",
            "Epoch 5/10\n",
            "782/782 [==============================] - 17s 22ms/step - loss: 0.6935 - accuracy: 0.5136\n",
            "Epoch 6/10\n",
            "782/782 [==============================] - 17s 22ms/step - loss: 0.6939 - accuracy: 0.5094\n",
            "Epoch 7/10\n",
            "782/782 [==============================] - 25s 32ms/step - loss: 0.6937 - accuracy: 0.5080\n",
            "Epoch 8/10\n",
            "782/782 [==============================] - 23s 29ms/step - loss: 0.6931 - accuracy: 0.5139\n",
            "Epoch 9/10\n",
            "782/782 [==============================] - 15s 19ms/step - loss: 0.6934 - accuracy: 0.5120\n",
            "Epoch 10/10\n",
            "782/782 [==============================] - 15s 20ms/step - loss: 0.6928 - accuracy: 0.5105\n"
          ]
        },
        {
          "output_type": "execute_result",
          "data": {
            "text/plain": [
              "<keras.src.callbacks.History at 0x7ff2611f9570>"
            ]
          },
          "metadata": {},
          "execution_count": 28
        }
      ]
    },
    {
      "cell_type": "markdown",
      "source": [
        "Padding"
      ],
      "metadata": {
        "id": "fY7UAroyQbYE"
      }
    },
    {
      "cell_type": "code",
      "source": [
        "from keras.utils import pad_sequences"
      ],
      "metadata": {
        "id": "INM88NGkQCsk"
      },
      "execution_count": null,
      "outputs": []
    },
    {
      "cell_type": "code",
      "source": [
        "from os import pread\n",
        "hyperparameters :\n",
        "padding : post/pre\n",
        "maxlen : maximum of sequence\n",
        "truncating : post/pre\n",
        "\n",
        "value : value for padding (by default ---> 0)\n"
      ],
      "metadata": {
        "id": "tNqTqNF7QlgH"
      },
      "execution_count": null,
      "outputs": []
    },
    {
      "cell_type": "code",
      "source": [
        "len(x_train[10])"
      ],
      "metadata": {
        "colab": {
          "base_uri": "https://localhost:8080/"
        },
        "id": "EC3yZv-rRMmI",
        "outputId": "7fed5d83-96d6-4d6c-f53c-a9ce6e4513dd"
      },
      "execution_count": null,
      "outputs": [
        {
          "output_type": "execute_result",
          "data": {
            "text/plain": [
              "100"
            ]
          },
          "metadata": {},
          "execution_count": 30
        }
      ]
    },
    {
      "cell_type": "code",
      "source": [
        "x_train[10]"
      ],
      "metadata": {
        "colab": {
          "base_uri": "https://localhost:8080/"
        },
        "id": "Ujmm9x-gRRMk",
        "outputId": "8e77c8d0-185d-4b85-ce48-c2f2270b63c0"
      },
      "execution_count": null,
      "outputs": [
        {
          "output_type": "execute_result",
          "data": {
            "text/plain": [
              "array([ 3130,     5,    14,  1525,     8,  6584,    15, 13772,   165,\n",
              "         127,  1921,     8,    30,   179,  2532,     4,    22,     9,\n",
              "         906,    18,     6,   176,     7,  1007,  1005,     4,  1375,\n",
              "         114,     4,   105,    26,    32,    55,   221,    11,    68,\n",
              "         205,    96,     5,     4,   192,    15,     4,   274,   410,\n",
              "         220,   304,    23,    94,   205,   109,     9,    55,    73,\n",
              "         224,   259,  3786,    15,     4,    22,   528,  1645,    34,\n",
              "           4,   130,   528,    30,   685,   345,    17,     4,   277,\n",
              "         199,   166,   281,     5,  1030,     8,    30,   179,  4442,\n",
              "         444, 13772,     9,     6,   371,    87,   189,    22,     5,\n",
              "          31,     7,     4,   118,     7,     4,  2068,   545,  1178,\n",
              "         829], dtype=int32)"
            ]
          },
          "metadata": {},
          "execution_count": 31
        }
      ]
    },
    {
      "cell_type": "code",
      "source": [
        "new = x_train"
      ],
      "metadata": {
        "id": "XFrT85yGRTl0"
      },
      "execution_count": null,
      "outputs": []
    },
    {
      "cell_type": "code",
      "source": [
        "padded_200 = pad_sequences(x_train, padding= 'post',maxlen = 200)"
      ],
      "metadata": {
        "id": "i9vuvmMkRYDE"
      },
      "execution_count": null,
      "outputs": []
    },
    {
      "cell_type": "code",
      "source": [
        "padded_200[100]"
      ],
      "metadata": {
        "colab": {
          "base_uri": "https://localhost:8080/"
        },
        "id": "MveOt7-XRlDF",
        "outputId": "67774c19-05ef-4ea2-ed2b-486ae4789644"
      },
      "execution_count": null,
      "outputs": [
        {
          "output_type": "execute_result",
          "data": {
            "text/plain": [
              "array([ 6728,     5,  1960,   279,    13,    92,   124,   803,    52,\n",
              "          21,   279,    14,     9,    43,     6,   762,     7,   595,\n",
              "          15,    16, 28911,    23,     4,  1071,   467,     4,   403,\n",
              "           7,   628,  2219,     8,    97,     6,   171,  3596,    99,\n",
              "         387,    72,    97,    12,   788,    15,    13,   161,   459,\n",
              "          44,     4,  3939,  1101,   173,    21,    69,     8,   401,\n",
              "       22239,     4,   481,    88,    61,  4731,   238,    28,    32,\n",
              "          11,    32,    14,     9,     6,   545,  1332,   766,     5,\n",
              "         203,    73,    28,    43,    77,   317,    11,     4, 22228,\n",
              "         953,   270,    17,     6,  3616,    13,   545,   386,    25,\n",
              "          92,  1142,   129,   278,    23,    14,   241,    46,     7,\n",
              "         158,     0,     0,     0,     0,     0,     0,     0,     0,\n",
              "           0,     0,     0,     0,     0,     0,     0,     0,     0,\n",
              "           0,     0,     0,     0,     0,     0,     0,     0,     0,\n",
              "           0,     0,     0,     0,     0,     0,     0,     0,     0,\n",
              "           0,     0,     0,     0,     0,     0,     0,     0,     0,\n",
              "           0,     0,     0,     0,     0,     0,     0,     0,     0,\n",
              "           0,     0,     0,     0,     0,     0,     0,     0,     0,\n",
              "           0,     0,     0,     0,     0,     0,     0,     0,     0,\n",
              "           0,     0,     0,     0,     0,     0,     0,     0,     0,\n",
              "           0,     0,     0,     0,     0,     0,     0,     0,     0,\n",
              "           0,     0,     0,     0,     0,     0,     0,     0,     0,\n",
              "           0,     0], dtype=int32)"
            ]
          },
          "metadata": {},
          "execution_count": 34
        }
      ]
    },
    {
      "cell_type": "code",
      "source": [
        "padded_200 = pad_sequences(x_train,padding = 'pre',maxlen=200)"
      ],
      "metadata": {
        "id": "GmieeLCqSnCd"
      },
      "execution_count": null,
      "outputs": []
    },
    {
      "cell_type": "code",
      "source": [
        "padded_200[10]"
      ],
      "metadata": {
        "colab": {
          "base_uri": "https://localhost:8080/"
        },
        "id": "4c4gZY3jSWKU",
        "outputId": "4147167c-d515-4201-b983-9d5af8649c5b"
      },
      "execution_count": null,
      "outputs": [
        {
          "output_type": "execute_result",
          "data": {
            "text/plain": [
              "array([  764,  6075,     5,  1030,     8,  2973,    73,   469,   167,\n",
              "        2127, 18281,  1568,     6,    87,   841,    18,     4,    22,\n",
              "           4,   192,    15,    91,     7,    12,   304,   273,  1004,\n",
              "           4,  1375,  1172,  2768, 12356,    15,     4,    22,   764,\n",
              "          55,  5773,     5,    14,  4233,  7444,     4,  1375,   326,\n",
              "           7,     4,  4760,  1786,     8,   361,  1236,     8,   989,\n",
              "          46,     7,     4,  2768,    45,    55,   776,     8,    79,\n",
              "         496,    98,    45,   400,   301,    15,     4,  1859,     9,\n",
              "           4,   155,    15,    66, 21885,    84,     5,    14,    22,\n",
              "        1534,    15,    17,     4,   167, 12356,    15,    75,    70,\n",
              "         115,    66,    30,   252,     7,   618,    51,     9,  2161,\n",
              "           4,  3130,     5,    14,  1525,     8,  6584,    15, 13772,\n",
              "         165,   127,  1921,     8,    30,   179,  2532,     4,    22,\n",
              "           9,   906,    18,     6,   176,     7,  1007,  1005,     4,\n",
              "        1375,   114,     4,   105,    26,    32,    55,   221,    11,\n",
              "          68,   205,    96,     5,     4,   192,    15,     4,   274,\n",
              "         410,   220,   304,    23,    94,   205,   109,     9,    55,\n",
              "          73,   224,   259,  3786,    15,     4,    22,   528,  1645,\n",
              "          34,     4,   130,   528,    30,   685,   345,    17,     4,\n",
              "         277,   199,   166,   281,     5,  1030,     8,    30,   179,\n",
              "        4442,   444, 13772,     9,     6,   371,    87,   189,    22,\n",
              "           5,    31,     7,     4,   118,     7,     4,  2068,   545,\n",
              "        1178,   829], dtype=int32)"
            ]
          },
          "metadata": {},
          "execution_count": 43
        }
      ]
    },
    {
      "cell_type": "code",
      "source": [
        "padded_200 = pad_sequences(x_train,padding = 'pre',maxlen = 200 , value = 1)"
      ],
      "metadata": {
        "id": "lyQbP3aGShbk"
      },
      "execution_count": null,
      "outputs": []
    },
    {
      "cell_type": "code",
      "source": [
        "padded_200[100]"
      ],
      "metadata": {
        "colab": {
          "base_uri": "https://localhost:8080/"
        },
        "id": "a8dVtYjqTIGJ",
        "outputId": "459bf9dd-881c-47f1-cd81-bfd128f9cab9"
      },
      "execution_count": null,
      "outputs": [
        {
          "output_type": "execute_result",
          "data": {
            "text/plain": [
              "array([    1,     1,     1,     1,     1,     1,     1,     1,     1,\n",
              "           1,     1,     1,     1,     1,     1,     1,     1,     1,\n",
              "           1,     1,     1,     1,     1,     1,     1,     1,     1,\n",
              "           1,     1,     1,     1,     1,     1,     1,     1,     1,\n",
              "           1,     1,     1,     1,     1,     1,     1,    13,   244,\n",
              "           6,    87,   337,     7,   628,  2219,     5,    28,   285,\n",
              "          15,   240,    93,    23,   288,   549,    18,  1455,   673,\n",
              "           4,   241,   534,  3635,  8448,    20,    38,    54,    13,\n",
              "         258,    46,    44,    14,    13,  1241,  7258,    12,     5,\n",
              "           5,    51,     9,    14,    45,     6,   762,     7, 17802,\n",
              "        1309,   328,     5,   428,  2473,    15,    26,  1292,     5,\n",
              "        3939,  6728,     5,  1960,   279,    13,    92,   124,   803,\n",
              "          52,    21,   279,    14,     9,    43,     6,   762,     7,\n",
              "         595,    15,    16, 28911,    23,     4,  1071,   467,     4,\n",
              "         403,     7,   628,  2219,     8,    97,     6,   171,  3596,\n",
              "          99,   387,    72,    97,    12,   788,    15,    13,   161,\n",
              "         459,    44,     4,  3939,  1101,   173,    21,    69,     8,\n",
              "         401, 22239,     4,   481,    88,    61,  4731,   238,    28,\n",
              "          32,    11,    32,    14,     9,     6,   545,  1332,   766,\n",
              "           5,   203,    73,    28,    43,    77,   317,    11,     4,\n",
              "       22228,   953,   270,    17,     6,  3616,    13,   545,   386,\n",
              "          25,    92,  1142,   129,   278,    23,    14,   241,    46,\n",
              "           7,   158], dtype=int32)"
            ]
          },
          "metadata": {},
          "execution_count": 46
        }
      ]
    },
    {
      "cell_type": "code",
      "source": [
        "padded_200 = pad_sequences(padded_200,truncating = 'pre', maxlen=20 , value=1)\n",
        "padded_200[10]"
      ],
      "metadata": {
        "colab": {
          "base_uri": "https://localhost:8080/"
        },
        "id": "nF7ktn3QTL02",
        "outputId": "6a425c8c-871b-42ba-c97d-f777a51df9a8"
      },
      "execution_count": null,
      "outputs": [
        {
          "output_type": "execute_result",
          "data": {
            "text/plain": [
              "array([ 4442,   444, 13772,     9,     6,   371,    87,   189,    22,\n",
              "           5,    31,     7,     4,   118,     7,     4,  2068,   545,\n",
              "        1178,   829], dtype=int32)"
            ]
          },
          "metadata": {},
          "execution_count": 47
        }
      ]
    },
    {
      "cell_type": "code",
      "source": [
        "padded_200 = pad_sequences(padded_200,truncating='post',maxlen= 20,value=1)\n",
        "padded_200[10]"
      ],
      "metadata": {
        "colab": {
          "base_uri": "https://localhost:8080/"
        },
        "id": "IpDsWMWyTjnU",
        "outputId": "6d1ce412-a007-4f50-ba82-715cb481ffae"
      },
      "execution_count": null,
      "outputs": [
        {
          "output_type": "execute_result",
          "data": {
            "text/plain": [
              "array([ 4442,   444, 13772,     9,     6,   371,    87,   189,    22,\n",
              "           5,    31,     7,     4,   118,     7,     4,  2068,   545,\n",
              "        1178,   829], dtype=int32)"
            ]
          },
          "metadata": {},
          "execution_count": 48
        }
      ]
    },
    {
      "cell_type": "code",
      "source": [],
      "metadata": {
        "id": "ZCPHIg5HT3rk"
      },
      "execution_count": null,
      "outputs": []
    }
  ]
}