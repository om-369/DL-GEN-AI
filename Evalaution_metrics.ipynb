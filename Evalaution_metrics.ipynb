{
  "nbformat": 4,
  "nbformat_minor": 0,
  "metadata": {
    "colab": {
      "private_outputs": true,
      "provenance": [],
      "authorship_tag": "ABX9TyNhNZm63w+/lqBcRstLpvPm"
    },
    "kernelspec": {
      "name": "python3",
      "display_name": "Python 3"
    },
    "language_info": {
      "name": "python"
    }
  },
  "cells": [
    {
      "cell_type": "markdown",
      "source": [
        "# Classification"
      ],
      "metadata": {
        "id": "4TgF7rAlnExK"
      }
    },
    {
      "cell_type": "markdown",
      "source": [
        "- Type 1 Error : (False Positive) ---> spam mail\n",
        "- Type 2 Error : (False Negative) ---> fraud mail or disease prediction"
      ],
      "metadata": {
        "id": "tjSqkS_IntoY"
      }
    },
    {
      "cell_type": "markdown",
      "source": [
        "- Aaccuracy  : how many samples are correctly classifed\n",
        "- accuracy = correct / total = TP + TN / TP+FP+TN+FN\n",
        "\n",
        "- Precision  : What proportion of predicted positives are truely positive\n",
        "- precision  = TP/TP +FP\n",
        "\n",
        "- Recall     : What proportion of actual Positive are correctly classified\n",
        "- Recall = TP/TP + FN\n",
        "\n",
        "- F1 Score : Harmonic mean  of precision and recall\n",
        "- F1 Score = 2 PR/P + R"
      ],
      "metadata": {
        "id": "PwsGx3ruoK3B"
      }
    },
    {
      "cell_type": "markdown",
      "source": [
        "## Single numerical Score"
      ],
      "metadata": {
        "id": "9_K_q61zqX5s"
      }
    },
    {
      "cell_type": "markdown",
      "source": [
        "## BLEU ---> (Bilingual evalution understudy)"
      ],
      "metadata": {
        "id": "m-ritnziqe7u"
      }
    },
    {
      "cell_type": "code",
      "execution_count": null,
      "metadata": {
        "id": "4QIW5PFVm0sY"
      },
      "outputs": [],
      "source": [
        "# hindi --- > mat ke upar cat hai\n",
        "# reference1 : The cat is on the mat\n",
        "# reference2 : there is cat on the mat"
      ]
    },
    {
      "cell_type": "markdown",
      "source": [
        "Precision in BLEU : what propotional of token are truely present in reference"
      ],
      "metadata": {
        "id": "NeNjKuD9sg-N"
      }
    },
    {
      "cell_type": "markdown",
      "source": [
        "### Precision\n",
        "- reference1 : Im currently out of office\n",
        "- MT output : I am currently not in office\n",
        "- 1+1+1+0+0+1/6 = 4/6"
      ],
      "metadata": {
        "id": "EEBNclNqs2lw"
      }
    },
    {
      "cell_type": "markdown",
      "source": [
        "### modidifed Precision\n",
        "- Reference 1 : Im currently out of office\n",
        "- MT  output : I I I I I\n",
        "- I 2\n",
        "- 1/5 = 5/5 = 1"
      ],
      "metadata": {
        "id": "JuApWnI-tqDR"
      }
    },
    {
      "cell_type": "markdown",
      "source": [
        "### brevity penalty\n",
        "\n",
        "- reference 1 : Im currently out of office\n",
        "- MT output : I am\n",
        "- BP = 1 if len(MT output)> len(reference) else exp(1-len(MToutput)/len(reference)\n",
        "- 1 -(2/6) 1-0.33 == 0.66\n",
        "- 1*0.66"
      ],
      "metadata": {
        "id": "akPy2HxUus3l"
      }
    },
    {
      "cell_type": "code",
      "source": [
        "# reference1 = I am currently out of office\n",
        "# MT output = I am currently not in office"
      ],
      "metadata": {
        "id": "jOyCBzGenB0I"
      },
      "execution_count": null,
      "outputs": []
    },
    {
      "cell_type": "markdown",
      "source": [
        "### Bigram\n",
        "- reference1 = I am currently out of office\n",
        "- MT output = I am currently not in office\n",
        "\n",
        "- 1+1+0+0+0 /5 = 2/5\n",
        "- sum (unigram + bigram .... + n_gram) /n *B.P"
      ],
      "metadata": {
        "id": "y7ScH8KOwrNR"
      }
    },
    {
      "cell_type": "markdown",
      "source": [
        "### METEOR ---> Metric for Evaluation of Translation explicit ordering"
      ],
      "metadata": {
        "id": "H49NqWD9xxch"
      }
    },
    {
      "cell_type": "code",
      "source": [],
      "metadata": {
        "id": "JQhSrXbMyRBz"
      },
      "execution_count": null,
      "outputs": []
    },
    {
      "cell_type": "markdown",
      "source": [
        "#### BLEU score focuses on Precision\n",
        "#### Order is not considered in BLEU score"
      ],
      "metadata": {
        "id": "NJXQqr9nx_kA"
      }
    },
    {
      "cell_type": "code",
      "source": [
        "# reference 1 : the cat sat on the mat\n",
        "# MT output : on the cat mat sat"
      ],
      "metadata": {
        "id": "6nqzCFoEwpxv"
      },
      "execution_count": null,
      "outputs": []
    },
    {
      "cell_type": "markdown",
      "source": [
        "- P = no. of unigrams in the MT that found in Reference / no. of unigrams in MT output\n",
        "- R =  no. of unigrams in the MT that found in reference / no. of unigrams in reference\n",
        "- f1 = 10pr/r +9p"
      ],
      "metadata": {
        "id": "x0AA25qqzALN"
      }
    },
    {
      "cell_type": "code",
      "source": [],
      "metadata": {
        "id": "xRPAE5mfy-cH"
      },
      "execution_count": null,
      "outputs": []
    },
    {
      "cell_type": "markdown",
      "source": [
        "### Chunk Penelaty ⭕\n",
        "- no of chunk in mt output / no.of unigrams in mt"
      ],
      "metadata": {
        "id": "cMgRBAlzz5EZ"
      }
    },
    {
      "cell_type": "code",
      "source": [],
      "metadata": {
        "id": "V-9qXLaT0eLp"
      },
      "execution_count": null,
      "outputs": []
    }
  ]
}